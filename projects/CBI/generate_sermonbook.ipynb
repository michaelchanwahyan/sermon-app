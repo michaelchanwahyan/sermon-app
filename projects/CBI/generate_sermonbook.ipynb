{
 "cells": [
  {
   "cell_type": "code",
   "execution_count": null,
   "id": "7a2908dc",
   "metadata": {
    "tags": []
   },
   "outputs": [],
   "source": [
    "import os.path\n",
    "import pickle as pkl\n",
    "import re\n",
    "#from re import compile as recompile\n",
    "print('done !')"
   ]
  },
  {
   "cell_type": "code",
   "execution_count": null,
   "id": "8419d9bc-2140-4e84-9c45-4a3f118a826a",
   "metadata": {
    "tags": []
   },
   "outputs": [],
   "source": [
    "with open(\"code_dictionary.pkl\", \"rb\") as fp:\n",
    "    c2p_dict, bk2bkorder_dict, c2b_dict, c2ch_dict, c2v_dict, c2s_dict, c2t_dict, c2bvc_dict = pkl.load(fp)\n",
    "fp.close()"
   ]
  },
  {
   "cell_type": "code",
   "execution_count": null,
   "id": "f9cfd2e1-146e-4c58-9771-03d001697357",
   "metadata": {
    "tags": []
   },
   "outputs": [],
   "source": [
    "with open(\"x2code_dictionary.pkl\", \"rb\") as fp:\n",
    "    p2c_dict, b2c_dict = pkl.load(fp)\n",
    "fp.close()"
   ]
  },
  {
   "cell_type": "code",
   "execution_count": null,
   "id": "3a01c855-3b50-4c91-855b-fe74c6c90eec",
   "metadata": {
    "tags": []
   },
   "outputs": [],
   "source": [
    "# # generate\n",
    "# preacher 1\n",
    "#  --------------------------------\n",
    "# | Book  Ch:Vs  Theme  Date  Code\n",
    "# |--------------------------------\n",
    "# |  .\n",
    "# |  .\n",
    "# |  .\n",
    "# |\n",
    "#  --------------------------------\n",
    "#\n",
    "# preacher 2\n",
    "#  --------------------------------\n",
    "# | Book  Ch:Vs  Theme  Date  Code\n",
    "# |--------------------------------\n",
    "# |  .\n",
    "# |  .\n",
    "# |  .\n",
    "# |\n",
    "#  --------------------------------\n",
    "#"
   ]
  },
  {
   "cell_type": "code",
   "execution_count": null,
   "id": "343177ae-aef8-42b5-be76-1cc7b06f20fe",
   "metadata": {
    "tags": []
   },
   "outputs": [],
   "source": []
  },
  {
   "cell_type": "code",
   "execution_count": null,
   "id": "490df759-aa93-43f0-8a4c-615a1a66a342",
   "metadata": {
    "tags": []
   },
   "outputs": [],
   "source": []
  },
  {
   "cell_type": "markdown",
   "id": "6e469a86-5ee4-4f19-9006-22c35314835c",
   "metadata": {},
   "source": [
    "### print the latex document : sermon content"
   ]
  },
  {
   "cell_type": "code",
   "execution_count": null,
   "id": "6a679860-c798-48c6-a389-cef84d1ee0d6",
   "metadata": {
    "tags": []
   },
   "outputs": [],
   "source": [
    "with open('../rep_common.txt', 'r') as fp:\n",
    "    rep_list = [ _.strip() for _ in fp.readlines() ]\n",
    "fp.close()\n",
    "rep_list = [ _.split(\", '\", 1) for _ in rep_list ]\n",
    "rep_list = [ [_[0], _[1][:-1]] for _ in rep_list ]"
   ]
  },
  {
   "cell_type": "code",
   "execution_count": null,
   "id": "f5317a9c-b56d-400d-bf1a-d16fff2e31de",
   "metadata": {
    "tags": []
   },
   "outputs": [],
   "source": [
    "# compile regular expression rgx to cater math symbol '^'\n",
    "rgx = re.compile(r'([A-Za-z0-9=+\\-]+)\\^([A-Za-z0-9=+\\-]+)')\n",
    "print('checking of \"rgx.sub(r\\'$\\\\1^\\\\2$\\', \\'E=MC^-2\\')\" :', rgx.sub(r'$\\1^\\2$', 'E=MC^-2'))\n",
    "\n",
    "\n",
    "def cleanse_special_char(inputText):\n",
    "    txt2 = inputText\n",
    "    txt2 = txt2.replace('$','\\$') # preserve this here since its higher priority than in html arguments\n",
    "    txt2 = rgx.sub(r'$\\1^\\2$', txt2)\n",
    "    for rep_ in rep_list:\n",
    "        txt2 = txt2.replace(rep_[0], rep_[1])\n",
    "    txt2 = txt2.replace('&', ' and ') # preserve this here since its lower priority than in html arguments\n",
    "    txt2 = txt2.strip()\n",
    "    return txt2"
   ]
  },
  {
   "cell_type": "code",
   "execution_count": null,
   "id": "9f6f7560-1bfc-4396-8911-6ba21d846cc6",
   "metadata": {
    "tags": []
   },
   "outputs": [],
   "source": [
    "with open('../rep_whisper_trailing.txt', 'r') as fp:\n",
    "    whisper_trailing_rep_list = [ cleanse_special_char(_.strip()) for _ in fp.readlines() ]\n",
    "fp.close()"
   ]
  },
  {
   "cell_type": "code",
   "execution_count": null,
   "id": "cd9d76b5-6b1d-4430-9236-b66a901676ce",
   "metadata": {
    "tags": []
   },
   "outputs": [],
   "source": [
    "p_list = list(p2c_dict.keys())\n",
    "print(p_list)"
   ]
  },
  {
   "cell_type": "code",
   "execution_count": null,
   "id": "4f4e5c0b-aba3-4df5-a8f8-6ddb0c22ba5d",
   "metadata": {
    "tags": []
   },
   "outputs": [],
   "source": [
    "with open(\"./index_byn.csv\", \"r\") as fp:\n",
    "    lines = fp.readlines()\n",
    "fp.close()"
   ]
  },
  {
   "cell_type": "code",
   "execution_count": null,
   "id": "f020c06d-08ae-4c7b-931e-0bcec4ed881a",
   "metadata": {
    "tags": []
   },
   "outputs": [],
   "source": [
    "# sermon tex generation\n",
    "progressStepCnt = 0\n",
    "# --------------------------------------\n",
    "# read the index table and only take\n",
    "# into account within desired year range\n",
    "# --------------------------------------\n",
    "progressStepCnt += 1\n",
    "print(f\"Step {progressStepCnt}: reading in full index file\")\n",
    "with open('./index_byn.csv', 'r') as fp:\n",
    "    lines = fp.readlines()\n",
    "fp.close()\n",
    "\n",
    "sermon_tex_filepath = f\"../../build/CBI/sermon_CBI.tex\"\n",
    "# --------------------------------------\n",
    "# print the latex document : prefix\n",
    "# --------------------------------------\n",
    "progressStepCnt += 1\n",
    "print(f\"Step {progressStepCnt}: printing out prefixing\")\n",
    "_ = os.system(f\"cat ../prefix.tex | sed 's/粵語講道逐字稿/漢語聖經協會 粵語講道逐字稿/' | sed 's/Youtube Channel:/Youtube Channel: Chinese Bible International/' > \" + sermon_tex_filepath)"
   ]
  },
  {
   "cell_type": "markdown",
   "id": "c05181c1-e245-4d55-ad6b-f112a4159307",
   "metadata": {},
   "source": [
    "## generate index table in naming order"
   ]
  },
  {
   "cell_type": "code",
   "execution_count": null,
   "id": "391145d3-e80c-4a25-adfa-1bd8f3f7c105",
   "metadata": {
    "tags": []
   },
   "outputs": [],
   "source": [
    "progressStepCnt += 1\n",
    "print(f\"Step {progressStepCnt}: generate index in chronic order\")\n",
    "with open(\"./index_byn.csv\", \"r\") as fp:\n",
    "    lines = fp.readlines()\n",
    "fp.close()\n",
    "# --------------------------------------\n",
    "# index table sorted by chronic order\n",
    "# --------------------------------------\n",
    "progressStepCnt += 1\n",
    "print(f\"Step {progressStepCnt}: writing TOC in chronic order\")\n",
    "with open(sermon_tex_filepath, \"a\") as fp:\n",
    "    sermonCnt = 0\n",
    "    fp.write(\"\\\\section{目錄}\\n\")\n",
    "    fp.write(\"\\\\label{sec:index}\\n\")\n",
    "    fp.write(\"{ \\\\scriptsize\\n\")\n",
    "    # --------------------------------------\n",
    "    # start of TOC table\n",
    "    # --------------------------------------\n",
    "    fp.write(\"\\n\\n\\\\begin{xltabular}{\\\\textwidth}{|p{0.15\\\\textwidth} p{0.6\\\\textwidth}|p{0.07\\\\textwidth} p{0.1\\\\textwidth}|}\\n\") # lllr: bk+v/ch, theme, date, youtube-code\n",
    "    fp.write(\"\\\\hline\\n\")\n",
    "    # --------------------------------------\n",
    "    # lines is the line content in index_byn\n",
    "    # --------------------------------------\n",
    "    for lineId in range(len(lines)):\n",
    "        line = lines[lineId]\n",
    "        cc = line.split(\",\")[0]\n",
    "        # --------------------------------------\n",
    "        # only include this code cc if it is\n",
    "        # ready in the transcription folder\n",
    "        # --------------------------------------\n",
    "        if os.path.isfile(f'../../data/CBI/{cc}.txt'):\n",
    "            sermonCnt += 1\n",
    "            pstr = c2p_dict.get(cc, ' ')\n",
    "            bstr = c2b_dict.get(cc, ' ')\n",
    "            vstr = c2v_dict.get(cc, ' ')\n",
    "            sstr = cleanse_special_char(\n",
    "                c2s_dict.get(cc, ' ').replace('_','\\_').replace('&','\\&')\n",
    "            )\n",
    "            tstr = c2t_dict.get(cc, ' ')\n",
    "            ystr = \"\\\\href{https://youtube.com/watch?v=\" + cc +\"}{\\\\texttt{ \" + cc.replace('_','\\_') + \"}}\"\n",
    "            fp.write(bstr + ' ' + vstr + \" & \" \\\n",
    "                     + \"\\\\hyperref[sec:\"+cc.replace('-','_')+\"]{\"+sstr+\"}\" + \" & \" \\\n",
    "                     + tstr + \" & \" \\\n",
    "                     + ystr \\\n",
    "                     + \" \\\\\\\\\\n\")\n",
    "    fp.write(\"\\\\end{xltabular}\\n\")\n",
    "    # --------------------------------------\n",
    "    # end of table sorted by chronic order\n",
    "    # --------------------------------------\n",
    "    fp.write(\"}\\n\")\n",
    "    print('sermon count in current book: %d' % sermonCnt)\n",
    "    fp.write(\"\\\\newpage\\n\\n\")\n",
    "fp.close()"
   ]
  },
  {
   "cell_type": "markdown",
   "id": "55857f5e-d36d-4226-99eb-128f15a563ea",
   "metadata": {},
   "source": [
    "## generate main content"
   ]
  },
  {
   "cell_type": "code",
   "execution_count": null,
   "id": "5447f227-5b0a-4389-b216-d3304ef5bcc5",
   "metadata": {
    "tags": []
   },
   "outputs": [],
   "source": [
    "with open(\"./index_byn.csv\", \"r\") as fp:\n",
    "    lines = fp.readlines()\n",
    "fp.close()\n",
    "progressStepCnt += 1\n",
    "print(f\"Step {progressStepCnt}: generate main content\")\n",
    "cc_prev = ''\n",
    "cc_next = ''\n",
    "# --------------------------------------\n",
    "# lines is the line content in index_byn\n",
    "# --------------------------------------\n",
    "for lineId in range(len(lines)):\n",
    "    line = lines[lineId]\n",
    "    cc = line.split(\",\")[0]\n",
    "    cc_prev = lines[(lineId-1)%len(lines)].split(\",\")[0]\n",
    "    cc_next = lines[(lineId+1)%len(lines)].split(\",\")[0]\n",
    "    if os.path.isfile(f'../../data/CBI/{cc}.txt'):\n",
    "        with open(sermon_tex_filepath, \"a\") as fp:\n",
    "            #fp.write(\"\\n\\n\\\\section{\"+c2s_dict.get(cc).replace('_','\\\\_')+\"}\\n\")\n",
    "            sectionNameStr = ''\n",
    "            b = c2b_dict.get(cc)\n",
    "            sectionNameStr += b if b is not None else ''\n",
    "            v = c2v_dict.get(cc)\n",
    "            sectionNameStr += ' ' + v if b is not None and v is not None else ''\n",
    "            ch = c2ch_dict.get(cc)\n",
    "            sectionNameStr += ' ' + ch if b is not None and ch is not None and v is None else ''\n",
    "            fp.write(\"\\n\\n\\\\section{\"+sectionNameStr+\"}\\n\")\n",
    "            fp.write(\"\\\\label{sec:\"+cc.replace('-','_')+\"}\\n\")\n",
    "            sstr = cleanse_special_char(\n",
    "                c2s_dict.get(cc, ' ').replace('_','\\_').replace('&','\\&')\n",
    "            )\n",
    "            fp.write(\"\\\\textbf{\"+sstr+\"}\\n\")\n",
    "            fp.write(\"\\\\newline\\n\\\\newline\\n\")\n",
    "            fp.write(\"連結: \\\\href{https://youtube.com/watch?v=\" + cc +\"}{\\\\texttt{ https://youtube.com/watch?v=\" + cc.replace('_','\\_') + \"}} ~~~~ 語音日期: \" + c2t_dict.get(cc) + \" \\n\")\n",
    "            fp.write(\"\\\\newline\\n\\\\newline\\n\")\n",
    "            fp.write(\"\\\\hyperref[sec:\"+cc_prev.replace('-','_')+\"]{\\\\small{< < < PREV SERMON < < <}}\\n\")\n",
    "            fp.write(\"~\\n\")\n",
    "            fp.write(\"\\\\hyperref[sec:index]{\\\\small{[返主目錄]}}\\n\")\n",
    "            fp.write(\"~\\n\")\n",
    "            fp.write(\"\\\\hyperref[sec:\"+cc_next.replace('-','_')+\"]{\\\\small{> > > NEXT SERMON > > >}}\\n\")\n",
    "            fp.write(\"\\\\newline\\n\\\\newline\\n\")\n",
    "        fp.close()\n",
    "        with open(sermon_tex_filepath, \"a\") as fp:\n",
    "            # ----------------------\n",
    "            # add the scripture part if not None\n",
    "            bvc_curr = c2bvc_dict.get(cc)\n",
    "            if bvc_curr is not None:\n",
    "                bvc_curr = bvc_curr.split(\"\\n\")\n",
    "                # first row shall be book + verse info\n",
    "                bvc_line = bvc_curr[0].strip() + \"\\n\"\n",
    "                fp.write(bvc_line)\n",
    "                fp.write(\"\\\\newline\\n\")\n",
    "                fp.write(\"\\\\begin{longtable}{cl}\\n\")\n",
    "                fp.write(\"\\\\hline\\n\\\\hline\\n\")\n",
    "                fp.write(\"章節 & 經文 (和合本修訂版)\\\\\\\\\\n\")\n",
    "                fp.write(\"\\\\hline\\n\")\n",
    "                for bvc_line in bvc_curr[1:]:\n",
    "                    bvc_line = bvc_line.strip()\n",
    "                    if len(bvc_line) > 0:\n",
    "                        if bvc_line != [ _.strip() for _ in bvc_curr if len(_.strip()) ][-1]:\n",
    "                            bvc_line += \" \\\\\\\\ \\\\\\\\ \\\\relax\\n\"\n",
    "                        else:\n",
    "                            bvc_line += \" \\\\\\\\ \\\\\\\\\\n\"\n",
    "                        si = bvc_line.find(\" \")\n",
    "                        if si == -1:\n",
    "                            bvc_line = \"& \" + \"\\\\begin{tabularx}{0.7\\\\textwidth}{X} \" + bvc_line + \" \\\\end{tabularx}\"\n",
    "                        else:\n",
    "                            bvc_line = bvc_line[:si].replace(\".\",\":\") +  \" & \" + \"\\\\begin{tabularx}{0.7\\\\textwidth}{X} \" + bvc_line[si+1:]\n",
    "                            nli = bvc_line.find(\" \\\\\\\\\") # newline char index\n",
    "                            bvc_line = bvc_line[:nli] + \" \\\\end{tabularx}\" + bvc_line[nli:]\n",
    "                        fp.write(bvc_line)\n",
    "                fp.write(\"[1ex]\\n\")\n",
    "                fp.write(\"\\\\hline\\n\\\\hline\\n\")\n",
    "                fp.write(\"\\\\end{longtable}\\n\")\n",
    "            # ----------------------\n",
    "            # add the sermon part\n",
    "            with open(\"../../data/CBI/\"+cc+\".txt\", \"r\") as fp_:\n",
    "                the_sermon_text = fp_.read()\n",
    "            fp_.close()\n",
    "            the_sermon_text = cleanse_special_char(the_sermon_text)\n",
    "            the_sermon_text = the_sermon_text.replace(\"\\\\n\\\\n\",\"\\\\n\")\n",
    "            textlines = the_sermon_text.split(\"\\n\")\n",
    "            _textrow_cnt = 0\n",
    "            textline_prev = ''\n",
    "            for textline in textlines:\n",
    "                if textline == textline_prev:\n",
    "                    textline_prev = textline\n",
    "                    continue\n",
    "                elif textline.strip() in whisper_trailing_rep_list:\n",
    "                    continue\n",
    "                else:\n",
    "                    textline_prev = textline\n",
    "                _textrow_cnt += 1\n",
    "                if _textrow_cnt % 40 == 1:\n",
    "                    fp.write(\"$^{%d}$\" % _textrow_cnt)\n",
    "                if textline.count('$') == 1:\n",
    "                    # if the text line contains odd number of\n",
    "                    # dollar sign '$', it would probably bring up error\n",
    "                    # over 95% of the situation is that there only has 1 '$' sign\n",
    "                    textline = textline.replace('$', '\\\\$')\n",
    "                fp.write(textline + \"\\n\")\n",
    "                if _textrow_cnt % 40 == 0:\n",
    "                    fp.write(\"\\n\")\n",
    "            fp.write(\"\\\\newpage\\n\\n\")\n",
    "        fp.close()\n",
    "\n",
    "progressStepCnt += 1\n",
    "print(f\"Step {progressStepCnt}: generate afterward and postfix\")\n",
    "# --------------------------------------\n",
    "# print the latex document : afterword\n",
    "# --------------------------------------\n",
    "_ = os.system(\"cat ../afterword.tex >> \" + sermon_tex_filepath)\n",
    "# --------------------------------------\n",
    "# print the latex document : postfix\n",
    "# --------------------------------------\n",
    "_ = os.system(\"cat ../postfix.tex >> \" + sermon_tex_filepath)\n",
    "print(\"done !\")"
   ]
  },
  {
   "cell_type": "code",
   "execution_count": null,
   "id": "58257a32-cbbd-4fc2-82cf-59b4d885e537",
   "metadata": {},
   "outputs": [],
   "source": []
  },
  {
   "cell_type": "code",
   "execution_count": null,
   "id": "93a5ec78-277e-4b61-ab23-265f4bd216f3",
   "metadata": {},
   "outputs": [],
   "source": []
  }
 ],
 "metadata": {
  "kernelspec": {
   "display_name": "Python 3 (ipykernel)",
   "language": "python",
   "name": "python3"
  },
  "language_info": {
   "codemirror_mode": {
    "name": "ipython",
    "version": 3
   },
   "file_extension": ".py",
   "mimetype": "text/x-python",
   "name": "python",
   "nbconvert_exporter": "python",
   "pygments_lexer": "ipython3",
   "version": "3.10.10"
  }
 },
 "nbformat": 4,
 "nbformat_minor": 5
}
