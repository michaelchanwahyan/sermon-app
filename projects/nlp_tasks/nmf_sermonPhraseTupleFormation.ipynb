{
 "cells": [
  {
   "cell_type": "code",
   "execution_count": null,
   "id": "b38eacd2-e38e-446c-87ab-da676f0add44",
   "metadata": {
    "tags": []
   },
   "outputs": [],
   "source": [
    "import os\n",
    "from datetime import datetime\n",
    "import pickle as pkl\n",
    "\n",
    "import re\n",
    "import multiprocessing"
   ]
  },
  {
   "cell_type": "code",
   "execution_count": null,
   "id": "92b53f25-eed0-4d5a-998c-d2a12d05acca",
   "metadata": {
    "tags": []
   },
   "outputs": [],
   "source": [
    "THREAD_NUM = 4"
   ]
  },
  {
   "cell_type": "code",
   "execution_count": null,
   "id": "ae53ce62-2690-4807-8d14-79bcaa716ddd",
   "metadata": {
    "tags": []
   },
   "outputs": [],
   "source": [
    "with open('phrase_list_total.txt', 'r') as fp:\n",
    "    phrase_list_total = fp.read().split('\\n')\n",
    "fp.close()\n",
    "phrase_list_total = [ _ for _ in phrase_list_total if len(_) ]"
   ]
  },
  {
   "cell_type": "code",
   "execution_count": null,
   "id": "d82a9451-841b-43c8-aa43-fbbaa0be8591",
   "metadata": {
    "tags": []
   },
   "outputs": [],
   "source": [
    "MAX_PID = len(phrase_list_total) - 1\n",
    "print('total size of phrase_list_total:', MAX_PID+1)"
   ]
  },
  {
   "cell_type": "code",
   "execution_count": null,
   "id": "097044f8-f69a-431f-9a44-62fd35a2ab70",
   "metadata": {
    "tags": []
   },
   "outputs": [],
   "source": [
    "PROJ_NAME_LIST = [\n",
    "    'ACSMHK',\n",
    "    'CBI',\n",
    "    'CGST',\n",
    "    'DSCCC',\n",
    "    'FLWC',\n",
    "    'FVC',\n",
    "    'HKBC',\n",
    "    'JNG',\n",
    "    'KFC',\n",
    "    'STBC',\n",
    "    'WWBS',\n",
    "    'YFCX',\n",
    "    'YOS'\n",
    "]"
   ]
  },
  {
   "cell_type": "code",
   "execution_count": null,
   "id": "7aecdb34-d4ee-4e8b-8690-c8a99ecf7dfb",
   "metadata": {
    "tags": []
   },
   "outputs": [],
   "source": [
    "sermonpathfilelist = []\n",
    "for PROJ_NAME in PROJ_NAME_LIST:\n",
    "    data_dir_name_curr = '../../data/' + PROJ_NAME + '/'\n",
    "    sermonpathfilelist += [ \n",
    "        data_dir_name_curr + _ \n",
    "        for _ in os.listdir(data_dir_name_curr)\n",
    "    ]\n",
    "sermonpathfilelist = sorted(sermonpathfilelist)"
   ]
  },
  {
   "cell_type": "code",
   "execution_count": null,
   "id": "a6043d36-e11f-4e9f-9126-43ccd5d2b151",
   "metadata": {
    "tags": []
   },
   "outputs": [],
   "source": [
    "dict_sid2spfn = {} # dictionary mapping of sermon-id to sermon-pathfilename\n",
    "for sid, sermonpathfilename in enumerate(sermonpathfilelist):\n",
    "    dict_sid2spfn[sid] = sermonpathfilename\n",
    "\n",
    "MAX_SID = sid\n",
    "print('maximum sermon-id : %d' % MAX_SID)"
   ]
  },
  {
   "cell_type": "code",
   "execution_count": null,
   "id": "cca14a47-4872-433a-adde-4aa86a750a84",
   "metadata": {
    "tags": []
   },
   "outputs": [],
   "source": [
    "def get_sermontext(insid):\n",
    "    input_path_file_name = dict_sid2spfn.get(insid)\n",
    "    with open(input_path_file_name, 'r') as fp:\n",
    "        text = fp.read().replace('\\n', '').strip()\n",
    "    fp.close()\n",
    "    return text"
   ]
  },
  {
   "cell_type": "code",
   "execution_count": null,
   "id": "e52523ae-c8eb-4c37-93d4-c142d3d319bd",
   "metadata": {
    "tags": []
   },
   "outputs": [],
   "source": [
    "with open('../rep_common.txt', 'r') as fp:\n",
    "    REP_LIST = [ _.strip() for _ in fp.readlines() ]\n",
    "fp.close()\n",
    "REP_LIST = [ _.split(\", '\", 1) for _ in REP_LIST ]\n",
    "REP_LIST = [ [_[0], _[1][:-1]] for _ in REP_LIST ]"
   ]
  },
  {
   "cell_type": "code",
   "execution_count": null,
   "id": "a709ec77-45cd-4b01-88d4-7d7bf8dbb350",
   "metadata": {
    "tags": []
   },
   "outputs": [],
   "source": [
    "def cleanse_special_char(inputText):\n",
    "    txt2 = inputText\n",
    "    for rep_ in REP_LIST:\n",
    "        txt2 = txt2.replace(rep_[0], rep_[1])\n",
    "    txt2 = txt2.strip()\n",
    "    return txt2"
   ]
  },
  {
   "cell_type": "code",
   "execution_count": null,
   "id": "64331007-1e9b-47be-a200-f1855fbd3324",
   "metadata": {
    "tags": []
   },
   "outputs": [],
   "source": [
    "def symbol_removal(inputText):\n",
    "    txt2 = inputText\\\n",
    "        .replace(' ', '').replace('.', '').replace(',', '') \\\n",
    "        .replace('?', '').replace('!', '').replace('-', '') \\\n",
    "        .replace('(', '').replace(')', '').replace('+', '') \\\n",
    "        .replace('[', '').replace(']', '').replace('*', '') \\\n",
    "        .replace('^', '').replace('$', '').replace('%', '') \\\n",
    "        .replace('#', '').replace('@', '') \\\n",
    "        .replace('\\\\', '')\n",
    "    return txt2"
   ]
  },
  {
   "cell_type": "code",
   "execution_count": null,
   "id": "57208487-b33d-4cf2-b8d5-3dab130a9e48",
   "metadata": {
    "tags": []
   },
   "outputs": [],
   "source": [
    "# sermonText-to-phrase matrix dimension:\n",
    "# MAX_SID x MAX_PID\n",
    "\n",
    "dict_sid2s = {}"
   ]
  },
  {
   "cell_type": "code",
   "execution_count": null,
   "id": "4441a219-e841-4f8c-8bd1-9ecff0afe556",
   "metadata": {
    "tags": []
   },
   "outputs": [],
   "source": [
    "def scan_through(sid_init, q):\n",
    "    for sid in range(sid_init, MAX_SID + 1, THREAD_NUM):\n",
    "        if sid % 100 == 0:\n",
    "            print('%s    progress %d / %d ...' % (str(datetime.now()), sid, MAX_SID))\n",
    "        dict_sid2s[sid] = symbol_removal(\n",
    "            cleanse_special_char(\n",
    "                get_sermontext(\n",
    "                    sid\n",
    "                )\n",
    "            )\n",
    "        )\n",
    "        for pid, p_curr in enumerate(phrase_list_total):\n",
    "            s_curr = dict_sid2s[sid]\n",
    "            if p_curr in s_curr:\n",
    "                # pass\n",
    "                n_ = re.findall(p_curr, s_curr)\n",
    "                if n_: # if non-zero n)\n",
    "                    q.put((sid, pid, n_))\n",
    "    return"
   ]
  },
  {
   "cell_type": "code",
   "execution_count": null,
   "id": "906757d8-3a16-4d26-9a06-12eaf2ca43c9",
   "metadata": {
    "tags": []
   },
   "outputs": [],
   "source": [
    "# ===========================\n",
    "# threading manipulaion\n",
    "\n",
    "# to record the index of non-zero sparse element\n",
    "# expected data structure: [ (sid_1,pid_1,n1), (sid2,pid2,n2), ... ]\n",
    "\n",
    "sparse_tuple_Queue = [None] * THREAD_NUM\n",
    "for i in range(THREAD_NUM):\n",
    "    sparse_tuple_Queue[i] = multiprocessing.Queue()\n",
    "    sparse_tuple_Queue[i].put([])\n",
    "# END threading manipulaion\n",
    "# ===========================\n",
    "\n",
    "# ===========================\n",
    "# threading manipulaion\n",
    "p = [None] * THREAD_NUM\n",
    "for i in range(THREAD_NUM):\n",
    "    p[i] = multiprocessing.Process(\n",
    "        target=scan_through,\n",
    "        args=(\n",
    "            i,\n",
    "            sparse_tuple_Queue[i]\n",
    "        )\n",
    "    )\n",
    "    p[i].start()\n",
    "for i in range(THREAD_NUM):\n",
    "    p[i].join()\n",
    "# END threading manipulaion\n",
    "# ==========================="
   ]
  },
  {
   "cell_type": "code",
   "execution_count": null,
   "id": "02553679-2d65-4626-a23d-26af2b75d6e8",
   "metadata": {},
   "outputs": [],
   "source": []
  },
  {
   "cell_type": "code",
   "execution_count": null,
   "id": "a53f7faf-530a-42ff-b308-90c0f4d02ba7",
   "metadata": {},
   "outputs": [],
   "source": []
  }
 ],
 "metadata": {
  "kernelspec": {
   "display_name": "Python 3 (ipykernel)",
   "language": "python",
   "name": "python3"
  },
  "language_info": {
   "codemirror_mode": {
    "name": "ipython",
    "version": 3
   },
   "file_extension": ".py",
   "mimetype": "text/x-python",
   "name": "python",
   "nbconvert_exporter": "python",
   "pygments_lexer": "ipython3",
   "version": "3.10.10"
  }
 },
 "nbformat": 4,
 "nbformat_minor": 5
}
