{
 "cells": [
  {
   "cell_type": "code",
   "execution_count": null,
   "id": "309712d9-08d5-4521-9d66-d3dff064e418",
   "metadata": {
    "tags": []
   },
   "outputs": [],
   "source": [
    "import os\n",
    "\n",
    "import itertools\n",
    "import collections\n",
    "\n",
    "import re\n",
    "from re import compile as recompile\n",
    "\n",
    "if not 'sc' in locals():\n",
    "    import pyspark\n",
    "    sc = pyspark.SparkContext()\n",
    "\n",
    "print('done !')"
   ]
  },
  {
   "cell_type": "code",
   "execution_count": null,
   "id": "0234738e-c210-4fab-b0c1-8f7918890412",
   "metadata": {
    "tags": []
   },
   "outputs": [],
   "source": [
    "# from subprocess import Popen, PIPE                                              \n",
    "# def execute_commands(commands):                                                 \n",
    "#     p = Popen(commands, shell=True, stdout=PIPE, stderr=PIPE)                   \n",
    "#     out, err = p.communicate()                                                  \n",
    "#     print(out)                                                                  \n",
    "#     print()                                                                     \n",
    "#     print(err)                                                                  \n",
    "#     return out, err                                                             \n",
    "                                                                                \n",
    "                                                                                \n",
    "# from datetime import datetime, timedelta                                        \n",
    "# import time                                                                     \n",
    "# import json                                                                     \n",
    "# import os.path                                                                  \n",
    "# import logging                                                                  \n",
    "# import argparse                                                                 \n",
    "# import matplotlib.pyplot as plt                                                 \n",
    "# import numpy as np                                                              \n",
    "# from matplotlib.backends.backend_pdf import PdfPages                            \n",
    "# import pandas as pd                                                             \n",
    "                                                                                \n",
    "# import itertools                                                                \n",
    "# import collections                                                              \n",
    "                                                                                \n",
    "# import pickle as pkl                                                            \n",
    "                                                                                \n",
    "# import re                                                                       \n",
    "# from re import compile as recompile                                             \n",
    "                                                                                \n",
    "# # PySpark and create Spark context                                              \n",
    "# if not 'sc' in locals():                                                        \n",
    "#     import pyspark                                                              \n",
    "#     sc = pyspark.SparkContext()                                                 \n",
    "                                                                                \n",
    "# print('done !')"
   ]
  },
  {
   "cell_type": "code",
   "execution_count": null,
   "id": "420a9852-3738-4303-99e6-d8afb26663ca",
   "metadata": {
    "tags": []
   },
   "outputs": [],
   "source": [
    "PROJ_NAME = 'STBC'\n",
    "DATA_DIR_NAME = '../../data/' + PROJ_NAME"
   ]
  },
  {
   "cell_type": "code",
   "execution_count": null,
   "id": "6fc0045a-2c58-43c5-bf1d-ce6f5655eb5a",
   "metadata": {
    "tags": []
   },
   "outputs": [],
   "source": [
    "filelist = os.listdir(DATA_DIR_NAME)"
   ]
  },
  {
   "cell_type": "code",
   "execution_count": null,
   "id": "a36d5fff-1245-4958-88e7-64588c16cf79",
   "metadata": {
    "tags": []
   },
   "outputs": [],
   "source": [
    "pathfilelist = [ DATA_DIR_NAME + '/' + _ for _ in filelist ]"
   ]
  },
  {
   "cell_type": "code",
   "execution_count": null,
   "id": "49485dee-d731-421a-82b2-d6c84d5112fc",
   "metadata": {
    "tags": []
   },
   "outputs": [],
   "source": [
    "# obtain the file name (with path)\n",
    "rdd1 = sc.parallelize(pathfilelist)"
   ]
  },
  {
   "cell_type": "code",
   "execution_count": null,
   "id": "6730b958-a091-456d-bd24-3db0be759def",
   "metadata": {
    "tags": []
   },
   "outputs": [],
   "source": [
    "# rdd1.take(1)"
   ]
  },
  {
   "cell_type": "code",
   "execution_count": null,
   "id": "edc682e9-f9e9-45a2-ac8f-ec88cb813845",
   "metadata": {
    "tags": []
   },
   "outputs": [],
   "source": [
    "def get_text(input_path_file_name):\n",
    "    with open(input_path_file_name, 'r') as fp:\n",
    "        text = fp.read().replace('\\n', '').strip()\n",
    "    fp.close()\n",
    "    return text"
   ]
  },
  {
   "cell_type": "code",
   "execution_count": null,
   "id": "c352ae06-2f4d-499e-9451-e3b996e88bd5",
   "metadata": {
    "tags": []
   },
   "outputs": [],
   "source": [
    "# obtain the textual content per file\n",
    "rdd2 = rdd1.map(get_text)"
   ]
  },
  {
   "cell_type": "code",
   "execution_count": null,
   "id": "e300e57d-6028-40f7-8b90-ff22ed4ef83a",
   "metadata": {
    "tags": []
   },
   "outputs": [],
   "source": [
    "rdd2.take(1)"
   ]
  },
  {
   "cell_type": "code",
   "execution_count": null,
   "id": "0fe785e2-5097-4ef5-b1ae-4ffb80977a20",
   "metadata": {
    "tags": []
   },
   "outputs": [],
   "source": [
    "with open('../rep_common.txt', 'r') as fp:                                      \n",
    "    rep_list = [ _.strip() for _ in fp.readlines() ]                            \n",
    "fp.close()                                                                      \n",
    "rep_list = [ _.split(\", '\", 1) for _ in rep_list ]                              \n",
    "rep_list = [ [_[0], _[1][:-1]] for _ in rep_list ]  "
   ]
  },
  {
   "cell_type": "code",
   "execution_count": null,
   "id": "0e0af285-0615-44fa-a1b2-1f1773a73b14",
   "metadata": {
    "tags": []
   },
   "outputs": [],
   "source": [
    "def cleanse_special_char(inputText):                                            \n",
    "    txt2 = inputText                                                            \n",
    "    for rep_ in rep_list:                                                       \n",
    "        txt2 = txt2.replace(rep_[0], rep_[1])                                   \n",
    "    txt2 = txt2.strip()                                                         \n",
    "    return txt2 "
   ]
  },
  {
   "cell_type": "code",
   "execution_count": null,
   "id": "cc5c0dfe-c029-4a4f-adef-51927637ee9c",
   "metadata": {
    "tags": []
   },
   "outputs": [],
   "source": [
    "rdd3 = rdd2.map(cleanse_special_char) \\\n",
    "    .map(lambda w: w.replace(' ', '') \\\n",
    "                    .replace('.', '') \\\n",
    "                    .replace(',', '') \\\n",
    "                    .replace('?', '') \\\n",
    "                    .replace('!', '') \\\n",
    "                    .replace('-', '') \\\n",
    "                    .replace('(', '') \\\n",
    "                    .replace(')', '') \\\n",
    "                    .replace('\\\\', '') \\\n",
    "                    .replace('[', '') \\\n",
    "                    .replace(']', '') \\\n",
    "                    .replace('+', '') \\\n",
    "                    .replace('*', '') \\\n",
    "                    .replace('^', '') \\\n",
    "                    .replace('$', '') \\\n",
    "                    .replace('%', '') \\\n",
    "                    .replace('#', '') \\\n",
    "                    .replace('@', ''))"
   ]
  },
  {
   "cell_type": "code",
   "execution_count": null,
   "id": "96ba722b-4bd5-471c-9c5c-e391c58f045c",
   "metadata": {
    "tags": []
   },
   "outputs": [],
   "source": [
    "rdd3.take(1)"
   ]
  },
  {
   "cell_type": "code",
   "execution_count": null,
   "id": "27e86bb9-8762-4184-b2ee-003b6724c01f",
   "metadata": {
    "tags": []
   },
   "outputs": [],
   "source": [
    "def sermon_tokenize(intext):\n",
    "    N = len(intext)\n",
    "    phrase_list = []\n",
    "    # bi gram\n",
    "    for i in range(N-1):\n",
    "        phrase_list.append(intext[i : i+2])\n",
    "    # tri gram\n",
    "    for i in range(N-2):\n",
    "        phrase_list.append(intext[i : i+3])\n",
    "    # # tetra gram\n",
    "    # for i in range(N-3):\n",
    "    #     phrase_list.append(intext[i : i+4])\n",
    "    # # penta gram\n",
    "    # for i in range(N-4):\n",
    "    #     phrase_list.append(intext[i : i+5])\n",
    "    return phrase_list"
   ]
  },
  {
   "cell_type": "code",
   "execution_count": null,
   "id": "5bf2b68d-e2ea-47b4-bc15-78f0da815e1e",
   "metadata": {
    "tags": []
   },
   "outputs": [],
   "source": [
    "rdd4 = rdd3.map(sermon_tokenize)"
   ]
  },
  {
   "cell_type": "code",
   "execution_count": null,
   "id": "a38d6818-dcd9-4f29-8fdb-4cb1f14c4c62",
   "metadata": {
    "tags": []
   },
   "outputs": [],
   "source": [
    "# rdd4.take(1)"
   ]
  },
  {
   "cell_type": "code",
   "execution_count": null,
   "id": "65c483fa-7b83-49ed-a921-ca206780d874",
   "metadata": {
    "tags": []
   },
   "outputs": [],
   "source": [
    "len(rdd4.take(1)[0])"
   ]
  },
  {
   "cell_type": "code",
   "execution_count": null,
   "id": "78cf14ce-5685-45c2-a14e-ec297ead0ab8",
   "metadata": {
    "tags": []
   },
   "outputs": [],
   "source": [
    "rdd5 = rdd4.flatMap(lambda w: w)"
   ]
  },
  {
   "cell_type": "code",
   "execution_count": null,
   "id": "c81cbf23-1dd7-48f6-8ee8-8b46cfa97d76",
   "metadata": {
    "tags": []
   },
   "outputs": [],
   "source": [
    "rdd5.count()"
   ]
  },
  {
   "cell_type": "code",
   "execution_count": null,
   "id": "04c8af78-dd9b-4f21-aa42-361e99cb645e",
   "metadata": {
    "tags": []
   },
   "outputs": [],
   "source": [
    "phrase_list_total = list(set(rdd5.collect()))"
   ]
  },
  {
   "cell_type": "code",
   "execution_count": null,
   "id": "06b663f8-9c6b-44e7-98cf-bcd848bb82fc",
   "metadata": {
    "tags": []
   },
   "outputs": [],
   "source": [
    "len(phrase_list_total)"
   ]
  },
  {
   "cell_type": "code",
   "execution_count": null,
   "id": "af2382f3-49ad-4a4e-8c64-e81df1459c54",
   "metadata": {
    "tags": []
   },
   "outputs": [],
   "source": [
    "sermon_corpus = rdd3.collect()"
   ]
  },
  {
   "cell_type": "code",
   "execution_count": null,
   "id": "f3aed7be-233e-4328-aed7-25caac0965ad",
   "metadata": {
    "tags": []
   },
   "outputs": [],
   "source": [
    "len(sermon_corpus)\n",
    "# sermon_corpus[0]"
   ]
  },
  {
   "cell_type": "code",
   "execution_count": null,
   "id": "b2cc75da-ae89-42f3-94a2-740bb1558819",
   "metadata": {
    "tags": []
   },
   "outputs": [],
   "source": [
    "phr_cnt_dict = {}\n",
    "for ph in phrase_list_total:\n",
    "    phr_cnt_dict[ph] = 0"
   ]
  },
  {
   "cell_type": "code",
   "execution_count": null,
   "id": "589d3255-9161-4d76-b0b6-27e7559a3c74",
   "metadata": {
    "tags": []
   },
   "outputs": [],
   "source": [
    "ph"
   ]
  },
  {
   "cell_type": "code",
   "execution_count": null,
   "id": "4b9cb372-2711-446e-b8a6-b2f347b21b61",
   "metadata": {},
   "outputs": [],
   "source": []
  },
  {
   "cell_type": "code",
   "execution_count": null,
   "id": "23faff1b-3d52-4408-8e7e-63ed59b82e1a",
   "metadata": {
    "tags": []
   },
   "outputs": [],
   "source": [
    "sum(1 for m in re.finditer(ph, sermon))"
   ]
  },
  {
   "cell_type": "code",
   "execution_count": null,
   "id": "923730c3-1581-45fe-9f59-0b9973f686f2",
   "metadata": {
    "tags": []
   },
   "outputs": [],
   "source": [
    "for sid, sermon in enumerate(sermon_corpus):\n",
    "    if (sid-1) % 10 == 0:\n",
    "        print('enumerate count: %d', sid)\n",
    "    for ph in phrase_list_total:\n",
    "        phr_cnt_dict[ph] += len(re.findall(ph, sermon))"
   ]
  },
  {
   "cell_type": "code",
   "execution_count": null,
   "id": "5aded410-6192-4ec3-8734-316d64baad19",
   "metadata": {
    "tags": []
   },
   "outputs": [],
   "source": [
    "ph"
   ]
  },
  {
   "cell_type": "code",
   "execution_count": null,
   "id": "5d69f55d-c683-49b7-9407-1b3156b9edd7",
   "metadata": {},
   "outputs": [],
   "source": []
  },
  {
   "cell_type": "code",
   "execution_count": null,
   "id": "d3106bf6-5aa7-401f-a4fb-8c765d57e854",
   "metadata": {
    "tags": []
   },
   "outputs": [],
   "source": [
    "# rdd6 = sc.parallelize(itertools.product(phrase_list_total, sermon_corpus))"
   ]
  },
  {
   "cell_type": "code",
   "execution_count": null,
   "id": "09e3305b-b00b-43e0-9279-c2edffd6ba85",
   "metadata": {},
   "outputs": [],
   "source": [
    "# rdd6.take(1)"
   ]
  },
  {
   "cell_type": "code",
   "execution_count": null,
   "id": "124e8e0e-65c4-4b14-8f9a-085f00f2ec47",
   "metadata": {},
   "outputs": [],
   "source": []
  },
  {
   "cell_type": "code",
   "execution_count": null,
   "id": "339b6c8a-6bcc-4f7f-80be-e74a8a75b9f8",
   "metadata": {},
   "outputs": [],
   "source": []
  }
 ],
 "metadata": {
  "kernelspec": {
   "display_name": "Python 3 (ipykernel)",
   "language": "python",
   "name": "python3"
  },
  "language_info": {
   "codemirror_mode": {
    "name": "ipython",
    "version": 3
   },
   "file_extension": ".py",
   "mimetype": "text/x-python",
   "name": "python",
   "nbconvert_exporter": "python",
   "pygments_lexer": "ipython3",
   "version": "3.10.10"
  }
 },
 "nbformat": 4,
 "nbformat_minor": 5
}
