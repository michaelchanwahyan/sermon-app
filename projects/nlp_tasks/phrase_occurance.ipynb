{
 "cells": [
  {
   "cell_type": "code",
   "execution_count": null,
   "id": "309712d9-08d5-4521-9d66-d3dff064e418",
   "metadata": {
    "tags": []
   },
   "outputs": [],
   "source": [
    "import os\n",
    "\n",
    "import itertools\n",
    "import collections\n",
    "\n",
    "import re\n",
    "from re import compile as recompile\n",
    "\n",
    "import pickle as pkl\n",
    "\n",
    "if not 'sc' in locals():\n",
    "    import pyspark\n",
    "    sc = pyspark.SparkContext()\n",
    "\n",
    "print('done !')"
   ]
  },
  {
   "cell_type": "code",
   "execution_count": null,
   "id": "0234738e-c210-4fab-b0c1-8f7918890412",
   "metadata": {
    "tags": []
   },
   "outputs": [],
   "source": [
    "# from subprocess import Popen, PIPE                                              \n",
    "# def execute_commands(commands):                                                 \n",
    "#     p = Popen(commands, shell=True, stdout=PIPE, stderr=PIPE)                   \n",
    "#     out, err = p.communicate()                                                  \n",
    "#     print(out)                                                                  \n",
    "#     print()                                                                     \n",
    "#     print(err)                                                                  \n",
    "#     return out, err                                                             \n",
    "                                                                                \n",
    "                                                                                \n",
    "# from datetime import datetime, timedelta                                        \n",
    "# import time                                                                     \n",
    "# import json                                                                     \n",
    "# import os.path                                                                  \n",
    "# import logging                                                                  \n",
    "# import argparse                                                                 \n",
    "# import matplotlib.pyplot as plt                                                 \n",
    "# import numpy as np                                                              \n",
    "# from matplotlib.backends.backend_pdf import PdfPages                            \n",
    "# import pandas as pd                                                             \n",
    "                                                                                \n",
    "# import itertools                                                                \n",
    "# import collections                                                              \n",
    "                                                                                \n",
    "# import pickle as pkl                                                            \n",
    "                                                                                \n",
    "# import re                                                                       \n",
    "# from re import compile as recompile                                             \n",
    "                                                                                \n",
    "# # PySpark and create Spark context                                              \n",
    "# if not 'sc' in locals():                                                        \n",
    "#     import pyspark                                                              \n",
    "#     sc = pyspark.SparkContext()                                                 \n",
    "                                                                                \n",
    "# print('done !')"
   ]
  },
  {
   "cell_type": "code",
   "execution_count": null,
   "id": "0aefe558-115f-4958-96c4-48218719f70f",
   "metadata": {
    "tags": []
   },
   "outputs": [],
   "source": [
    "# with open('CORPUS/ci.pkl', 'rb') as fp:\n",
    "#     CI = pkl.load(fp)\n",
    "# fp.close()"
   ]
  },
  {
   "cell_type": "code",
   "execution_count": null,
   "id": "420a9852-3738-4303-99e6-d8afb26663ca",
   "metadata": {
    "tags": []
   },
   "outputs": [],
   "source": [
    "PROJ_NAME = 'STBC'\n",
    "DATA_DIR_NAME = '../../data/' + PROJ_NAME"
   ]
  },
  {
   "cell_type": "code",
   "execution_count": null,
   "id": "6fc0045a-2c58-43c5-bf1d-ce6f5655eb5a",
   "metadata": {
    "tags": []
   },
   "outputs": [],
   "source": [
    "sermonfilelist = os.listdir(DATA_DIR_NAME)"
   ]
  },
  {
   "cell_type": "code",
   "execution_count": null,
   "id": "a36d5fff-1245-4958-88e7-64588c16cf79",
   "metadata": {
    "tags": []
   },
   "outputs": [],
   "source": [
    "sermonpathfilelist = [ DATA_DIR_NAME + '/' + _ for _ in sermonfilelist ]"
   ]
  },
  {
   "cell_type": "code",
   "execution_count": null,
   "id": "8582ba8e-81e8-477a-8c01-407ab88d7323",
   "metadata": {
    "tags": []
   },
   "outputs": [],
   "source": [
    "dict_sid2spfn = {} # dictionary mapping of sermon-id to sermon-pathfilename\n",
    "for sid, sermonpathfilename in enumerate(sermonpathfilelist):\n",
    "    dict_sid2spfn[sid] = sermonpathfilename"
   ]
  },
  {
   "cell_type": "code",
   "execution_count": null,
   "id": "3979107f-e3e4-442f-a4df-179e9eec1757",
   "metadata": {
    "tags": []
   },
   "outputs": [],
   "source": [
    "MAX_SID = sid\n",
    "print('maximum sermon-id : %d' % MAX_SID)"
   ]
  },
  {
   "cell_type": "code",
   "execution_count": null,
   "id": "49485dee-d731-421a-82b2-d6c84d5112fc",
   "metadata": {
    "tags": []
   },
   "outputs": [],
   "source": [
    "# spark context parallelized sermon-id\n",
    "rdd_SERMON = sc.parallelize([ _ for _ in range(MAX_SID + 1) ])"
   ]
  },
  {
   "cell_type": "code",
   "execution_count": null,
   "id": "08295f29-c005-449b-8920-3d69ad713693",
   "metadata": {
    "tags": []
   },
   "outputs": [],
   "source": [
    "rdd_SERMON.count()"
   ]
  },
  {
   "cell_type": "code",
   "execution_count": null,
   "id": "e35dcaee-a908-48a3-a73d-fbbf4d5d41d0",
   "metadata": {
    "tags": []
   },
   "outputs": [],
   "source": [
    "rdd_SERMON.sample(False, 0.05).count()"
   ]
  },
  {
   "cell_type": "code",
   "execution_count": null,
   "id": "4fd9ae8f-1573-485a-aa4f-e1fb6ee23e50",
   "metadata": {
    "tags": []
   },
   "outputs": [],
   "source": [
    "# for _ in rdd_SERMON.take(3):\n",
    "#     print(_)"
   ]
  },
  {
   "cell_type": "code",
   "execution_count": null,
   "id": "edc682e9-f9e9-45a2-ac8f-ec88cb813845",
   "metadata": {
    "tags": []
   },
   "outputs": [],
   "source": [
    "def get_sermontext(insid):\n",
    "    input_path_file_name = dict_sid2spfn.get(insid)\n",
    "    with open(input_path_file_name, 'r') as fp:\n",
    "        text = fp.read().replace('\\n', '').strip()\n",
    "    fp.close()\n",
    "    return text"
   ]
  },
  {
   "cell_type": "code",
   "execution_count": null,
   "id": "0fe785e2-5097-4ef5-b1ae-4ffb80977a20",
   "metadata": {
    "tags": []
   },
   "outputs": [],
   "source": [
    "with open('../rep_common.txt', 'r') as fp:\n",
    "    REP_LIST = [ _.strip() for _ in fp.readlines() ]\n",
    "fp.close()\n",
    "REP_LIST = [ _.split(\", '\", 1) for _ in REP_LIST ]\n",
    "REP_LIST = [ [_[0], _[1][:-1]] for _ in REP_LIST ]"
   ]
  },
  {
   "cell_type": "code",
   "execution_count": null,
   "id": "0e0af285-0615-44fa-a1b2-1f1773a73b14",
   "metadata": {
    "tags": []
   },
   "outputs": [],
   "source": [
    "def cleanse_special_char(inputText):\n",
    "    txt2 = inputText\n",
    "    for rep_ in REP_LIST:\n",
    "        txt2 = txt2.replace(rep_[0], rep_[1])\n",
    "    txt2 = txt2.strip()\n",
    "    return txt2"
   ]
  },
  {
   "cell_type": "code",
   "execution_count": null,
   "id": "8801b199-5647-47da-a42f-03ab6758cb81",
   "metadata": {
    "tags": []
   },
   "outputs": [],
   "source": [
    "def symbol_removal(inputText):\n",
    "    txt2 = inputText\\\n",
    "        .replace(' ', '').replace('.', '').replace(',', '') \\\n",
    "        .replace('?', '').replace('!', '').replace('-', '') \\\n",
    "        .replace('(', '').replace(')', '').replace('+', '') \\\n",
    "        .replace('[', '').replace(']', '').replace('*', '') \\\n",
    "        .replace('^', '').replace('$', '').replace('%', '') \\\n",
    "        .replace('#', '').replace('@', '') \\\n",
    "        .replace('\\\\', '')\n",
    "    return txt2"
   ]
  },
  {
   "cell_type": "code",
   "execution_count": null,
   "id": "c352ae06-2f4d-499e-9451-e3b996e88bd5",
   "metadata": {
    "tags": []
   },
   "outputs": [],
   "source": [
    "# obtain the textual content per file\n",
    "rdd_SERMON2 = \\\n",
    "    rdd_SERMON \\\n",
    "    .sample(False, 0.05) \\\n",
    "    .map(get_sermontext) \\\n",
    "    .map(cleanse_special_char) \\\n",
    "    .map(symbol_removal)"
   ]
  },
  {
   "cell_type": "code",
   "execution_count": null,
   "id": "37c758dc-49ed-4edb-98e2-9d8cfa8b82a8",
   "metadata": {
    "tags": []
   },
   "outputs": [],
   "source": [
    "# for _ in rdd_SERMON2.take(3):\n",
    "#     print(_)"
   ]
  },
  {
   "cell_type": "code",
   "execution_count": null,
   "id": "27e86bb9-8762-4184-b2ee-003b6724c01f",
   "metadata": {
    "tags": []
   },
   "outputs": [],
   "source": [
    "def sermon_tokenize(intext):\n",
    "    N = len(intext)\n",
    "    phrase_list = []\n",
    "    # bi gram\n",
    "    for i in range(N-1):\n",
    "        phrase_list.append(intext[i : i+2])\n",
    "    # # tri gram\n",
    "    # for i in range(N-2):\n",
    "    #     phrase_list.append(intext[i : i+3])\n",
    "    # tetra gram\n",
    "    # for i in range(N-3):\n",
    "    #     phrase_list.append(intext[i : i+4])\n",
    "    # # penta gram\n",
    "    # for i in range(N-4):\n",
    "    #     phrase_list.append(intext[i : i+5])\n",
    "    return phrase_list"
   ]
  },
  {
   "cell_type": "code",
   "execution_count": null,
   "id": "7f601a55-0867-438e-aa1a-a8d7eb6b8616",
   "metadata": {
    "tags": []
   },
   "outputs": [],
   "source": [
    "print('='*50)\n",
    "print('start of tokenization spark process')\n",
    "print('='*50)"
   ]
  },
  {
   "cell_type": "code",
   "execution_count": null,
   "id": "5bf2b68d-e2ea-47b4-bc15-78f0da815e1e",
   "metadata": {
    "tags": []
   },
   "outputs": [],
   "source": [
    "rdd_TOKENS = rdd_SERMON2.map(sermon_tokenize) \\\n",
    "    .flatMap(lambda w: w) \\\n",
    "    .distinct()\n",
    "# distinct() operation deduplicates repeated phrase pattern"
   ]
  },
  {
   "cell_type": "code",
   "execution_count": null,
   "id": "c81cbf23-1dd7-48f6-8ee8-8b46cfa97d76",
   "metadata": {
    "tags": []
   },
   "outputs": [],
   "source": [
    "MAX_PHID = rdd_TOKENS.count()\n",
    "print('phrase token total count: %d' % MAX_PHID)"
   ]
  },
  {
   "cell_type": "code",
   "execution_count": null,
   "id": "04c8af78-dd9b-4f21-aa42-361e99cb645e",
   "metadata": {
    "tags": []
   },
   "outputs": [],
   "source": [
    "phrase_list_total = rdd_TOKENS.collect()"
   ]
  },
  {
   "cell_type": "code",
   "execution_count": null,
   "id": "1f12de4e-be93-4bad-8097-8126dfb8c753",
   "metadata": {
    "tags": []
   },
   "outputs": [],
   "source": [
    "print('='*50)\n",
    "print('finish tokenization spark process')\n",
    "print('='*50)"
   ]
  },
  {
   "cell_type": "code",
   "execution_count": null,
   "id": "06b663f8-9c6b-44e7-98cf-bcd848bb82fc",
   "metadata": {
    "tags": []
   },
   "outputs": [],
   "source": [
    "print('length of array list of collected spark rdd: %d' % len(phrase_list_total))"
   ]
  },
  {
   "cell_type": "code",
   "execution_count": null,
   "id": "4b9cb372-2711-446e-b8a6-b2f347b21b61",
   "metadata": {
    "tags": []
   },
   "outputs": [],
   "source": [
    "dict_phid2ph = {} # dictionary mapping of phrase-id to phrase\n",
    "for phid, ph in enumerate(phrase_list_total):\n",
    "    dict_phid2ph[phid] = ph"
   ]
  },
  {
   "cell_type": "code",
   "execution_count": null,
   "id": "17220662-e618-4fdd-94d8-9bd755f1c0a9",
   "metadata": {
    "tags": []
   },
   "outputs": [],
   "source": [
    "len(dict_phid2ph.keys())"
   ]
  },
  {
   "cell_type": "code",
   "execution_count": null,
   "id": "e0e7db17-565b-4443-930e-05473aa6ca9a",
   "metadata": {
    "tags": []
   },
   "outputs": [],
   "source": [
    "# MAX_SID = 10\n",
    "MAX_PHID = 10000"
   ]
  },
  {
   "cell_type": "code",
   "execution_count": null,
   "id": "7044d239-479c-4434-bd50-f8d3d205a27d",
   "metadata": {
    "tags": []
   },
   "outputs": [],
   "source": [
    "rdd_sid_phid_pair = sc.parallelize( \\\n",
    "    list(\n",
    "        itertools.product( \\\n",
    "            [ _ for _ in range(MAX_SID+1) ] ,\n",
    "            [ _ for _ in range(MAX_PHID+1) ]\n",
    "        )\n",
    "    )\n",
    ")\n",
    "# an rdd of (sid, phid) pairs"
   ]
  },
  {
   "cell_type": "code",
   "execution_count": null,
   "id": "2c01c681-511b-425b-9a36-ba1bd28fe98d",
   "metadata": {
    "tags": []
   },
   "outputs": [],
   "source": [
    "def phrase_occurance_count(sid_phid_input_pair):\n",
    "    insid = sid_phid_input_pair[0]\n",
    "    inphid = sid_phid_input_pair[1]\n",
    "    occCnt = 0\n",
    "    PHR = dict_phid2ph.get(inphid)\n",
    "    SERMONTEXT = \\\n",
    "        symbol_removal(\n",
    "            cleanse_special_char(\n",
    "                get_sermontext(insid)\n",
    "            )\n",
    "        )\n",
    "    occCnt = sum(1 for m in re.finditer(PHR, SERMONTEXT))\n",
    "    return occCnt"
   ]
  },
  {
   "cell_type": "code",
   "execution_count": null,
   "id": "347d4911-5c75-4497-a142-a9397cb79bb4",
   "metadata": {
    "tags": []
   },
   "outputs": [],
   "source": [
    "print('='*50)\n",
    "print('start of occurance mapping count')\n",
    "print('='*50)"
   ]
  },
  {
   "cell_type": "code",
   "execution_count": null,
   "id": "b025b971-c637-41aa-80c7-596253896124",
   "metadata": {
    "tags": []
   },
   "outputs": [],
   "source": [
    "rdd_OCCURANCE = rdd_sid_phid_pair \\\n",
    "    .map(lambda w: (w, phrase_occurance_count(w))) \\\n",
    "    .filter(lambda w: w[1] > 0)"
   ]
  },
  {
   "cell_type": "code",
   "execution_count": null,
   "id": "dd6446a7-62bb-4e3a-955d-522aa2a4c59f",
   "metadata": {
    "tags": []
   },
   "outputs": [],
   "source": [
    "OCC = rdd_OCCURANCE.collect()"
   ]
  },
  {
   "cell_type": "code",
   "execution_count": null,
   "id": "3edb0fa7-4a64-496d-9447-832d1a997cea",
   "metadata": {
    "tags": []
   },
   "outputs": [],
   "source": [
    "print('='*50)\n",
    "print('finish occurance mapping count')\n",
    "print('='*50)"
   ]
  },
  {
   "cell_type": "code",
   "execution_count": null,
   "id": "c13ce1d6-be77-4cad-a047-8383e1219b6a",
   "metadata": {
    "tags": []
   },
   "outputs": [],
   "source": [
    "OCC"
   ]
  },
  {
   "cell_type": "code",
   "execution_count": null,
   "id": "af3f3733-cf4b-41ca-9c22-c202731e985b",
   "metadata": {},
   "outputs": [],
   "source": []
  },
  {
   "cell_type": "code",
   "execution_count": null,
   "id": "8b26b0d2-14bf-471c-8143-a41f7936f024",
   "metadata": {},
   "outputs": [],
   "source": [
    "print('='*50)\n",
    "print('start of dumping results')\n",
    "print('='*50)"
   ]
  },
  {
   "cell_type": "code",
   "execution_count": null,
   "id": "ea1b9cdd-ba74-47ef-80e7-4e55f3da9e3e",
   "metadata": {},
   "outputs": [],
   "source": [
    "with open('ENV.pkl', 'wb') as fp:\n",
    "    pkl.dump((dict_sid2spfn, dict_phid2ph, OCC), fp)\n",
    "fp.close()"
   ]
  },
  {
   "cell_type": "code",
   "execution_count": null,
   "id": "f06a07a1-8e3d-40a6-83ac-8a1b847bf443",
   "metadata": {},
   "outputs": [],
   "source": [
    "print('='*50)\n",
    "print('finish dumping results')\n",
    "print('='*50)"
   ]
  },
  {
   "cell_type": "code",
   "execution_count": null,
   "id": "65ad0dba-90a9-4cb3-aab0-592fb0219407",
   "metadata": {},
   "outputs": [],
   "source": []
  },
  {
   "cell_type": "code",
   "execution_count": null,
   "id": "96025b43-aa37-4073-9145-d6b8e29d93b0",
   "metadata": {},
   "outputs": [],
   "source": []
  }
 ],
 "metadata": {
  "kernelspec": {
   "display_name": "Python 3 (ipykernel)",
   "language": "python",
   "name": "python3"
  },
  "language_info": {
   "codemirror_mode": {
    "name": "ipython",
    "version": 3
   },
   "file_extension": ".py",
   "mimetype": "text/x-python",
   "name": "python",
   "nbconvert_exporter": "python",
   "pygments_lexer": "ipython3",
   "version": "3.10.10"
  }
 },
 "nbformat": 4,
 "nbformat_minor": 5
}
