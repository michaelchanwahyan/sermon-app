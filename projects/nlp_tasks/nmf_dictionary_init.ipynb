{
 "cells": [
  {
   "cell_type": "code",
   "execution_count": null,
   "id": "23275e16-7406-4cbf-ad40-8cef388b26bf",
   "metadata": {
    "tags": []
   },
   "outputs": [],
   "source": [
    "import os\n",
    "from datetime import datetime\n",
    "import pickle as pkl"
   ]
  },
  {
   "cell_type": "code",
   "execution_count": null,
   "id": "ae53ce62-2690-4807-8d14-79bcaa716ddd",
   "metadata": {
    "tags": []
   },
   "outputs": [],
   "source": [
    "with open('phrase_list_total.txt', 'r') as fp:\n",
    "    phrase_list_total = fp.read().split('\\n')\n",
    "fp.close()\n",
    "phrase_list_total = [ _ for _ in phrase_list_total if len(_) ]"
   ]
  },
  {
   "cell_type": "code",
   "execution_count": null,
   "id": "d82a9451-841b-43c8-aa43-fbbaa0be8591",
   "metadata": {
    "tags": []
   },
   "outputs": [],
   "source": [
    "MAX_PID = len(phrase_list_total) - 1\n",
    "print('total size of phrase_list_total:', MAX_PID+1)"
   ]
  },
  {
   "cell_type": "code",
   "execution_count": null,
   "id": "097044f8-f69a-431f-9a44-62fd35a2ab70",
   "metadata": {
    "tags": []
   },
   "outputs": [],
   "source": [
    "PROJ_NAME_LIST = [\n",
    "    'ACSMHK',\n",
    "    'CBI',\n",
    "    'CGST',\n",
    "    'DSCCC',\n",
    "    'FLWC',\n",
    "    'FVC',\n",
    "    'HKBC',\n",
    "    'JNG',\n",
    "    'KFC',\n",
    "    'STBC',\n",
    "    'WWBS',\n",
    "    'YFCX',\n",
    "    'YOS'\n",
    "]"
   ]
  },
  {
   "cell_type": "code",
   "execution_count": null,
   "id": "7aecdb34-d4ee-4e8b-8690-c8a99ecf7dfb",
   "metadata": {
    "tags": []
   },
   "outputs": [],
   "source": [
    "sermonpathfilelist = []\n",
    "for PROJ_NAME in PROJ_NAME_LIST:\n",
    "    data_dir_name_curr = '../../data/' + PROJ_NAME + '/'\n",
    "    sermonpathfilelist += [ data_dir_name_curr + _ for _ in os.listdir(data_dir_name_curr) ]\n",
    "sermonpathfilelist = sorted(sermonpathfilelist)"
   ]
  },
  {
   "cell_type": "code",
   "execution_count": null,
   "id": "a6043d36-e11f-4e9f-9126-43ccd5d2b151",
   "metadata": {
    "tags": []
   },
   "outputs": [],
   "source": [
    "dict_sid2spfn = {} # dictionary mapping of sermon-id to sermon-pathfilename\n",
    "for sid, sermonpathfilename in enumerate(sermonpathfilelist):\n",
    "    dict_sid2spfn[sid] = sermonpathfilename\n",
    "\n",
    "MAX_SID = sid\n",
    "print('maximum sermon-id : %d' % MAX_SID)"
   ]
  },
  {
   "cell_type": "code",
   "execution_count": null,
   "id": "cca14a47-4872-433a-adde-4aa86a750a84",
   "metadata": {
    "tags": []
   },
   "outputs": [],
   "source": [
    "def get_sermontext(insid):\n",
    "    input_path_file_name = dict_sid2spfn.get(insid)\n",
    "    with open(input_path_file_name, 'r') as fp:\n",
    "        text = fp.read().replace('\\n', '').strip()\n",
    "    fp.close()\n",
    "    return text"
   ]
  },
  {
   "cell_type": "code",
   "execution_count": null,
   "id": "e52523ae-c8eb-4c37-93d4-c142d3d319bd",
   "metadata": {
    "tags": []
   },
   "outputs": [],
   "source": [
    "with open('../rep_common.txt', 'r') as fp:\n",
    "    REP_LIST = [ _.strip() for _ in fp.readlines() ]\n",
    "fp.close()\n",
    "REP_LIST = [ _.split(\", '\", 1) for _ in REP_LIST ]\n",
    "REP_LIST = [ [_[0], _[1][:-1]] for _ in REP_LIST ]"
   ]
  },
  {
   "cell_type": "code",
   "execution_count": null,
   "id": "a709ec77-45cd-4b01-88d4-7d7bf8dbb350",
   "metadata": {
    "tags": []
   },
   "outputs": [],
   "source": [
    "def cleanse_special_char(inputText):\n",
    "    txt2 = inputText\n",
    "    for rep_ in REP_LIST:\n",
    "        txt2 = txt2.replace(rep_[0], rep_[1])\n",
    "    txt2 = txt2.strip()\n",
    "    return txt2"
   ]
  },
  {
   "cell_type": "code",
   "execution_count": null,
   "id": "64331007-1e9b-47be-a200-f1855fbd3324",
   "metadata": {
    "tags": []
   },
   "outputs": [],
   "source": [
    "def symbol_removal(inputText):\n",
    "    txt2 = inputText\\\n",
    "        .replace(' ', '').replace('.', '').replace(',', '') \\\n",
    "        .replace('?', '').replace('!', '').replace('-', '') \\\n",
    "        .replace('(', '').replace(')', '').replace('+', '') \\\n",
    "        .replace('[', '').replace(']', '').replace('*', '') \\\n",
    "        .replace('^', '').replace('$', '').replace('%', '') \\\n",
    "        .replace('#', '').replace('@', '') \\\n",
    "        .replace('\\\\', '')\n",
    "    return txt2"
   ]
  },
  {
   "cell_type": "code",
   "execution_count": null,
   "id": "be2a1aae-3a4f-4ac5-bf70-8f4d1196dd6f",
   "metadata": {
    "tags": []
   },
   "outputs": [],
   "source": [
    "# sermonText-to-phrase matrix dimension:\n",
    "# MAX_SID x MAX_PID\n",
    "\n",
    "for sid in range(0, MAX_SID + 1):\n",
    "    if sid % 100 == 0:\n",
    "        print(datetime.now(), '    sid = ', sid)\n",
    "    s_curr = symbol_removal(\n",
    "        cleanse_special_char(\n",
    "            get_sermontext(\n",
    "                sid\n",
    "            )\n",
    "        )\n",
    "    )\n",
    "    for pid, p_curr in enumerate(phrase_list_total):\n",
    "        if p_curr in s_curr:\n",
    "            pass"
   ]
  },
  {
   "cell_type": "code",
   "execution_count": null,
   "id": "a8743274-0a7e-4ed6-9ff8-adaa712f0e69",
   "metadata": {},
   "outputs": [],
   "source": []
  }
 ],
 "metadata": {
  "kernelspec": {
   "display_name": "Python 3 (ipykernel)",
   "language": "python",
   "name": "python3"
  },
  "language_info": {
   "codemirror_mode": {
    "name": "ipython",
    "version": 3
   },
   "file_extension": ".py",
   "mimetype": "text/x-python",
   "name": "python",
   "nbconvert_exporter": "python",
   "pygments_lexer": "ipython3",
   "version": "3.10.10"
  }
 },
 "nbformat": 4,
 "nbformat_minor": 5
}
