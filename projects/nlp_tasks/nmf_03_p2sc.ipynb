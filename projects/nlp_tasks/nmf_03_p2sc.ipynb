{
 "cells": [
  {
   "cell_type": "code",
   "execution_count": null,
   "id": "3770681e-c441-459f-a38a-ef67bb28bbc2",
   "metadata": {
    "tags": []
   },
   "outputs": [],
   "source": [
    "import os\n",
    "from datetime import datetime\n",
    "import pickle as pkl\n",
    "import numpy as np\n",
    "\n",
    "# PySpark and create Spark context\n",
    "if not 'sc' in locals():\n",
    "    import pyspark\n",
    "    sc = pyspark.SparkContext()\n",
    "\n",
    "print('done !')"
   ]
  },
  {
   "cell_type": "code",
   "execution_count": null,
   "id": "96bce5c7-efba-4fed-8e5d-1c19c66a881a",
   "metadata": {
    "tags": []
   },
   "outputs": [],
   "source": [
    "__main__filename = 'nmf_03_p2sc()'"
   ]
  },
  {
   "cell_type": "code",
   "execution_count": null,
   "id": "bd4d259d-b16a-414a-b81e-0f85f25aaad1",
   "metadata": {
    "tags": []
   },
   "outputs": [],
   "source": [
    "with open('./var_02_sparse_tuple_list.pkl', 'rb') as fp:\n",
    "    spOccur_list = pkl.load(fp)\n",
    "fp.close()"
   ]
  },
  {
   "cell_type": "code",
   "execution_count": null,
   "id": "aacbdaa7-a0cc-42ab-9cb6-805b38474a6c",
   "metadata": {
    "tags": []
   },
   "outputs": [],
   "source": [
    "print(f'[{str(datetime.now())} @ {__main__filename}]    type of spOccur_list: {type(spOccur_list)}')"
   ]
  },
  {
   "cell_type": "code",
   "execution_count": null,
   "id": "f7c35191-f16a-4eb6-bd04-2d5e37cd5291",
   "metadata": {
    "tags": []
   },
   "outputs": [],
   "source": [
    "print(f'[{str(datetime.now())} @ {__main__filename}]    entry count of spOccur_list: {len(spOccur_list)}')"
   ]
  },
  {
   "cell_type": "markdown",
   "id": "e22783ed-075d-4a90-b77b-0eb23b5bbea8",
   "metadata": {},
   "source": [
    "# data structure of spOccur_list"
   ]
  },
  {
   "cell_type": "code",
   "execution_count": null,
   "id": "ce4b1a5f-b818-4e24-8683-13f22149bded",
   "metadata": {
    "tags": []
   },
   "outputs": [],
   "source": [
    "# list of triples \n",
    "# [\n",
    "#      ( < sermon-id > , < phrase-id > , < occurance count > )\n",
    "#      ( < sermon-id > , < phrase-id > , < occurance count > )\n",
    "#      ( < sermon-id > , < phrase-id > , < occurance count > )\n",
    "#        ...\n",
    "#      ( < sermon-id > , < phrase-id > , < occurance count > )\n",
    "# ]"
   ]
  },
  {
   "cell_type": "code",
   "execution_count": null,
   "id": "cadb50e4-61d4-4aea-ae64-d8925b203a0b",
   "metadata": {
    "tags": []
   },
   "outputs": [],
   "source": [
    "print(f'[{str(datetime.now())} @ {__main__filename}]    try print out spOccur_list samples:')\n",
    "for i, spc in enumerate(spOccur_list):\n",
    "    print(spc)\n",
    "    if i > 10:\n",
    "        break"
   ]
  },
  {
   "cell_type": "code",
   "execution_count": null,
   "id": "37b3ead4-dba0-4cdf-b5bd-3453e97cc155",
   "metadata": {},
   "outputs": [],
   "source": []
  },
  {
   "cell_type": "code",
   "execution_count": null,
   "id": "3578d8d4-e3d0-4347-a4c2-7a59a9d7d8a1",
   "metadata": {},
   "outputs": [],
   "source": []
  },
  {
   "cell_type": "markdown",
   "id": "4acbb6d6-f21c-422d-a22b-0fdc44fd8640",
   "metadata": {},
   "source": [
    "# s2s matrix outlook"
   ]
  },
  {
   "cell_type": "code",
   "execution_count": null,
   "id": "a0399d26-53fb-43a5-9876-677423f1a519",
   "metadata": {},
   "outputs": [],
   "source": []
  },
  {
   "cell_type": "code",
   "execution_count": null,
   "id": "7ee4003e-d4f6-4409-a778-61d33c987966",
   "metadata": {},
   "outputs": [],
   "source": []
  },
  {
   "cell_type": "code",
   "execution_count": null,
   "id": "d7e21c0a-e462-450b-a109-905f1c8eda67",
   "metadata": {
    "tags": []
   },
   "outputs": [],
   "source": [
    "#       0  1  2  3  ...\n",
    "#     --------------------------\n",
    "#  0 |  a  b  c  d  ...\n",
    "#  1 |  e  f  g  h  ...\n",
    "#  2 |  i  j  k  l  ...\n",
    "#  . |     .\n",
    "#  . |     .\n",
    "#  . |     ."
   ]
  },
  {
   "cell_type": "code",
   "execution_count": null,
   "id": "a67584df-7c06-4138-b2a6-a0df345e30f7",
   "metadata": {
    "tags": []
   },
   "outputs": [],
   "source": []
  },
  {
   "cell_type": "code",
   "execution_count": null,
   "id": "5523698e-3116-45ee-be88-aa0ad0e87f19",
   "metadata": {},
   "outputs": [],
   "source": []
  },
  {
   "cell_type": "code",
   "execution_count": null,
   "id": "71ea3dbd-3acd-460d-b5fc-a8809f4f5565",
   "metadata": {
    "tags": []
   },
   "outputs": [],
   "source": [
    "# -------------------\n",
    "# sermon-to-phrase\n",
    "# -------------------\n",
    "\n",
    "# for i, spc in enumerate(spOccur_list):\n",
    "#     if spc[2] <30:\n",
    "#         continue\n",
    "#     print(f\"record {i}    spc: {spc}\")\n",
    "#     if i >= 10000:\n",
    "#         break"
   ]
  },
  {
   "cell_type": "code",
   "execution_count": null,
   "id": "135c9d2e-90a8-400e-b9fa-c51765c335f1",
   "metadata": {
    "tags": []
   },
   "outputs": [],
   "source": [
    "rdd = sc.parallelize(spOccur_list)"
   ]
  },
  {
   "cell_type": "code",
   "execution_count": null,
   "id": "9e4666b9-b234-4016-ab70-7ba2a4d7a5af",
   "metadata": {
    "tags": []
   },
   "outputs": [],
   "source": [
    "print(f'[{str(datetime.now())} @ {__main__filename}]    parallelized spOccur_list, try take 20 samples:')\n",
    "for spc_ in rdd.take(20):\n",
    "    print(spc_)"
   ]
  },
  {
   "cell_type": "code",
   "execution_count": null,
   "id": "35505416-150f-4d13-b666-000e275effcc",
   "metadata": {
    "tags": []
   },
   "outputs": [],
   "source": [
    "# rdd :: (sid, pid, cnt)\n",
    "\n",
    "rdd2 = rdd \\\n",
    "    .map(lambda w: (w[1], (w[0], w[2])))\n",
    "\n",
    "# rdd2 :: (pid, (sid, cnt))"
   ]
  },
  {
   "cell_type": "code",
   "execution_count": null,
   "id": "9e28b623-ed90-41e6-aae7-1f9ca5e1b5fa",
   "metadata": {
    "tags": []
   },
   "outputs": [],
   "source": [
    "rdd_keyBy_pid = rdd2 \\\n",
    "    .groupByKey() \\\n",
    "    .mapValues(list) \\\n",
    "    .filter(lambda w: len(w[1]) > 100)\n",
    "# rdd_keyBy_pid :: (pid, [(sid, cnt), (sid, cnt), ... ])"
   ]
  },
  {
   "cell_type": "code",
   "execution_count": null,
   "id": "4752e8f5-0733-42b4-9788-85b6a321051e",
   "metadata": {
    "tags": []
   },
   "outputs": [],
   "source": [
    "print(f'[{str(datetime.now())} @ {__main__filename}]    RDD_KEYBY_PID collect():')\n",
    "RDD_KEYBY_PID = rdd_keyBy_pid.collect()"
   ]
  },
  {
   "cell_type": "code",
   "execution_count": null,
   "id": "ffb49c70-6013-4b8d-8760-6848ba042d89",
   "metadata": {
    "tags": []
   },
   "outputs": [],
   "source": [
    "print(f'[{str(datetime.now())} @ {__main__filename}]    entry count in RDD_KEYBY_PID: {len(RDD_KEYBY_PID)}')\n",
    "# RDD_KEYBY_PID :: (pid, [(sid, cnt), (sid, cnt), ... ])"
   ]
  },
  {
   "cell_type": "code",
   "execution_count": null,
   "id": "4ef4cbdd-d029-4aec-b37a-88d68ec07fae",
   "metadata": {
    "tags": []
   },
   "outputs": [],
   "source": [
    "for (pid_in_RDD, _) in sorted(RDD_KEYBY_PID):\n",
    "    if pid_in_RDD % 1000 == 0:\n",
    "        # print(pid_in_RDD, dict_pid2phr.get(pid_in_RDD))\n",
    "        print(pid_in_RDD)\n",
    "        print(f\"[{_[0]}, {_[1]}, {_[2]}, ...]\")\n",
    "    else:\n",
    "        continue"
   ]
  },
  {
   "cell_type": "code",
   "execution_count": null,
   "id": "de7a0834-4613-4dd2-8e20-0bd191ccbd78",
   "metadata": {
    "tags": []
   },
   "outputs": [],
   "source": [
    "dict_p2sc = {}\n",
    "for (pid_in_RDD, sc_list) in RDD_KEYBY_PID:\n",
    "    dict_p2sc[pid_in_RDD] = sc_list"
   ]
  },
  {
   "cell_type": "code",
   "execution_count": null,
   "id": "202a7bf6-90ae-4e3e-b321-9867d63c678b",
   "metadata": {
    "tags": []
   },
   "outputs": [],
   "source": [
    "print(f'[{str(datetime.now())} @ {__main__filename}]    save var_03_dict_p2sc.pkl')\n",
    "with open(\"var_03_dict_p2sc.pkl\", \"wb\") as fp:\n",
    "    pkl.dump(dict_p2sc, fp)\n",
    "fp.close()\n",
    "print(f'[{str(datetime.now())} @ {__main__filename}]    done !')"
   ]
  },
  {
   "cell_type": "code",
   "execution_count": null,
   "id": "b5c80116-9e56-402b-b98f-bdbe2ca05c4d",
   "metadata": {},
   "outputs": [],
   "source": []
  },
  {
   "cell_type": "code",
   "execution_count": null,
   "id": "f1323c7d-4312-492c-9a87-7e2f3accf35a",
   "metadata": {},
   "outputs": [],
   "source": []
  }
 ],
 "metadata": {
  "kernelspec": {
   "display_name": "Python 3 (ipykernel)",
   "language": "python",
   "name": "python3"
  },
  "language_info": {
   "codemirror_mode": {
    "name": "ipython",
    "version": 3
   },
   "file_extension": ".py",
   "mimetype": "text/x-python",
   "name": "python",
   "nbconvert_exporter": "python",
   "pygments_lexer": "ipython3",
   "version": "3.10.10"
  }
 },
 "nbformat": 4,
 "nbformat_minor": 5
}
