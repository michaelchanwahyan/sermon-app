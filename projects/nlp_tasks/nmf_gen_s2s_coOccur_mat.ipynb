{
 "cells": [
  {
   "cell_type": "code",
   "execution_count": null,
   "id": "3770681e-c441-459f-a38a-ef67bb28bbc2",
   "metadata": {
    "tags": []
   },
   "outputs": [],
   "source": [
    "import os\n",
    "from datetime import datetime\n",
    "import pickle as pkl\n",
    "import numpy as np\n",
    "\n",
    "# PySpark and create Spark context\n",
    "if not 'sc' in locals():\n",
    "    import pyspark\n",
    "    sc = pyspark.SparkContext()\n",
    "\n",
    "print('done !')"
   ]
  },
  {
   "cell_type": "code",
   "execution_count": null,
   "id": "bd4d259d-b16a-414a-b81e-0f85f25aaad1",
   "metadata": {
    "tags": []
   },
   "outputs": [],
   "source": [
    "with open('./var_sparse_tuple_list.pkl', 'rb') as fp:\n",
    "    spOccur_list = pkl.load(fp)\n",
    "fp.close()"
   ]
  },
  {
   "cell_type": "code",
   "execution_count": null,
   "id": "aacbdaa7-a0cc-42ab-9cb6-805b38474a6c",
   "metadata": {
    "tags": []
   },
   "outputs": [],
   "source": [
    "print(\"type of spOccur_list: \", type(spOccur_list))"
   ]
  },
  {
   "cell_type": "markdown",
   "id": "e22783ed-075d-4a90-b77b-0eb23b5bbea8",
   "metadata": {},
   "source": [
    "# data structure of spOccur_list"
   ]
  },
  {
   "cell_type": "code",
   "execution_count": null,
   "id": "ce4b1a5f-b818-4e24-8683-13f22149bded",
   "metadata": {
    "tags": []
   },
   "outputs": [],
   "source": [
    "# list of triples \n",
    "# [\n",
    "#      ( < sermon-id > , < phrase-id > , < occurance count > )\n",
    "#      ( < sermon-id > , < phrase-id > , < occurance count > )\n",
    "#      ( < sermon-id > , < phrase-id > , < occurance count > )\n",
    "#        ...\n",
    "#      ( < sermon-id > , < phrase-id > , < occurance count > )\n",
    "# ]"
   ]
  },
  {
   "cell_type": "code",
   "execution_count": null,
   "id": "37b3ead4-dba0-4cdf-b5bd-3453e97cc155",
   "metadata": {},
   "outputs": [],
   "source": []
  },
  {
   "cell_type": "code",
   "execution_count": null,
   "id": "3578d8d4-e3d0-4347-a4c2-7a59a9d7d8a1",
   "metadata": {},
   "outputs": [],
   "source": []
  },
  {
   "cell_type": "code",
   "execution_count": null,
   "id": "762362e0-d110-4d43-9fe5-1a7d1ff21024",
   "metadata": {
    "tags": []
   },
   "outputs": [],
   "source": [
    "with open('./var_phrDict.pkl', 'rb') as fp:\n",
    "    phrDict = pkl.load(fp) # the phrase dictionary is in sorted order\n",
    "    dict_pid2phr = {}\n",
    "    pid = 0\n",
    "    for phr_ in phrDict:\n",
    "        dict_pid2phr[pid] = phr_\n",
    "        pid += 1\n",
    "fp.close()"
   ]
  },
  {
   "cell_type": "code",
   "execution_count": null,
   "id": "1dc2ef66-bf85-4cec-a101-8ba7335c61cb",
   "metadata": {
    "tags": []
   },
   "outputs": [],
   "source": [
    "print(\"type of phrDict: \", type(phrDict))\n",
    "print(\"type of dict_pid2phr: \", type(dict_pid2phr))"
   ]
  },
  {
   "cell_type": "code",
   "execution_count": null,
   "id": "a322b23b-8e6a-422c-a607-eec57009a7b1",
   "metadata": {
    "tags": []
   },
   "outputs": [],
   "source": [
    "phrDict[67600]"
   ]
  },
  {
   "cell_type": "code",
   "execution_count": null,
   "id": "6fffbbb4-993a-446b-ad3d-b6a67a6a75ae",
   "metadata": {
    "tags": []
   },
   "outputs": [],
   "source": [
    "dict_pid2phr.get(67600)"
   ]
  },
  {
   "cell_type": "code",
   "execution_count": null,
   "id": "a47c0a29-56a3-445e-b60f-3ecde927b634",
   "metadata": {},
   "outputs": [],
   "source": []
  },
  {
   "cell_type": "code",
   "execution_count": null,
   "id": "40954d45-af0b-4622-bf0d-d165e36b464d",
   "metadata": {
    "tags": []
   },
   "outputs": [],
   "source": [
    "with open('./var_sermonDict.pkl', 'rb') as fp:\n",
    "    sermonDict = pkl.load(fp) # the sermon spfn dictionary is in sorted order\n",
    "    dict_sid2spfn = {}\n",
    "    sid = 0\n",
    "    for spfn_ in sermonDict:\n",
    "        dict_sid2spfn[sid] = spfn_\n",
    "        sid += 1\n",
    "fp.close()"
   ]
  },
  {
   "cell_type": "code",
   "execution_count": null,
   "id": "021ec49f-14da-4f43-9490-134add6cfd9c",
   "metadata": {
    "tags": []
   },
   "outputs": [],
   "source": [
    "print(\"type of sermonDict: \", type(sermonDict))"
   ]
  },
  {
   "cell_type": "markdown",
   "id": "4acbb6d6-f21c-422d-a22b-0fdc44fd8640",
   "metadata": {},
   "source": [
    "# s2s matrix outlook"
   ]
  },
  {
   "cell_type": "code",
   "execution_count": null,
   "id": "a0399d26-53fb-43a5-9876-677423f1a519",
   "metadata": {},
   "outputs": [],
   "source": []
  },
  {
   "cell_type": "code",
   "execution_count": null,
   "id": "7ee4003e-d4f6-4409-a778-61d33c987966",
   "metadata": {},
   "outputs": [],
   "source": []
  },
  {
   "cell_type": "code",
   "execution_count": null,
   "id": "d7e21c0a-e462-450b-a109-905f1c8eda67",
   "metadata": {
    "tags": []
   },
   "outputs": [],
   "source": [
    "#       0  1  2  3  ...\n",
    "#     --------------------------\n",
    "#  0 |  a  b  c  d  ...\n",
    "#  1 |  e  f  g  h  ...\n",
    "#  2 |  i  j  k  l  ...\n",
    "#  . |     .\n",
    "#  . |     .\n",
    "#  . |     ."
   ]
  },
  {
   "cell_type": "code",
   "execution_count": null,
   "id": "a67584df-7c06-4138-b2a6-a0df345e30f7",
   "metadata": {
    "tags": []
   },
   "outputs": [],
   "source": []
  },
  {
   "cell_type": "code",
   "execution_count": null,
   "id": "5523698e-3116-45ee-be88-aa0ad0e87f19",
   "metadata": {},
   "outputs": [],
   "source": []
  },
  {
   "cell_type": "code",
   "execution_count": null,
   "id": "71ea3dbd-3acd-460d-b5fc-a8809f4f5565",
   "metadata": {
    "tags": []
   },
   "outputs": [],
   "source": [
    "# -------------------\n",
    "# sermon-to-phrase\n",
    "# -------------------\n",
    "\n",
    "# for i, spc in enumerate(spOccur_list):\n",
    "#     if spc[2] <30:\n",
    "#         continue\n",
    "#     print(f\"record {i}    spc: {spc}\")\n",
    "#     if i >= 10000:\n",
    "#         break"
   ]
  },
  {
   "cell_type": "code",
   "execution_count": null,
   "id": "135c9d2e-90a8-400e-b9fa-c51765c335f1",
   "metadata": {
    "tags": []
   },
   "outputs": [],
   "source": [
    "rdd = sc.parallelize(spOccur_list)"
   ]
  },
  {
   "cell_type": "code",
   "execution_count": null,
   "id": "9e4666b9-b234-4016-ab70-7ba2a4d7a5af",
   "metadata": {
    "tags": []
   },
   "outputs": [],
   "source": [
    "for spc_ in rdd.take(20):\n",
    "    print(spc_)"
   ]
  },
  {
   "cell_type": "code",
   "execution_count": null,
   "id": "e948332f-a70e-4d8d-814a-1657f5adf8ef",
   "metadata": {
    "tags": []
   },
   "outputs": [],
   "source": [
    "# rdd :: (sid, pid, cnt)\n",
    "\n",
    "rdd1 = rdd \\\n",
    "    .map(lambda w: (w[0], (w[1], w[2])))\n",
    "\n",
    "# rdd1 :: (sid, (pid, cnt))"
   ]
  },
  {
   "cell_type": "code",
   "execution_count": null,
   "id": "3863e51d-cbf3-4c6e-aa17-4a2cf4145c3b",
   "metadata": {
    "tags": []
   },
   "outputs": [],
   "source": [
    "rdd_keyBy_sid = rdd1 \\\n",
    "    .groupByKey() \\\n",
    "    .mapValues(list)"
   ]
  },
  {
   "cell_type": "code",
   "execution_count": null,
   "id": "2898d0ee-ea8c-4f69-9e2f-67e74d23b504",
   "metadata": {
    "tags": []
   },
   "outputs": [],
   "source": [
    "RDD_KEYBY_SID = rdd_keyBy_sid.collect()"
   ]
  },
  {
   "cell_type": "code",
   "execution_count": null,
   "id": "196bce19-5be3-49d0-992a-b40ce689cb56",
   "metadata": {
    "tags": []
   },
   "outputs": [],
   "source": [
    "print(f\"entry count in RDD_KEYBY_SID: {len(RDD_KEYBY_SID)}\")"
   ]
  },
  {
   "cell_type": "code",
   "execution_count": null,
   "id": "03101ec5-3418-4227-9121-1c0e611d9ae2",
   "metadata": {},
   "outputs": [],
   "source": []
  },
  {
   "cell_type": "code",
   "execution_count": null,
   "id": "35505416-150f-4d13-b666-000e275effcc",
   "metadata": {
    "tags": []
   },
   "outputs": [],
   "source": [
    "# rdd :: (sid, pid, cnt)\n",
    "\n",
    "rdd2 = rdd \\\n",
    "    .map(lambda w: (w[1], (w[0], w[2])))\n",
    "\n",
    "# rdd2 :: (pid, (sid, cnt))"
   ]
  },
  {
   "cell_type": "code",
   "execution_count": null,
   "id": "9e28b623-ed90-41e6-aae7-1f9ca5e1b5fa",
   "metadata": {
    "tags": []
   },
   "outputs": [],
   "source": [
    "rdd_keyBy_pid = rdd2 \\\n",
    "    .groupByKey() \\\n",
    "    .mapValues(list)"
   ]
  },
  {
   "cell_type": "code",
   "execution_count": null,
   "id": "4752e8f5-0733-42b4-9788-85b6a321051e",
   "metadata": {
    "tags": []
   },
   "outputs": [],
   "source": [
    "RDD_KEYBY_PID = rdd_keyBy_pid.collect()"
   ]
  },
  {
   "cell_type": "code",
   "execution_count": null,
   "id": "ffb49c70-6013-4b8d-8760-6848ba042d89",
   "metadata": {
    "tags": []
   },
   "outputs": [],
   "source": [
    "print(f\"entry count in RDD_KEYBY_PID: {len(RDD_KEYBY_PID)}\")"
   ]
  },
  {
   "cell_type": "code",
   "execution_count": null,
   "id": "f1323c7d-4312-492c-9a87-7e2f3accf35a",
   "metadata": {},
   "outputs": [],
   "source": []
  },
  {
   "cell_type": "code",
   "execution_count": null,
   "id": "8d6e0a77-6faf-46e2-baaf-bd6f0feeeb9e",
   "metadata": {},
   "outputs": [],
   "source": [
    "# (s1, p1, a)\n",
    "# (s1, p2, b)\n",
    "\n",
    "# (s2, p1, p)\n",
    "# (s2, p2, q)\n",
    "\n",
    "# algorithm flow:\n",
    "# 1. iterate each sermon\n",
    "#    S_1\n",
    "#     1.2) check in current sermon S_1 which phrases have occurance\n",
    "#     1.3) form these phrases in a list\n",
    "#     1.4) iterate each (other) sermon\n",
    "#          S_2\n",
    "#           a) list out phrases occurred in current sermon S_2\n",
    "#           b) check coocurring phrase"
   ]
  },
  {
   "cell_type": "code",
   "execution_count": null,
   "id": "6cc0895c-502c-4b01-a2e7-dcd9eef5399e",
   "metadata": {},
   "outputs": [],
   "source": []
  },
  {
   "cell_type": "code",
   "execution_count": null,
   "id": "547e8aef-9a65-4a02-9651-fe105faf5863",
   "metadata": {},
   "outputs": [],
   "source": [
    "# -----------------------\n",
    "# counting criteria 1 :\n",
    "# -----------------------\n",
    "#     total phrasal co-occurance from all found phrase\n",
    "\n",
    "MAX_SID = len(dict_sid2spfn.keys())\n",
    "MAT_S2S_COOCCUR = np.zeros((MAX_SID, MAX_SID))"
   ]
  },
  {
   "cell_type": "code",
   "execution_count": null,
   "id": "221c33ff-5c2c-4fe7-b1e0-52790700f076",
   "metadata": {},
   "outputs": [],
   "source": []
  },
  {
   "cell_type": "code",
   "execution_count": null,
   "id": "b10b8c8c-1305-4091-9e8e-0d9ae1b1cac9",
   "metadata": {},
   "outputs": [],
   "source": []
  },
  {
   "cell_type": "code",
   "execution_count": null,
   "id": "317720d6-fce1-4842-a416-ae6ef6a2c18f",
   "metadata": {},
   "outputs": [],
   "source": []
  },
  {
   "cell_type": "code",
   "execution_count": null,
   "id": "314b75a8-e3cd-4a2b-961b-4a946bce6e6d",
   "metadata": {},
   "outputs": [],
   "source": []
  },
  {
   "cell_type": "code",
   "execution_count": null,
   "id": "d3174981-fc99-4342-b307-fafa3bb95e14",
   "metadata": {},
   "outputs": [],
   "source": []
  },
  {
   "cell_type": "code",
   "execution_count": null,
   "id": "21073870-3829-4cb9-b7d0-e2848f17cfbe",
   "metadata": {},
   "outputs": [],
   "source": []
  },
  {
   "cell_type": "code",
   "execution_count": null,
   "id": "9c1fcd52-4fe5-43e4-aed6-c43db57fabfd",
   "metadata": {},
   "outputs": [],
   "source": []
  },
  {
   "cell_type": "code",
   "execution_count": null,
   "id": "78868750-d40b-45ba-b4f0-88d0641f5118",
   "metadata": {},
   "outputs": [],
   "source": []
  },
  {
   "cell_type": "code",
   "execution_count": null,
   "id": "156e1b5e-5cd1-4ce5-8726-5c4e657eb728",
   "metadata": {},
   "outputs": [],
   "source": []
  },
  {
   "cell_type": "code",
   "execution_count": null,
   "id": "44448eae-994b-4318-afd1-a7f3ee69fd9b",
   "metadata": {},
   "outputs": [],
   "source": []
  },
  {
   "cell_type": "code",
   "execution_count": null,
   "id": "2ed339e4-a51e-4f5b-a5a6-0f75efc08582",
   "metadata": {},
   "outputs": [],
   "source": []
  },
  {
   "cell_type": "code",
   "execution_count": null,
   "id": "d85f7f4f-0f28-475c-a2a1-f9689073120f",
   "metadata": {},
   "outputs": [],
   "source": []
  }
 ],
 "metadata": {
  "kernelspec": {
   "display_name": "Python 3 (ipykernel)",
   "language": "python",
   "name": "python3"
  },
  "language_info": {
   "codemirror_mode": {
    "name": "ipython",
    "version": 3
   },
   "file_extension": ".py",
   "mimetype": "text/x-python",
   "name": "python",
   "nbconvert_exporter": "python",
   "pygments_lexer": "ipython3",
   "version": "3.10.10"
  }
 },
 "nbformat": 4,
 "nbformat_minor": 5
}
