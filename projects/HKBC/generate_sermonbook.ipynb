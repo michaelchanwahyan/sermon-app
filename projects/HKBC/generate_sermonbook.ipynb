{
 "cells": [
  {
   "cell_type": "code",
   "execution_count": null,
   "id": "91e738c4-d8d3-4f55-9c98-a6f5b0361cdf",
   "metadata": {
    "tags": []
   },
   "outputs": [],
   "source": [
    "import os\n",
    "import re"
   ]
  },
  {
   "cell_type": "code",
   "execution_count": null,
   "id": "b15d7486-89d1-4343-8f91-efb3db3d045a",
   "metadata": {
    "tags": []
   },
   "outputs": [],
   "source": [
    "with open(\"./index_byc.csv\", \"r\") as fp:\n",
    "    lines = fp.readlines()\n",
    "fp.close()"
   ]
  },
  {
   "cell_type": "code",
   "execution_count": null,
   "id": "74dff31b-e194-477a-b8d1-6f6de8015fda",
   "metadata": {
    "tags": []
   },
   "outputs": [],
   "source": [
    "print('all time sermon count:',\n",
    "    len( lines )\n",
    "     )"
   ]
  },
  {
   "cell_type": "code",
   "execution_count": null,
   "id": "6028581e-d862-48e7-89ba-0df1da0ab611",
   "metadata": {},
   "outputs": [],
   "source": []
  },
  {
   "cell_type": "code",
   "execution_count": null,
   "id": "2db0435a-4eab-49b8-a5dd-cc803a20d21e",
   "metadata": {},
   "outputs": [],
   "source": []
  },
  {
   "cell_type": "code",
   "execution_count": null,
   "id": "1df1a0d9-2dc4-4aea-8733-acb15f00a6c9",
   "metadata": {
    "tags": []
   },
   "outputs": [],
   "source": [
    "def cleanse_p_tag_span_tag(inputText):\n",
    "    txt2 = re.sub(r'<.+?>', '', inputText)\n",
    "    return txt2"
   ]
  },
  {
   "cell_type": "code",
   "execution_count": null,
   "id": "e89bb18c-5449-41ea-a761-96643e698561",
   "metadata": {
    "tags": []
   },
   "outputs": [],
   "source": [
    "def cleanse_nbsp_quot(inputText):\n",
    "    txt2 = inputText \\\n",
    "        .replace('&nbsp;', '') \\\n",
    "        .replace('&quot;', '\\'') \\\n",
    "        .replace('&#39;', '\\'') \\\n",
    "        .replace('&ldquo;', '``') \\\n",
    "        .replace('&rdquo;', '\"') \\\n",
    "        .replace('&lsquo;', '`') \\\n",
    "        .replace('&rsquo;', '\\'') \\\n",
    "        .replace('&hellip;', '...') \\\n",
    "        .replace('&Omicron;', '零') \\\n",
    "        .replace('&mdash;', '─') \\\n",
    "        .replace('&ndash;', '─') \\\n",
    "        .replace('\\\\tab', ' ') \\\n",
    "        .replace('\\\\cs16', '') \\\n",
    "        .replace(' &divide;', '$\\\\div$') \\\n",
    "        .replace(' X ', '$\\\\times$') \\\n",
    "        .replace('&eacute;', '\\\\\\'e') \\\n",
    "        .replace('ἵ', 'ι') \\\n",
    "        .replace('&nu;', 'ν') \\\n",
    "        .replace('&alpha;', 'α') \\\n",
    "        .replace('&beta;', 'β') \\\n",
    "        .replace('&gamma;', 'γ') \\\n",
    "        .replace('&delta;', 'δ') \\\n",
    "        .replace('&epsilon;', 'ε') \\\n",
    "        .replace('&sigma;', 'σ') \\\n",
    "        .replace('&iota;', 'ι') \\\n",
    "        .replace('&sigmaf;', 'ς') \\\n",
    "        .replace('-&gt', '$\\rightarrow$') \\\n",
    "        .replace('שְׁאוֹל&lrm;', '\\sblgoodhebrew{שְׁאוֹל}') \\\n",
    "        .replace('&middot;', '$\\\\,\\\\cdot\\\\,$') \\\n",
    "        .strip()\n",
    "    return txt2"
   ]
  },
  {
   "cell_type": "code",
   "execution_count": null,
   "id": "88031ffb-8957-4890-8d5e-3094cdaaec34",
   "metadata": {
    "tags": []
   },
   "outputs": [],
   "source": [
    "def sermonContentRetrieval(pathfilename):\n",
    "    with open(pathfilename, \"r\") as fp:\n",
    "        lines = fp.readlines()\n",
    "    fp.close()\n",
    "    sermon_text = []\n",
    "    for line in lines:\n",
    "        if \"<p style=\" in line and \"text-align:\" in line and \"justify;\" in line:\n",
    "            # print((cleanse_p_tag_span_tag(line)).strip())\n",
    "            line = (cleanse_p_tag_span_tag(line)).strip()\n",
    "            line = cleanse_nbsp_quot(line).strip()\n",
    "            sermon_text.append(line)\n",
    "    return sermon_text"
   ]
  },
  {
   "cell_type": "code",
   "execution_count": null,
   "id": "529f278f-e281-49ba-9e68-6749a331760c",
   "metadata": {},
   "outputs": [],
   "source": []
  },
  {
   "cell_type": "code",
   "execution_count": null,
   "id": "97107fe9-96c2-492b-920a-23ddb6b30ce0",
   "metadata": {},
   "outputs": [],
   "source": []
  },
  {
   "cell_type": "code",
   "execution_count": null,
   "id": "764dda75-ff74-4a71-be49-97348aa437fa",
   "metadata": {
    "tags": []
   },
   "outputs": [],
   "source": [
    "progressStepCnt = 0\n",
    "# --------------------------------------\n",
    "# read the index table and only take\n",
    "# --------------------------------------\n",
    "progressStepCnt += 1\n",
    "print(f\"Step {progressStepCnt}: reading in full index file\")\n",
    "with open(\"./index_byc.csv\", \"r\") as fp:\n",
    "    lines = fp.readlines()\n",
    "fp.close()"
   ]
  },
  {
   "cell_type": "code",
   "execution_count": null,
   "id": "68e3ae62-bc3c-4ba2-843e-1fada39b44d7",
   "metadata": {
    "tags": []
   },
   "outputs": [],
   "source": [
    "sermon_tex_filepath = '../../build/HKBC/hkbc_sermon.tex'\n",
    "# --------------------------------------\n",
    "# print the latex document : prefix\n",
    "# --------------------------------------\n",
    "progressStepCnt += 1\n",
    "print(f\"Step {progressStepCnt}: printing out prefixing\")\n",
    "_ = os.system(\n",
    "    \"cat ../prefix.tex | sed 's/講道逐字稿/港九培靈研經會 講道/' > \" \\\n",
    "    + sermon_tex_filepath\n",
    ")\n",
    "\n",
    "progressStepCnt += 1\n",
    "print(f\"Step {progressStepCnt}: generate main content\")\n",
    "hkbc_path = '../../data/HKBC/'\n",
    "s_prev = '' # previous HKBC html conference session & lecture number id code\n",
    "s_curr = '' # current HKBC html conference session & lecture number id code\n",
    "s_next = '' # next HKBC html conference session & lecture number id code\n",
    "\n",
    "# --------------------------------------\n",
    "# lines is the line content in index_byc\n",
    "# --------------------------------------\n",
    "for lineId in range(len(lines)):\n",
    "    if (lineId+1) % 100 == 0:\n",
    "        print(f\"{lineId+1} of {len(lines)}\")\n",
    "    line = lines[lineId]\n",
    "    line_contents = line.split(\",\")\n",
    "    s_curr = line_contents[0]\n",
    "    s_prev = lines[(lineId-1)%len(lines)].split(\",\")[0]\n",
    "    s_next = lines[(lineId+1)%len(lines)].split(\",\")[0]\n",
    "    if os.path.isfile(f'../../data/HKBC/{s_curr}'):\n",
    "        # --------------------------------------\n",
    "        # print out lecture title and misc. info\n",
    "        # --------------------------------------\n",
    "        with open(sermon_tex_filepath, \"a\") as fp:\n",
    "            sectionNameStr = ''\n",
    "            p_curr = line_contents[1] # preacher name\n",
    "            cn_curr = line_contents[2] # conference no.\n",
    "            ln_curr = line_contents[3] # lecture no.\n",
    "            t_curr = line_contents[4] # full title\n",
    "            sectionNameStr = f'第{cn_curr}屆 港九培靈會 {p_curr} {t_curr.split(\" \", 1)[0]}'\n",
    "            fp.write(\"\\n\\n\\\\section{\"+sectionNameStr+\"}\\n\")\n",
    "            fp.write(\"\\\\label{sec:\"+s_curr+\"}\\n\")\n",
    "            fp.write(\"\\\\textbf{\"+t_curr.split(\" \", 1)[-1]+\"}\\n\")\n",
    "            fp.write(\"\\\\newline\\n\\\\newline\\n\")\n",
    "            fp.write(\n",
    "                \"連結: \\\\href{https://www.hkbibleconference.org/session-message/view/\" \\\n",
    "                +s_curr \\\n",
    "                +\"}{\\\\texttt{https://www.hkbibleconference.org/session-message/view/\" \\\n",
    "                +s_curr \\\n",
    "                +\"}} \\n\"\n",
    "            )\n",
    "            fp.write(\"\\\\newline\\n\\\\newline\\n\")\n",
    "            fp.write(\"\\\\hyperref[sec:\"+s_prev+\"]{< < < PREV SERMON < < <}\\n\")\n",
    "            fp.write(\"~\\n\")\n",
    "            fp.write(\"\\\\hyperref[sec:\"+s_next+\"]{> > > NEXT SERMON > > >}\\n\")\n",
    "            fp.write(\"\\\\newline\\n\\\\newline\\n\")\n",
    "        fp.close()\n",
    "        # --------------------------------------\n",
    "        # retrieve lecture content\n",
    "        # --------------------------------------\n",
    "        pathfilename = f\"{hkbc_path}{s_curr}\"\n",
    "        sermon_text_lines = sermonContentRetrieval(pathfilename)\n",
    "        with open(sermon_tex_filepath, \"a\") as fp:\n",
    "            for sermon_text_line in sermon_text_lines:\n",
    "                text_curr = sermon_text_line.strip()\n",
    "                if len(text_curr) == 0:\n",
    "                    continue\n",
    "                fp.write(text_curr)\n",
    "                fp.write(\"\\n\\\\newline\\n\\\\newline\\n\")\n",
    "            fp.close()\n",
    "progressStepCnt += 1\n",
    "print(f\"Step {progressStepCnt}: generate afterward and postfix\")\n",
    "# --------------------------------------\n",
    "# print the latex document : afterword\n",
    "# --------------------------------------\n",
    "_ = os.system(\"cat ../afterword.tex >> \" + sermon_tex_filepath)\n",
    "# --------------------------------------\n",
    "# print the latex document : postfix\n",
    "# --------------------------------------\n",
    "_ = os.system(\"cat ../postfix.tex >> \" + sermon_tex_filepath)\n",
    "print(\"done !\")"
   ]
  },
  {
   "cell_type": "code",
   "execution_count": null,
   "id": "50eeeeed-e427-4195-b50c-0331136a1a57",
   "metadata": {},
   "outputs": [],
   "source": []
  },
  {
   "cell_type": "code",
   "execution_count": null,
   "id": "13c00eff-11a4-4f93-91ae-6cf9d057ffcd",
   "metadata": {},
   "outputs": [],
   "source": []
  }
 ],
 "metadata": {
  "kernelspec": {
   "display_name": "Python 3 (ipykernel)",
   "language": "python",
   "name": "python3"
  },
  "language_info": {
   "codemirror_mode": {
    "name": "ipython",
    "version": 3
   },
   "file_extension": ".py",
   "mimetype": "text/x-python",
   "name": "python",
   "nbconvert_exporter": "python",
   "pygments_lexer": "ipython3",
   "version": "3.10.10"
  }
 },
 "nbformat": 4,
 "nbformat_minor": 5
}
