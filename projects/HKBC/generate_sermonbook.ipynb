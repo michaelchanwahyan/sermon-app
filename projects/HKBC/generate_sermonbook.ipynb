{
 "cells": [
  {
   "cell_type": "code",
   "execution_count": null,
   "id": "91e738c4-d8d3-4f55-9c98-a6f5b0361cdf",
   "metadata": {
    "tags": []
   },
   "outputs": [],
   "source": [
    "import os\n",
    "import re"
   ]
  },
  {
   "cell_type": "code",
   "execution_count": null,
   "id": "b15d7486-89d1-4343-8f91-efb3db3d045a",
   "metadata": {
    "tags": []
   },
   "outputs": [],
   "source": [
    "with open(\"./index_byc.csv\", \"r\") as fp:\n",
    "    lines = fp.readlines()\n",
    "fp.close()"
   ]
  },
  {
   "cell_type": "code",
   "execution_count": null,
   "id": "74dff31b-e194-477a-b8d1-6f6de8015fda",
   "metadata": {
    "tags": []
   },
   "outputs": [],
   "source": [
    "print('all time sermon count:',\n",
    "    len( lines )\n",
    "     )"
   ]
  },
  {
   "cell_type": "code",
   "execution_count": null,
   "id": "6028581e-d862-48e7-89ba-0df1da0ab611",
   "metadata": {},
   "outputs": [],
   "source": []
  },
  {
   "cell_type": "code",
   "execution_count": null,
   "id": "2db0435a-4eab-49b8-a5dd-cc803a20d21e",
   "metadata": {},
   "outputs": [],
   "source": []
  },
  {
   "cell_type": "code",
   "execution_count": null,
   "id": "1df1a0d9-2dc4-4aea-8733-acb15f00a6c9",
   "metadata": {
    "tags": []
   },
   "outputs": [],
   "source": [
    "def cleanse_p_tag_span_tag(inputText):\n",
    "    txt2 = re.sub(r'<.+?>', '', inputText)\n",
    "    return txt2"
   ]
  },
  {
   "cell_type": "code",
   "execution_count": null,
   "id": "cc91bfb4-b264-4e69-975f-aff271682e92",
   "metadata": {},
   "outputs": [],
   "source": [
    "with open('../rep_common.txt', 'r') as fp:\n",
    "    rep_list = [ _.strip() for _ in fp.readlines() ]\n",
    "fp.close()\n",
    "rep_list = [ _.split(\", '\", 1) for _ in rep_list ]\n",
    "rep_list = [ [_[0], _[1][:-1]] for _ in rep_list ]"
   ]
  },
  {
   "cell_type": "code",
   "execution_count": null,
   "id": "e89bb18c-5449-41ea-a761-96643e698561",
   "metadata": {
    "tags": []
   },
   "outputs": [],
   "source": [
    "# compile regular expression rgx to cater math symbol '^'\n",
    "rgx = re.compile(r'([A-Za-z0-9=+\\-]+)\\^([A-Za-z0-9=+\\-]+)')\n",
    "print('checking of \"rgx.sub(r\\'$\\\\1^\\\\2$\\', \\'E=MC^-2\\')\" :', rgx.sub(r'$\\1^\\2$', 'E=MC^-2'))\n",
    "\n",
    "\n",
    "def cleanse_special_char(inputText):\n",
    "    txt2 = inputText\n",
    "    txt2 = txt2.replace('$','\\$') # preserve this here since its higher priority than in html arguments\n",
    "    txt2 = rgx.sub(r'$\\1^\\2$', txt2)\n",
    "    for rep_ in rep_list:\n",
    "        txt2 = txt2.replace(rep_[0], rep_[1])\n",
    "    txt2 = txt2.replace('&', ' and ') # preserve this here since its lower priority than in html arguments\n",
    "    txt2 = txt2.strip()\n",
    "    return txt2"
   ]
  },
  {
   "cell_type": "code",
   "execution_count": null,
   "id": "b71b5a42-83b8-4b40-8af9-357933920a3c",
   "metadata": {
    "tags": []
   },
   "outputs": [],
   "source": [
    "def sermonBibleVersesCoverageRetrieval(pathfilename):\n",
    "    with open(pathfilename, \"r\") as fp:\n",
    "        lines = fp.readlines()\n",
    "    fp.close()\n",
    "    c_v_line = ''\n",
    "    for line in lines:\n",
    "        if \"article-citation\" in line \\\n",
    "        and \"data-book\" in line \\\n",
    "        and \"data-start-chapter\" in line \\\n",
    "        and \"data-start-verse\" in line:\n",
    "            c_v_line = line\n",
    "            break\n",
    "    b = ''\n",
    "    c_start = ''\n",
    "    v_start = ''\n",
    "    c_end = ''\n",
    "    v_end = ''\n",
    "    if len(c_v_line) > 0:\n",
    "        # obtain the book number\n",
    "        key_pattern = \"data-book=\\\"\"\n",
    "        idx_curr = c_v_line.find(key_pattern)\n",
    "        for i in range(3):\n",
    "            if c_v_line[idx_curr + len(key_pattern) + i].isdigit():\n",
    "                b += c_v_line[idx_curr + len(key_pattern) + i]\n",
    "            else:\n",
    "                break\n",
    "        # obtain the starting chapter number\n",
    "        key_pattern = \"data-start-chapter=\\\"\"\n",
    "        idx_curr = c_v_line.find(key_pattern)\n",
    "        for i in range(3):\n",
    "            if c_v_line[idx_curr + len(key_pattern) + i].isdigit():\n",
    "                c_start += c_v_line[idx_curr + len(key_pattern) + i]\n",
    "            else:\n",
    "                break\n",
    "        # obtain the starting versse number\n",
    "        key_pattern = \"data-start-verse=\\\"\"\n",
    "        idx_curr = c_v_line.find(key_pattern)\n",
    "        for i in range(3):\n",
    "            if c_v_line[idx_curr + len(key_pattern) + i].isdigit():\n",
    "                v_start += c_v_line[idx_curr + len(key_pattern) + i]\n",
    "            else:\n",
    "                break\n",
    "        # obtain [potentially there] the ending chapter number\n",
    "        key_pattern = \"data-end-chapter=\\\"\"\n",
    "        idx_curr = c_v_line.find(key_pattern)\n",
    "        if idx_curr == -1:\n",
    "            c_end = c_start\n",
    "        else:\n",
    "            for i in range(3):\n",
    "                if c_v_line[idx_curr + len(key_pattern) + i].isdigit():\n",
    "                    c_end += c_v_line[idx_curr + len(key_pattern) + i]\n",
    "                else:\n",
    "                    break\n",
    "        # obtain [potentially there] the ending versse number\n",
    "        key_pattern = \"data-end-verse=\\\"\"\n",
    "        idx_curr = c_v_line.find(key_pattern)\n",
    "        if idx_curr == -1:\n",
    "            v_end = v_start\n",
    "        else:\n",
    "            for i in range(3):\n",
    "                if c_v_line[idx_curr + len(key_pattern) + i].isdigit():\n",
    "                    v_end += c_v_line[idx_curr + len(key_pattern) + i]\n",
    "                else:\n",
    "                    break\n",
    "    return b, c_start, v_start, c_end, v_end"
   ]
  },
  {
   "cell_type": "code",
   "execution_count": null,
   "id": "d874ea5a-05f6-410f-97af-e5a36127bf1c",
   "metadata": {
    "tags": []
   },
   "outputs": [],
   "source": [
    "# sermonBibleVersesCoverageRetrieval(\"../../data/HKBC/1312\")"
   ]
  },
  {
   "cell_type": "code",
   "execution_count": null,
   "id": "88bb37eb-2a43-4d08-a15e-9b2207f33a9b",
   "metadata": {
    "tags": []
   },
   "outputs": [],
   "source": [
    "with open(\"./index_byc.csv\", \"r\") as fp:\n",
    "    lines = fp.readlines()\n",
    "fp.close()\n",
    "\n",
    "for lineId, line in enumerate(lines):\n",
    "    line_contents = line.split(\",\")\n",
    "    s_curr = line_contents[0]\n",
    "    if os.path.isfile(f'../../data/HKBC/{s_curr}'):\n",
    "        sermonBibleVersesCoverageRetrieval(f'../../data/HKBC/{s_curr}')"
   ]
  },
  {
   "cell_type": "code",
   "execution_count": null,
   "id": "88031ffb-8957-4890-8d5e-3094cdaaec34",
   "metadata": {
    "tags": []
   },
   "outputs": [],
   "source": [
    "def sermonContentRetrieval(pathfilename):\n",
    "    with open(pathfilename, \"r\") as fp:\n",
    "        lines = fp.readlines()\n",
    "    fp.close()\n",
    "    sermon_text = []\n",
    "    for line in lines:\n",
    "        if \"<p style=\" in line and \"text-align:\" in line and \"justify;\" in line:\n",
    "            # print((cleanse_p_tag_span_tag(line)).strip())\n",
    "            line = (cleanse_p_tag_span_tag(line)).strip()\n",
    "            line = cleanse_special_char(line).strip()\n",
    "            sermon_text.append(line)\n",
    "    return sermon_text"
   ]
  },
  {
   "cell_type": "code",
   "execution_count": null,
   "id": "529f278f-e281-49ba-9e68-6749a331760c",
   "metadata": {},
   "outputs": [],
   "source": []
  },
  {
   "cell_type": "code",
   "execution_count": null,
   "id": "97107fe9-96c2-492b-920a-23ddb6b30ce0",
   "metadata": {},
   "outputs": [],
   "source": []
  },
  {
   "cell_type": "code",
   "execution_count": null,
   "id": "764dda75-ff74-4a71-be49-97348aa437fa",
   "metadata": {
    "tags": []
   },
   "outputs": [],
   "source": [
    "# progressStepCnt = 0\n",
    "# --------------------------------------\n",
    "# read the index table and only take\n",
    "# --------------------------------------\n",
    "# progressStepCnt += 1\n",
    "# print(f\"Step {progressStepCnt}: reading in full index file\")\n",
    "print(\"reading in full index file\")\n",
    "with open(\"./index_byc.csv\", \"r\") as fp:\n",
    "    lines = fp.readlines()\n",
    "fp.close()"
   ]
  },
  {
   "cell_type": "code",
   "execution_count": null,
   "id": "c88e60d8-9d1b-4edd-a854-05db94898be6",
   "metadata": {
    "tags": []
   },
   "outputs": [],
   "source": [
    "bible_srcpath = '../../data/bible_src/cuv2/'"
   ]
  },
  {
   "cell_type": "code",
   "execution_count": null,
   "id": "21605c70-0b8e-4b06-b1e4-0250e6b1657b",
   "metadata": {
    "tags": []
   },
   "outputs": [],
   "source": [
    "book_list_engsymbol = ['',\n",
    "    'Gen','Exo','Lev','Num','Deu',\n",
    "    'Jos','Jug','Rut','1Sa','2Sa','1Ki','2Ki',\n",
    "    '1Ch','2Ch','Ezr','Neh','Est',\n",
    "    'Job','Psa','Pro','Ecc','Son',\n",
    "    'Isa','Jer','Lam','Eze','Dan',\n",
    "    'Hos','Joe','Amo','Oba','Jon','Mic',\n",
    "    'Nah','Hab','Zep','Hag','Zec','Mal',\n",
    "    'Mat','Mak','Luk','Jhn','Act',\n",
    "    'Rom','1Co','2Co','Gal','Eph',\n",
    "    'Phl','Col','1Ts','2Ts',\n",
    "    '1Ti','2Ti','Tit','Phm','Heb',\n",
    "    'Jas','1Pe','2Pe','1Jn','2Jn',\n",
    "    '3Jn','Jud','Rev']"
   ]
  },
  {
   "cell_type": "code",
   "execution_count": null,
   "id": "68e3ae62-bc3c-4ba2-843e-1fada39b44d7",
   "metadata": {
    "tags": []
   },
   "outputs": [],
   "source": [
    "def sermon_tex_from_generation(confno_start, confno_end):\n",
    "    progressStepCnt = 0\n",
    "    str_year_start = str(1928+confno_start-1)\n",
    "    if 1928+confno_end-1 < 2008:\n",
    "        str_year_end = str(1928+confno_end-1)\n",
    "    else:\n",
    "        str_year_end = 'present'\n",
    "    sermon_tex_filepath = f'../../build/HKBC/sermon_HKBC_{str_year_start}-{str_year_end}.tex'\n",
    "    # --------------------------------------\n",
    "    # print the latex document : prefix\n",
    "    # --------------------------------------\n",
    "    progressStepCnt += 1\n",
    "    print(f\"Step {progressStepCnt}: printing out prefixing\")\n",
    "    _ = os.system(f\"cat ../prefix.tex | sed 's/粵語講道逐字稿/港九培靈研經會講章/' | sed 's/Youtube Channel:/Hong Kong Bible Conference {str_year_start}-{str_year_end}/' > \" + sermon_tex_filepath)\n",
    "\n",
    "    # --------------------------------------\n",
    "    # index table\n",
    "    # --------------------------------------\n",
    "    progressStepCnt += 1\n",
    "    print(f\"Step {progressStepCnt}: writing TOC\")\n",
    "    with open(sermon_tex_filepath, \"a\") as fp:\n",
    "        fp.write(\"\\\\section{目錄}\\\\label{sec:toc}\\n\")\n",
    "        fp.write(\"{ \\\\scriptsize\\n\")\n",
    "        fp.write(\"\\n\\n\\\\begin{xltabular}{\\\\textwidth}\" + \\\n",
    "                 \"{|p{0.08\\\\textwidth} p{0.07\\\\textwidth} p{0.25\\\\textwidth}|p{0.15\\\\textwidth} p{0.35\\\\textwidth}|}\\n\")\n",
    "        # lllr: |Conference No.  Lecture No. | bk+v | Preacher| Title |\n",
    "        #        0.08            0.07          0.25   0.15      0.45\n",
    "        fp.write(\"\\\\hline\\n\")\n",
    "        fp.write(\"屆別 & 講號 & 經卷參照 & 講員 & 講題 \\\\\\\\\\n\")\n",
    "        conf_no_prev = ''\n",
    "        for line in lines[1:]: # skip the first row (header row)\n",
    "            line_content = line.split(',')\n",
    "            conf_no = line_content[2].strip()\n",
    "            # handle whether current entry belongs to conf no of interest\n",
    "            if int(conf_no) < confno_start or int(conf_no) > confno_end:\n",
    "                continue\n",
    "            lect_no = line_content[3].strip()\n",
    "            title_str = cleanse_special_char(line_content[4].strip())\n",
    "            bv = line_content[6].strip()+line_content[7].strip() # might be empty string\n",
    "            preacher = line_content[1].strip()\n",
    "            code = line_content[0].strip()\n",
    "            toc_tex_str = \"\"\n",
    "            if conf_no != conf_no_prev:\n",
    "                toc_tex_str += \"\\\\hline\\n\\\\hline\\n\"\n",
    "                conf_no_prev = conf_no\n",
    "            toc_tex_str += \"第\"+conf_no+\"屆 & \"\n",
    "            toc_tex_str += \"第\"+lect_no+\"講 & \"\n",
    "            toc_tex_str += bv+\" & \"+preacher+\" & \"\n",
    "            toc_tex_str += \"\\hyperref[sec:\"+code+\"]{\"+cleanse_special_char(title_str)+\"} \\\\\\\\\\n\"\n",
    "            fp.write(toc_tex_str)\n",
    "        fp.write(\"\\\\end{xltabular}\\n\\n\")\n",
    "        # --------------------------------------\n",
    "        # end of TOC\n",
    "        # --------------------------------------\n",
    "        fp.write(\"}\\n\") # end of fp.write(\"{ \\\\scriptsize\\n\")\n",
    "    fp.close()\n",
    "    # --------------------------------------\n",
    "    # END OF index table\n",
    "    # --------------------------------------\n",
    "\n",
    "    progressStepCnt += 1\n",
    "    print(f\"Step {progressStepCnt}: generate main content\")\n",
    "    hkbc_path = '../../data/HKBC/'\n",
    "    s_prev = '' # previous HKBC html conference session & lecture number id code\n",
    "    s_curr = '' # current HKBC html conference session & lecture number id code\n",
    "    s_next = '' # next HKBC html conference session & lecture number id code\n",
    "\n",
    "    # --------------------------------------\n",
    "    # lines is the line content in index_byc\n",
    "    # --------------------------------------\n",
    "    for lineId, line in enumerate(lines):\n",
    "        if lineId == 0:\n",
    "            continue\n",
    "        if (lineId+1) % 100 == 0:\n",
    "            print(f\"{lineId+1} of {len(lines)}\")\n",
    "        line_contents = line.split(\",\")\n",
    "        s_curr = line_contents[0]\n",
    "        s_prev = lines[(lineId-1)%len(lines)].split(\",\")[0]\n",
    "        s_next = lines[(lineId+1)%len(lines)].split(\",\")[0]\n",
    "        p_curr = line_contents[1].strip() # preacher name\n",
    "        cn_curr = line_contents[2].strip() # conference no.\n",
    "        ln_curr = line_contents[3].strip() # lecture no.\n",
    "        t_curr = cleanse_special_char(line_contents[4]) # full title\n",
    "        # handle whether current entry belongs to conf no of interest\n",
    "        if int(cn_curr) < confno_start or int(cn_curr) > confno_end:\n",
    "            continue\n",
    "        if os.path.isfile(f'{hkbc_path}{s_curr}'):\n",
    "            # --------------------------------------\n",
    "            # print out lecture title and misc. info\n",
    "            # --------------------------------------\n",
    "            with open(sermon_tex_filepath, \"a\") as fp:\n",
    "                sectionNameStr = ''\n",
    "                sectionNameStr = f'第{cn_curr}屆~港九培靈會~{p_curr}~{t_curr.split(\" \", 1)[0]}'\n",
    "                fp.write(\"\\n\\n\\\\newpage\\n\\n\\\\section{\"+sectionNameStr+\"}\\n\")\n",
    "                fp.write(\"\\\\label{sec:\"+s_curr+\"}\\n\")\n",
    "                fp.write(\"\\\\textbf{\"+t_curr.split(\" \", 1)[-1]+\"}\\n\")\n",
    "                fp.write(\"\\\\newline\\n\\\\newline\\n\")\n",
    "                fp.write(\n",
    "                    \"連結: \\\\href{https://www.hkbibleconference.org/session-message/view/\" \\\n",
    "                    +s_curr \\\n",
    "                    +\"}{\\\\texttt{https://www.hkbibleconference.org/session-message/view/\" \\\n",
    "                    +s_curr \\\n",
    "                    +\"}}\\n\"\n",
    "                )\n",
    "                fp.write(\"\\\\newline\\n\\\\newline\\n\")\n",
    "                fp.write(\"\\\\hyperref[sec:\"+s_prev+\"]{< < < PREV SERMON < < <}\\n\")\n",
    "                fp.write(\"~\\n\")\n",
    "                fp.write(\"\\\\hyperref[sec:toc]{[返目錄]}\\n\")\n",
    "                fp.write(\"~\\n\")\n",
    "                fp.write(\"\\\\hyperref[sec:\"+s_next+\"]{> > > NEXT SERMON > > >}\\n\")\n",
    "                fp.write(\"\\\\newline\\n\\\\newline\\n\")\n",
    "            fp.close()\n",
    "            pathfilename = f\"{hkbc_path}{s_curr}\"\n",
    "            b_n = line_contents[5] # book number\n",
    "            if len(b_n) > 0:\n",
    "                # **************************************\n",
    "                # **************************************\n",
    "                # **************************************\n",
    "                #     ||||                      ||||\n",
    "                #     ||||         START        ||||\n",
    "                #     ||||       GET BIBLE      ||||\n",
    "                #     ||||   SCRIPTURE VERSE    ||||\n",
    "                #     ||||                      ||||\n",
    "                #        \\\\\\\\                ////\n",
    "                #           \\\\\\\\          ////\n",
    "                #              \\\\\\\\    ////\n",
    "                #                   v\n",
    "                # --------------------------------------\n",
    "                # retrieve bible chapters and\n",
    "                # verses coverage ( if any )\n",
    "                # --------------------------------------\n",
    "                srcfname = bible_srcpath + book_list_engsymbol[int(b_n)] + \".txt\"\n",
    "                with open(srcfname, 'r') as fp:\n",
    "                    bktxtlines = fp.readlines()\n",
    "                fp.close()\n",
    "                v_n = line_contents[7].strip() # verse number\n",
    "                # assumed format is c1:v1-c2:c2\n",
    "                c1v1 = v_n.split('-')[0].replace(':','.')\n",
    "                c2v2 = v_n.split('-')[1].replace(':','.')\n",
    "                bvc = []\n",
    "                c1v1_reached = False\n",
    "                c2v2_reached = False\n",
    "                for bktxtline in bktxtlines:\n",
    "                    if c1v1 in bktxtline:\n",
    "                        c1v1_reached = True\n",
    "                    if c1v1_reached:\n",
    "                        bvc.append(bktxtline)\n",
    "                        if c1v1 == c2v2:\n",
    "                            break\n",
    "                    if c2v2 in bktxtline:\n",
    "                        c2v2_reached = True\n",
    "                    if c2v2_reached:\n",
    "                        break\n",
    "                if len(bvc) > 0:\n",
    "                    with open(sermon_tex_filepath, \"a\") as fp:\n",
    "                        # first row shall be book + verse info\n",
    "                        fp.write(f\"{line_contents[6]} {line_contents[7]}\")\n",
    "                        fp.write(\"\\\\newline\\n\")\n",
    "                        fp.write(\"\\\\begin{longtable}{cl}\\n\")\n",
    "                        fp.write(\"\\\\hline\\n\\\\hline\\n\")\n",
    "                        fp.write(\"章節 & 經文 (和合本修訂版)\\\\\\\\\\n\")\n",
    "                        fp.write(\"\\\\hline\\n\")\n",
    "                        for bvc_line in bvc:\n",
    "                            bvc_line = bvc_line.strip()\n",
    "                            if len(bvc_line) > 0:\n",
    "                                if bvc_line != [ _.strip() for _ in bvc if len(_.strip()) ][-1]:\n",
    "                                    bvc_line += \" \\\\\\\\ \\\\\\\\ \\\\relax\\n\"\n",
    "                                else:\n",
    "                                    bvc_line += \" \\\\\\\\ \\\\\\\\\\n\"\n",
    "                                si = bvc_line.find(\" \")\n",
    "                                if si == -1:\n",
    "                                    bvc_line = \"& \" \\\n",
    "                                        + \"\\\\begin{tabularx}{0.7\\\\textwidth}{X} \" \\\n",
    "                                        + bvc_line \\\n",
    "                                        + \" \\\\end{tabularx}\"\n",
    "                                else:\n",
    "                                    bvc_line = bvc_line[:si].replace(\".\",\":\") \\\n",
    "                                        +  \" & \" \\\n",
    "                                        + \"\\\\begin{tabularx}{0.7\\\\textwidth}{X} \" \\\n",
    "                                        + bvc_line[si+1:]\n",
    "                                    nli = bvc_line.find(\" \\\\\\\\\") # newline char index\n",
    "                                    bvc_line = bvc_line[:nli] + \" \\\\end{tabularx}\" + bvc_line[nli:]\n",
    "                                fp.write(bvc_line)\n",
    "                        fp.write(\"[1ex]\\n\")\n",
    "                        fp.write(\"\\\\hline\\n\\\\hline\\n\")\n",
    "                        fp.write(\"\\\\end{longtable}\\n\")\n",
    "                    fp.close()\n",
    "                #                   ^\n",
    "                #              ////    \\\\\\\\\n",
    "                #           ////          \\\\\\\\\n",
    "                #        ////                \\\\\\\\\n",
    "                #     ||||                      ||||\n",
    "                #     ||||         FINISH       ||||\n",
    "                #     ||||       GET BIBLE      ||||\n",
    "                #     ||||   SCRIPTURE VERSE    ||||\n",
    "                #     ||||                      ||||\n",
    "                # **************************************\n",
    "                # **************************************\n",
    "                # **************************************\n",
    "            # --------------------------------------\n",
    "            # retrieve lecture content\n",
    "            # --------------------------------------\n",
    "            sermon_text_lines = sermonContentRetrieval(pathfilename)\n",
    "            with open(sermon_tex_filepath, \"a\") as fp:\n",
    "                for sermon_text_line in sermon_text_lines:\n",
    "                    text_curr = sermon_text_line.strip()\n",
    "                    if len(text_curr) == 0:\n",
    "                        continue\n",
    "                    fp.write(text_curr)\n",
    "                    fp.write(\"\\n\\\\newline\\n\\\\newline\\n\")\n",
    "            fp.close()\n",
    "    progressStepCnt += 1\n",
    "    print(f\"Step {progressStepCnt}: generate afterward and postfix\")\n",
    "    # --------------------------------------\n",
    "    # print the latex document : afterword\n",
    "    # --------------------------------------\n",
    "    _ = os.system(\"cat ../afterword.tex >> \" + sermon_tex_filepath)\n",
    "    # --------------------------------------\n",
    "    # print the latex document : postfix\n",
    "    # --------------------------------------\n",
    "    _ = os.system(\"cat ../postfix.tex >> \" + sermon_tex_filepath)\n",
    "    print(\"done !\")"
   ]
  },
  {
   "cell_type": "markdown",
   "id": "f83630d8-663e-4206-be5e-5c0bf20917fc",
   "metadata": {
    "tags": []
   },
   "source": [
    "## The 1st to 80th HKBC"
   ]
  },
  {
   "cell_type": "code",
   "execution_count": null,
   "id": "72b26c17-aeed-4c93-9bb6-08bfc598ddc3",
   "metadata": {
    "tags": []
   },
   "outputs": [],
   "source": [
    "confno_start = 1\n",
    "confno_end = 80\n",
    "sermon_tex_from_generation(confno_start, confno_end)"
   ]
  },
  {
   "cell_type": "code",
   "execution_count": null,
   "id": "d782110b-2765-4264-bf85-02f5314d73c0",
   "metadata": {
    "tags": []
   },
   "outputs": [],
   "source": [
    "confno_start = 81\n",
    "confno_end = 96\n",
    "sermon_tex_from_generation(confno_start, confno_end)"
   ]
  },
  {
   "cell_type": "code",
   "execution_count": null,
   "id": "456e96b5-b7b4-4442-b07b-f2da9c21f928",
   "metadata": {},
   "outputs": [],
   "source": []
  },
  {
   "cell_type": "code",
   "execution_count": null,
   "id": "a3200de0-c742-456d-8ec6-0808b42fefd4",
   "metadata": {},
   "outputs": [],
   "source": []
  }
 ],
 "metadata": {
  "kernelspec": {
   "display_name": "Python 3 (ipykernel)",
   "language": "python",
   "name": "python3"
  },
  "language_info": {
   "codemirror_mode": {
    "name": "ipython",
    "version": 3
   },
   "file_extension": ".py",
   "mimetype": "text/x-python",
   "name": "python",
   "nbconvert_exporter": "python",
   "pygments_lexer": "ipython3",
   "version": "3.10.10"
  }
 },
 "nbformat": 4,
 "nbformat_minor": 5
}
