{
 "cells": [
  {
   "cell_type": "code",
   "execution_count": null,
   "id": "7a2908dc",
   "metadata": {
    "tags": []
   },
   "outputs": [],
   "source": [
    "from datetime import datetime, timedelta\n",
    "import time\n",
    "import json\n",
    "import os.path\n",
    "import logging\n",
    "import argparse\n",
    "import matplotlib.pyplot as plt\n",
    "import numpy as np\n",
    "from matplotlib.backends.backend_pdf import PdfPages\n",
    "import pandas as pd\n",
    "\n",
    "import itertools\n",
    "import collections\n",
    "\n",
    "import pickle as pkl\n",
    "\n",
    "import re\n",
    "from re import compile as recompile\n",
    "\n",
    "# PySpark and create Spark context\n",
    "if not 'sc' in locals():\n",
    "    import pyspark\n",
    "    sc = pyspark.SparkContext()\n",
    "\n",
    "print('done !')"
   ]
  },
  {
   "cell_type": "code",
   "execution_count": null,
   "id": "8419d9bc-2140-4e84-9c45-4a3f118a826a",
   "metadata": {
    "tags": []
   },
   "outputs": [],
   "source": [
    "# obtain the whole source of HKBC\n",
    "import os\n",
    "hkbc_path = '../../data/HKBC/'\n",
    "filelist = os.listdir(hkbc_path)"
   ]
  },
  {
   "cell_type": "code",
   "execution_count": null,
   "id": "65bd273a-5291-4b9b-ad68-dcb2cb1c1924",
   "metadata": {
    "tags": []
   },
   "outputs": [],
   "source": [
    "for filename in filelist:\n",
    "    if not filename.isdigit():\n",
    "        print(f\"{filename} is unable to be converted to integer !\")\n",
    "print(\"removing these files from filelist ...\")\n",
    "filelist = [ filename for filename in filelist if filename.isdigit() ]\n",
    "print(\"done !\")"
   ]
  },
  {
   "cell_type": "code",
   "execution_count": null,
   "id": "b1ae871a",
   "metadata": {},
   "outputs": [],
   "source": []
  },
  {
   "cell_type": "code",
   "execution_count": null,
   "id": "e67b6c59",
   "metadata": {},
   "outputs": [],
   "source": []
  },
  {
   "cell_type": "code",
   "execution_count": null,
   "id": "34f57838-78d4-4a60-b217-e873c442584c",
   "metadata": {
    "tags": []
   },
   "outputs": [],
   "source": [
    "# the initial of different kind of preacher\n",
    "preacherTitle_list = ['博士','牧師','傳道','老師','先生','教授','弟兄','社長']"
   ]
  },
  {
   "cell_type": "code",
   "execution_count": null,
   "id": "edc66bdf-4fc1-4b74-a029-c791d4e0004d",
   "metadata": {},
   "outputs": [],
   "source": []
  },
  {
   "cell_type": "code",
   "execution_count": null,
   "id": "a9be1306-755f-46e6-9c76-68e686a159e0",
   "metadata": {},
   "outputs": [],
   "source": []
  },
  {
   "cell_type": "code",
   "execution_count": null,
   "id": "b173b753-c172-4528-8823-0b0a38e500ac",
   "metadata": {
    "tags": []
   },
   "outputs": [],
   "source": [
    "from html.parser import HTMLParser"
   ]
  },
  {
   "cell_type": "code",
   "execution_count": null,
   "id": "a4520364-d80d-4bc4-b35a-656e003ba0cd",
   "metadata": {
    "tags": []
   },
   "outputs": [],
   "source": [
    "class MyHTMLParser(HTMLParser):\n",
    "    sermonNum = 0\n",
    "    titleStr = '' # the title\n",
    "    confNum = '' # the bible conference number\n",
    "    lectNum = '' # the lecture number in current session\n",
    "    speaker = '' # the speaker\n",
    "    titleStrFound = False\n",
    "    confNumFound = False\n",
    "    speakerFound = False\n",
    "    # sermonTextFound = False\n",
    "    def handle_starttag(self, tag, attrs):\n",
    "        if tag == 'title':\n",
    "            self.titleStrFound = True\n",
    "        elif tag == 'h1' and \\\n",
    "             len(attrs) == 1 and \\\n",
    "             'color-1a8090 bg-white text-center pb-2 pt-3 h2' in attrs[0]:\n",
    "            self.confNumFound = True\n",
    "        elif tag == 'a' and \\\n",
    "             len(attrs) == 1 and \\\n",
    "             '/speaker/view' in attrs[0][1]:\n",
    "            self.speakerFound = True\n",
    "        return\n",
    "\n",
    "    def handle_endtag(self, tag):\n",
    "        return\n",
    "\n",
    "    def handle_data(self, data):\n",
    "        # retrieve the sermon title\n",
    "        if self.titleStrFound and ~len(self.titleStr):\n",
    "            self.titleStr = re.sub(r'\\ +', ' ', data.strip().replace('\\xa0', ''))\n",
    "            print(self.titleStr)\n",
    "            self.titleStrFound = False\n",
    "        # retrieve the conference sermon session number (code)\n",
    "        elif self.confNumFound and ~len(self.confNum):\n",
    "            full_sess_lect_data = data.strip()\n",
    "            _data = full_sess_lect_data.split(' ')\n",
    "            self.confNum = _data[0]\n",
    "            if self.confNum == '首屆':\n",
    "                self.confNum = '第1屆'\n",
    "            self.lectNum = _data[-1]\n",
    "            print(self.confNum, self.lectNum)\n",
    "            self.confNumFound = False\n",
    "        # retrieve the speaker name\n",
    "        elif self.speakerFound and ~len(self.speaker):\n",
    "            self.speaker = data.strip()\n",
    "            print(self.speaker)\n",
    "            self.speakerFound = False\n",
    "        return"
   ]
  },
  {
   "cell_type": "code",
   "execution_count": null,
   "id": "2a2aff09-833c-4706-9c02-2e4aa2d625c9",
   "metadata": {
    "tags": []
   },
   "outputs": [],
   "source": [
    "def sermonBkgndInfoRetrieval(pathfilename):\n",
    "    with open(pathfilename, \"r\") as fp:\n",
    "        htmltext = fp.read()\n",
    "    fp.close()\n",
    "    parser = MyHTMLParser()\n",
    "    parser.feed(htmltext)\n",
    "    return parser"
   ]
  },
  {
   "cell_type": "code",
   "execution_count": null,
   "id": "8d72a49c-8f73-4182-8d0f-fe6b51e66f9f",
   "metadata": {
    "tags": []
   },
   "outputs": [],
   "source": [
    "handles = []\n",
    "for filename in filelist:\n",
    "    print(filename)\n",
    "    sermonNum = int(filename)\n",
    "    handles.append((filename, sermonBkgndInfoRetrieval(f\"{hkbc_path}{filename}\")))\n",
    "    print()"
   ]
  },
  {
   "cell_type": "code",
   "execution_count": null,
   "id": "87c29092-d57a-42c0-9ef9-e6074f78f71b",
   "metadata": {
    "tags": []
   },
   "outputs": [],
   "source": [
    "def remove_preacher_title(preacher_with_title, title_list):\n",
    "    for title in title_list:\n",
    "        if title in preacher_with_title:\n",
    "            x = preacher_with_title.find(title)\n",
    "            return preacher_with_title[:x]"
   ]
  },
  {
   "cell_type": "code",
   "execution_count": null,
   "id": "258f9303-6b3e-4961-baff-d4503b0e8171",
   "metadata": {
    "tags": []
   },
   "outputs": [],
   "source": [
    "df = pd.DataFrame(\n",
    "    columns = [\n",
    "        'code',\n",
    "        'preacher',\n",
    "        'conference no.',\n",
    "        'lecture no.',\n",
    "        'title'\n",
    "    ]\n",
    ")\n",
    "\n",
    "# handles element contains\n",
    "# (h[0], h[1])\n",
    "# h[0]: sermon number\n",
    "# h[1] attributes:\n",
    "#     titleStr # the title\n",
    "#     confNumNum # the bible conference number\n",
    "#.    lectNum # the lecture number of current session\n",
    "#     speaker # the speaker\n",
    "for h in handles:\n",
    "    print(\n",
    "        h[0],\n",
    "        remove_preacher_title(h[1].speaker, preacherTitle_list),\n",
    "        h[1].confNum,\n",
    "        h[1].lectNum,\n",
    "        h[1].titleStr\n",
    "    )\n",
    "    df = pd.concat(\n",
    "        [df,\n",
    "         pd.DataFrame(\n",
    "             [[h[0],\n",
    "               remove_preacher_title(h[1].speaker, preacherTitle_list),\n",
    "               int(h[1].confNum[1:-1]),\n",
    "               int(h[1].lectNum[1:-1]),\n",
    "               h[1].titleStr]],\n",
    "             columns=['code', 'preacher', 'conference no.', 'lecture no.', 'title']\n",
    "         )\n",
    "        ]\n",
    "    )"
   ]
  },
  {
   "cell_type": "code",
   "execution_count": null,
   "id": "60895a2c-6a0a-42dc-91f3-c132b377ed7d",
   "metadata": {
    "tags": []
   },
   "outputs": [],
   "source": [
    "print(df)"
   ]
  },
  {
   "cell_type": "code",
   "execution_count": null,
   "id": "2f53b867-7516-482f-82a8-8be72f3ced73",
   "metadata": {},
   "outputs": [],
   "source": [
    "df['conference no.'] = pd.to_numeric(df['conference no.'], errors='coerce')"
   ]
  },
  {
   "cell_type": "code",
   "execution_count": null,
   "id": "153b35c0-89d8-49ba-be82-a9dcfbfdb509",
   "metadata": {},
   "outputs": [],
   "source": [
    "df['lecture no.'] = pd.to_numeric(df['lecture no.'], errors='coerce')"
   ]
  },
  {
   "cell_type": "code",
   "execution_count": null,
   "id": "aaf3eb5a-9a59-4244-891d-c80875fb0282",
   "metadata": {
    "tags": []
   },
   "outputs": [],
   "source": [
    "df = df.sort_values(['conference no.', 'preacher', 'lecture no.'])"
   ]
  },
  {
   "cell_type": "code",
   "execution_count": null,
   "id": "74962385-3c63-417e-a174-284e3631dad8",
   "metadata": {
    "tags": []
   },
   "outputs": [],
   "source": [
    "for index, row in df.iterrows():\n",
    "    print(\n",
    "        row['code'],\n",
    "        row['preacher'],\n",
    "        row['conference no.'],\n",
    "        row['lecture no.'],\n",
    "        row['title']\n",
    "    )"
   ]
  },
  {
   "cell_type": "code",
   "execution_count": null,
   "id": "b53b1574-da02-4042-865f-731b139f81e4",
   "metadata": {},
   "outputs": [],
   "source": []
  },
  {
   "cell_type": "code",
   "execution_count": null,
   "id": "c2a54cf2-445e-4e58-a34b-0b49ef6ad825",
   "metadata": {},
   "outputs": [],
   "source": []
  },
  {
   "cell_type": "code",
   "execution_count": null,
   "id": "eea258e7-6b05-4774-a420-0683d19b32d9",
   "metadata": {
    "tags": []
   },
   "outputs": [],
   "source": [
    "df.to_csv('./index_byc.csv', index=False)"
   ]
  },
  {
   "cell_type": "code",
   "execution_count": null,
   "id": "d646ce8e-29e5-4d9f-baeb-a1aef6346921",
   "metadata": {},
   "outputs": [],
   "source": []
  },
  {
   "cell_type": "code",
   "execution_count": null,
   "id": "890f8145-7ba5-468d-8507-375cd21b1ad4",
   "metadata": {},
   "outputs": [],
   "source": []
  }
 ],
 "metadata": {
  "kernelspec": {
   "display_name": "Python 3 (ipykernel)",
   "language": "python",
   "name": "python3"
  },
  "language_info": {
   "codemirror_mode": {
    "name": "ipython",
    "version": 3
   },
   "file_extension": ".py",
   "mimetype": "text/x-python",
   "name": "python",
   "nbconvert_exporter": "python",
   "pygments_lexer": "ipython3",
   "version": "3.10.10"
  }
 },
 "nbformat": 4,
 "nbformat_minor": 5
}
