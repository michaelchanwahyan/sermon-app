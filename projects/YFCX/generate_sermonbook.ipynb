{
 "cells": [
  {
   "cell_type": "code",
   "execution_count": null,
   "id": "7a2908dc",
   "metadata": {
    "tags": []
   },
   "outputs": [],
   "source": [
    "import os.path\n",
    "import pickle as pkl\n",
    "import re\n",
    "#from re import compile as recompile\n",
    "print('done !')"
   ]
  },
  {
   "cell_type": "code",
   "execution_count": null,
   "id": "8419d9bc-2140-4e84-9c45-4a3f118a826a",
   "metadata": {
    "tags": []
   },
   "outputs": [],
   "source": [
    "with open(\"code_dictionary.pkl\", \"rb\") as fp:\n",
    "    c2p_dict, bk2bkorder_dict, c2b_dict, c2ch_dict, c2v_dict, c2s_dict, c2t_dict, c2bvc_dict = pkl.load(fp)\n",
    "fp.close()"
   ]
  },
  {
   "cell_type": "code",
   "execution_count": null,
   "id": "f9cfd2e1-146e-4c58-9771-03d001697357",
   "metadata": {
    "tags": []
   },
   "outputs": [],
   "source": [
    "with open(\"x2code_dictionary.pkl\", \"rb\") as fp:\n",
    "    p2c_dict, b2c_dict = pkl.load(fp)\n",
    "fp.close()"
   ]
  },
  {
   "cell_type": "code",
   "execution_count": null,
   "id": "61692271-45a2-4417-b9fc-6303b8fefd2b",
   "metadata": {
    "tags": []
   },
   "outputs": [],
   "source": [
    "rgx = re.compile(r'([A-Za-z0-9=]+)\\^([A-Za-z0-9\\-]+)')"
   ]
  },
  {
   "cell_type": "code",
   "execution_count": null,
   "id": "d569ac91-432e-46f5-9ab1-0bff5ebbd3cd",
   "metadata": {
    "tags": []
   },
   "outputs": [],
   "source": [
    "print('checking of \"rgx.sub(r\\'$\\\\1^\\\\2$\\', \\'E=MC^2\\')\" :', rgx.sub(r'$\\1^\\2$', 'E=MC^-2'))"
   ]
  },
  {
   "cell_type": "markdown",
   "id": "6e469a86-5ee4-4f19-9006-22c35314835c",
   "metadata": {},
   "source": [
    "### print the latex document : sermon content"
   ]
  },
  {
   "cell_type": "code",
   "execution_count": null,
   "id": "d28920e4-79c2-479f-8a68-9d30ededa870",
   "metadata": {},
   "outputs": [],
   "source": [
    "with open('../rep_common.txt', 'r') as fp:\n",
    "    rep_list = [ _.strip() for _ in fp.readlines() ]\n",
    "fp.close()\n",
    "rep_list = [ _.split(\", '\", 1) for _ in rep_list ]\n",
    "rep_list = [ [_[0], _[1][:-1]] for _ in rep_list ]"
   ]
  },
  {
   "cell_type": "code",
   "execution_count": null,
   "id": "f5317a9c-b56d-400d-bf1a-d16fff2e31de",
   "metadata": {
    "tags": []
   },
   "outputs": [],
   "source": [
    "# compile regular expression rgx to cater math symbol '^'\n",
    "rgx = re.compile(r'([A-Za-z0-9=+\\-]+)\\^([A-Za-z0-9=+\\-]+)')\n",
    "print('checking of \"rgx.sub(r\\'$\\\\1^\\\\2$\\', \\'E=MC^-2\\')\" :', rgx.sub(r'$\\1^\\2$', 'E=MC^-2'))\n",
    "\n",
    "\n",
    "def cleanse_special_char(inputText):\n",
    "    txt2 = inputText\n",
    "    txt2 = txt2.replace('$', '\\\\$') # preserve this here since its higher priority than in html arguments\n",
    "    txt2 = rgx.sub(r'$\\1^\\2$', txt2)\n",
    "    for rep_ in rep_list:\n",
    "        txt2 = txt2.replace(rep_[0], rep_[1])\n",
    "    txt2 = txt2.replace('&', ' and ') # preserve this here since its lower priority than in html arguments\n",
    "    txt2 = txt2.strip()\n",
    "    return txt2"
   ]
  },
  {
   "cell_type": "code",
   "execution_count": null,
   "id": "1f8a74e8-bceb-4bf8-ac6d-8754b1965cb2",
   "metadata": {
    "tags": []
   },
   "outputs": [],
   "source": [
    "with open('../rep_whisper_trailing.txt', 'r') as fp:\n",
    "    whisper_trailing_rep_list = [ cleanse_special_char(_.strip()) for _ in fp.readlines() ]\n",
    "fp.close()"
   ]
  },
  {
   "cell_type": "code",
   "execution_count": null,
   "id": "cd9d76b5-6b1d-4430-9236-b66a901676ce",
   "metadata": {
    "tags": []
   },
   "outputs": [],
   "source": [
    "p_list = list(p2c_dict.keys())\n",
    "print(sorted(p_list))"
   ]
  },
  {
   "cell_type": "code",
   "execution_count": null,
   "id": "24f45a03-c1b9-4314-885d-27e906b6f8fb",
   "metadata": {
    "tags": []
   },
   "outputs": [],
   "source": [
    "def check_in_year_range(code, year_range=[2012,2018]):\n",
    "    # tstr = c2t_dict.get(code, ' ')\n",
    "    # # print(tstr)\n",
    "    in_range = False\n",
    "    for yr in range(year_range[0], year_range[1] + 1):\n",
    "        # if str(yr) in tstr:\n",
    "        if str(yr) in code:\n",
    "            in_range = True\n",
    "            break\n",
    "    return in_range"
   ]
  },
  {
   "cell_type": "code",
   "execution_count": null,
   "id": "4f4e5c0b-aba3-4df5-a8f8-6ddb0c22ba5d",
   "metadata": {
    "tags": []
   },
   "outputs": [],
   "source": [
    "with open(\"./index_byt.csv\", \"r\") as fp:\n",
    "    lines = fp.readlines()\n",
    "fp.close()"
   ]
  },
  {
   "cell_type": "code",
   "execution_count": null,
   "id": "adaf5425-ceb9-4846-a5b6-a1cadeb919e9",
   "metadata": {
    "tags": []
   },
   "outputs": [],
   "source": [
    "print('2020-2023 sermon count:',\n",
    "    len(   [ line \\\n",
    "                 for line in lines \\\n",
    "                     if check_in_year_range(\n",
    "                         line.split(',')[-1],\n",
    "                         [2020,2023]\n",
    "                     )\n",
    "            ] )\n",
    "     )"
   ]
  },
  {
   "cell_type": "code",
   "execution_count": null,
   "id": "4f47169f",
   "metadata": {},
   "outputs": [],
   "source": [
    "print('2024-2027 sermon count:',\n",
    "    len(   [ line \\\n",
    "                 for line in lines \\\n",
    "                     if check_in_year_range(\n",
    "                         line.split(',')[-1],\n",
    "                         [2024,2027]\n",
    "                     )\n",
    "            ] )\n",
    "     )"
   ]
  },
  {
   "cell_type": "code",
   "execution_count": null,
   "id": "a4963492-e78b-4a0b-952e-9a936130730d",
   "metadata": {
    "tags": []
   },
   "outputs": [],
   "source": [
    "rgx_bv = re.compile(r'(?<=\\d)[_](?=\\d)')"
   ]
  },
  {
   "cell_type": "code",
   "execution_count": null,
   "id": "2ef08f01",
   "metadata": {},
   "outputs": [],
   "source": [
    "def print_prefix(sermon_tex_filepath, yyyy_start, yyyy_end, progressStepCnt):\n",
    "    progressStepCnt += 1\n",
    "    print(f\"Step {progressStepCnt}: printing out prefixing\")\n",
    "    _ = os.system(f\"cat ../prefix.tex | sed 's/粵語講道逐字稿/播道會恩福堂 粵語講道逐字稿 {str(yyyy_start)}-{str(yyyy_end)[-2:]}/' | sed 's/Youtube Channel:/Youtube Channel: YanFook Church YanFook Youth/' > \" + sermon_tex_filepath)\n",
    "    return progressStepCnt"
   ]
  },
  {
   "cell_type": "code",
   "execution_count": null,
   "id": "14c3d177",
   "metadata": {},
   "outputs": [],
   "source": [
    "def yfcx_sermon_title_processing(cc):\n",
    "    sstr = c2s_dict.get(cc, ' ')\n",
    "    sstr = re.sub(r'[0-9][0-9][0-9][0-9].[0-9][0-9].[0-9][0-9]', '', sstr) # remove date from title\n",
    "    sstr = rgx_bv.sub(':', sstr) # adjust bible verse , use ':' to replace '_'\n",
    "    sstr = sstr[:-13] # remove trailing youtube code\n",
    "    sstr = sstr.replace('網上直播', '')\n",
    "    sstr = cleanse_special_char(\n",
    "        sstr.replace('_', '\\\\_').replace('&', '\\\\&')\n",
    "    )\n",
    "    sstr = sstr.strip()\n",
    "    return sstr"
   ]
  },
  {
   "cell_type": "code",
   "execution_count": null,
   "id": "2fbac889",
   "metadata": {},
   "outputs": [],
   "source": [
    "def generate_toc(sermon_tex_filepath, index_file, toc_type, yyyy_start, yyyy_end, progressStepCnt):\n",
    "    progressStepCnt += 1\n",
    "    print(f\"Step {progressStepCnt}: reading in full index file\")\n",
    "    with open(index_file, 'r') as fp:\n",
    "        lines = fp.readlines()\n",
    "    lines = [ line \\\n",
    "                 for line in lines \\\n",
    "                     if check_in_year_range(\n",
    "                         line.split(',')[-1],\n",
    "                         [yyyy_start, yyyy_end]\n",
    "                     )\n",
    "            ]\n",
    "\n",
    "    progressStepCnt += 1\n",
    "    print(f\"Step {progressStepCnt}: writing TOC in {toc_type} order\")\n",
    "    with open(sermon_tex_filepath, \"a\") as fp:\n",
    "        if   toc_type == 'title':\n",
    "            fp.write(f\"\\\\section{{目錄\\\\small{{(順題)}}}}\\n\")\n",
    "        elif toc_type == 'chronic':\n",
    "            fp.write(f\"\\\\section{{目錄\\\\small{{(順時)}}}}\\n\")\n",
    "        elif toc_type == 'preacher':\n",
    "            fp.write(f\"\\\\section{{目錄\\\\small{{(順仕)}}}}\\n\")\n",
    "        elif toc_type == 'scriptual':\n",
    "            fp.write(f\"\\\\section{{目錄\\\\small{{(順卷)}}}}\\n\")\n",
    "        fp.write(f\"\\\\label{{sec:index_{toc_type}}}\\n\")\n",
    "        fp.write(\"{ \\\\scriptsize\\n\")\n",
    "        # --------------------------------------\n",
    "        # start of TOC table\n",
    "        # --------------------------------------\n",
    "        fp.write(\"\\n\\n\\\\begin{xltabular}{\\\\textwidth}{|p{0.15\\\\textwidth} p{0.6\\\\textwidth}|p{0.07\\\\textwidth} p{0.1\\\\textwidth}|}\\n\")\n",
    "        fp.write(\"\\\\hline\\n\")\n",
    "        # --------------------------------------\n",
    "        # lines is the line content in index_{toc_type}\n",
    "        # --------------------------------------\n",
    "        for line in lines:\n",
    "            cc = line.split(\",\")[0]\n",
    "            # --------------------------------------\n",
    "            # only include this code cc if it is\n",
    "            # ready in the transcription folder\n",
    "            # --------------------------------------\n",
    "            if os.path.isfile(f'../../data/YFCX/{cc}.txt'):\n",
    "                bstr = c2b_dict.get(cc, ' ')\n",
    "                vstr = c2v_dict.get(cc, ' ')\n",
    "                sstr = yfcx_sermon_title_processing(cc)\n",
    "                tstr = c2t_dict.get(cc, ' ')\n",
    "                ystr = \"\\\\href{https://youtube.com/watch?v=\" + cc +\"}{\\\\texttt{\" + cc.replace('_', '\\\\_') + \"}}\"\n",
    "                fp.write(bstr + ' ' + vstr + \" & \"\n",
    "                         + \"\\\\hyperref[sec:\"+cc.replace('-', '_')+\"]{\"+sstr+\"}\" + \" & \"\n",
    "                         + tstr + \" & \"\n",
    "                         + ystr + \" \\\\\\\\\\n\")\n",
    "        fp.write(\"\\\\end{xltabular}\\n\")\n",
    "        fp.write(\"}\\n\")\n",
    "        fp.write(\"\\\\newpage\\n\\n\")\n",
    "    # --------------------------------------\n",
    "    # end of table sorted by toc_type\n",
    "    # --------------------------------------\n",
    "    return progressStepCnt"
   ]
  },
  {
   "cell_type": "code",
   "execution_count": null,
   "id": "5d87d36c",
   "metadata": {},
   "outputs": [],
   "source": [
    "def write_scripture_part(fp, cc):\n",
    "    # ----------------------\n",
    "    # add the scripture part if not None\n",
    "    bvc_curr = c2bvc_dict.get(cc)\n",
    "    if bvc_curr is not None:\n",
    "        bvc_curr = bvc_curr.split(\"\\n\")\n",
    "        # first row shall be book + verse info\n",
    "        fp.write(bvc_curr[0].strip() + \"\\n\")\n",
    "        fp.write(\"\\\\newline\\n\")\n",
    "        fp.write(\"\\\\begin{longtable}{cl}\\n\")\n",
    "        fp.write(\"\\\\hline\\n\\\\hline\\n\")\n",
    "        fp.write(\"章節 & 經文 (和合本修訂版)\\\\\\\\\\n\")\n",
    "        fp.write(\"\\\\hline\\n\")\n",
    "        for bvc_line in bvc_curr[1:]:\n",
    "            bvc_line = bvc_line.strip()\n",
    "            if len(bvc_line) > 0:\n",
    "                if bvc_line != [_.strip() for _ in bvc_curr if len(_.strip())][-1]:\n",
    "                    bvc_line += \" \\\\\\\\ \\\\\\\\ \\\\relax\\n\"\n",
    "                else:\n",
    "                    bvc_line += \" \\\\\\\\ \\\\\\\\\\n\"\n",
    "                si = bvc_line.find(\" \")\n",
    "                if si == -1:\n",
    "                    bvc_line = \"& \" + \"\\\\begin{tabularx}{0.7\\\\textwidth}{X} \" + bvc_line + \" \\\\end{tabularx}\"\n",
    "                else:\n",
    "                    bvc_line = bvc_line[:si].replace(\".\", \":\") + \" & \" + \"\\\\begin{tabularx}{0.7\\\\textwidth}{X} \" + bvc_line[si+1:]\n",
    "                    nli = bvc_line.find(\" \\\\\\\\\")\n",
    "                    bvc_line = bvc_line[:nli] + \" \\\\end{tabularx}\" + bvc_line[nli:]\n",
    "                fp.write(bvc_line)\n",
    "        fp.write(\"[1ex]\\n\")\n",
    "        fp.write(\"\\\\hline\\n\\\\hline\\n\")\n",
    "        fp.write(\"\\\\end{longtable}\\n\")"
   ]
  },
  {
   "cell_type": "code",
   "execution_count": null,
   "id": "263a5b8b",
   "metadata": {},
   "outputs": [],
   "source": [
    "def write_sermon_text(fp, cc):\n",
    "    with open(f\"../../data/YFCX/{cc}.txt\", \"r\") as fp_:\n",
    "        the_sermon_text = fp_.read()\n",
    "    the_sermon_text = cleanse_special_char(the_sermon_text).replace(\"\\\\n\\\\n\", \"\\\\n\")\n",
    "    textlines = the_sermon_text.split(\"\\n\")\n",
    "    _textrow_cnt = 0\n",
    "    textline_prev = ''\n",
    "    for textline in textlines:\n",
    "        # ----------------------------------------------------------------------\n",
    "        # check if whisper_trailing_rep_list any 2 match\n",
    "        iterator = iter(whisper_trailing_rep_list)\n",
    "        matchCnt = 0\n",
    "        # Use the next function to retrieve the elements of the iterator\n",
    "        try:\n",
    "            while True:\n",
    "                ele = next(iterator)\n",
    "                if ele in textline:\n",
    "                    matchCnt += 1\n",
    "        except StopIteration:\n",
    "            pass\n",
    "        whisper_trailing_pattern_match = matchCnt >= 2\n",
    "        # END OF check if whisper_trailing_rep_list any 2 match\n",
    "        # ----------------------------------------------------------------------\n",
    "        if textline == textline_prev:\n",
    "            textline_prev = textline\n",
    "            continue\n",
    "        elif re.sub(r'[()]', '', textline.strip()) in whisper_trailing_rep_list:\n",
    "            continue\n",
    "        elif whisper_trailing_pattern_match:\n",
    "            continue\n",
    "        else:\n",
    "            textline_prev = textline\n",
    "        _textrow_cnt += 1\n",
    "        if _textrow_cnt % 40 == 1:\n",
    "            fp.write(\"$^{%d}$\" % _textrow_cnt)\n",
    "        if textline.count('$') == 1:\n",
    "            # if the text line contains odd number of\n",
    "            # dollar sign '$', it would probably bring up error\n",
    "            # over 95% of the situation is that there only has 1 '$' sign\n",
    "            textline = textline.replace('$', '\\\\$')\n",
    "        fp.write(textline + \"\\n\")\n",
    "        if _textrow_cnt % 40 == 0:\n",
    "            fp.write(\"\\n\")"
   ]
  },
  {
   "cell_type": "code",
   "execution_count": null,
   "id": "1b854607",
   "metadata": {},
   "outputs": [],
   "source": [
    "def write_sermon_section(sermon_tex_filepath, cc, cc_prev, cc_next):\n",
    "    with open(sermon_tex_filepath, \"a\") as fp:\n",
    "        sectionNameStr = f\"{c2b_dict.get(cc, '')} {c2v_dict.get(cc, '')}\".strip()\n",
    "        fp.write(f\"\\n\\n\\\\section{{{sectionNameStr}}}\\n\")\n",
    "        fp.write(f\"\\\\label{{sec:{cc.replace('-', '_')}}}\\n\")\n",
    "        sstr = yfcx_sermon_title_processing(cc)\n",
    "        fp.write(f\"\\\\textbf{{{sstr}}}\\n\")\n",
    "        fp.write(\"\\\\newline\\n\\\\newline\\n\")\n",
    "        cc_ud_protect = cc.replace('_', '\\\\_')\n",
    "        fp.write(f\"連結: \\\\href{{https://youtube.com/watch?v={cc}}}{{\\\\texttt{{https://youtube.com/watch?v={cc_ud_protect}}}}} ~~~~ 語音日期: {c2t_dict.get(cc)}\\n\")\n",
    "        fp.write(\"\\\\newline\\n\\\\newline\\n\")\n",
    "        fp.write(f\"\\\\hyperref[sec:{cc_prev.replace('-', '_')}]{{\\\\small{{< < < PREV SERMON < < <}}}}\\n\")\n",
    "        fp.write(\"~\\n\")\n",
    "        fp.write(\"\\\\hyperref[sec:index_chronic]{\\\\small{[返順時目]}}\\n\")\n",
    "        fp.write(\"~\\n\")\n",
    "        fp.write(\"\\\\hyperref[sec:index_scriptual]{\\\\small{[返順卷目]}}\\n\")\n",
    "        fp.write(\"~\\n\")\n",
    "        fp.write(f\"\\\\hyperref[sec:{cc_next.replace('-', '_')}]{{\\\\small{{> > > NEXT SERMON > > >}}}}\\n\")\n",
    "        fp.write(\"\\\\newline\\n\\\\newline\\n\")\n",
    "        write_scripture_part(fp, cc)\n",
    "        write_sermon_text(fp, cc)\n",
    "        fp.write(\"\\\\newpage\\n\\n\")"
   ]
  },
  {
   "cell_type": "code",
   "execution_count": null,
   "id": "513049e9",
   "metadata": {},
   "outputs": [],
   "source": [
    "def generate_main_content(sermon_tex_filepath, index_file, yyyy_start, yyyy_end, progressStepCnt):\n",
    "    with open(index_file, \"r\") as fp:\n",
    "        lines = fp.readlines()\n",
    "    lines = [ line \\\n",
    "            for line in lines \\\n",
    "                if check_in_year_range(\n",
    "                    line.split(',')[-1],\n",
    "                    [yyyy_start,yyyy_end]\n",
    "                )\n",
    "        ]\n",
    "    progressStepCnt += 1\n",
    "    print(f\"Step {progressStepCnt}: generate main content\")\n",
    "    for lineId, line in enumerate(lines):\n",
    "        if (lineId+1) % 100 == 0:\n",
    "            print(f\"{lineId+1} of {len(lines)}\")\n",
    "        cc = line.split(\",\")[0]\n",
    "        cc_prev = lines[(lineId-1)%len(lines)].split(\",\")[0]\n",
    "        cc_next = lines[(lineId+1)%len(lines)].split(\",\")[0]\n",
    "        if os.path.isfile(f'../../data/YFCX/{cc}.txt'):\n",
    "            write_sermon_section(sermon_tex_filepath, cc, cc_prev, cc_next)\n",
    "    return progressStepCnt"
   ]
  },
  {
   "cell_type": "code",
   "execution_count": null,
   "id": "c660f325",
   "metadata": {},
   "outputs": [],
   "source": [
    "def generate_afterword_and_postfix(sermon_tex_filepath):\n",
    "    _ = os.system(\"cat ../afterword.tex >> \" + sermon_tex_filepath)\n",
    "    _ = os.system(\"cat ../postfix.tex >> \" + sermon_tex_filepath)"
   ]
  },
  {
   "cell_type": "code",
   "execution_count": null,
   "id": "89e94f95",
   "metadata": {},
   "outputs": [],
   "source": [
    "def sermon_tex_from_year(yyyy_start, yyyy_end):\n",
    "    # yyyy_start : starting year, e.g. 2012\n",
    "    # yyyy_end.  : ending year, e.g. 2018\n",
    "    progressStepCnt = 0\n",
    "    sermon_tex_filepath = f\"../../build/YFCX/sermon_YFCX_{str(yyyy_start)}-{str(yyyy_end)[-2:]}.tex\"\n",
    "    # --------------------------------------\n",
    "    # print the latex document : prefix\n",
    "    # --------------------------------------\n",
    "    progressStepCnt = print_prefix(sermon_tex_filepath, yyyy_start, yyyy_end, progressStepCnt)\n",
    "    # --------------------------------------\n",
    "    # only take into account index table\n",
    "    # within desired year range\n",
    "    # --------------------------------------\n",
    "    progressStepCnt = generate_toc(sermon_tex_filepath, './index_byt.csv', 'chronic', yyyy_start, yyyy_end, progressStepCnt)\n",
    "    progressStepCnt = generate_toc(sermon_tex_filepath, './index_byb.csv', 'scriptual', yyyy_start, yyyy_end, progressStepCnt)\n",
    "    progressStepCnt = generate_main_content(sermon_tex_filepath, './index_byt.csv', yyyy_start, yyyy_end, progressStepCnt)\n",
    "    # --------------------------------------\n",
    "    # print the latex document : afterword and postfix\n",
    "    # --------------------------------------\n",
    "    generate_afterword_and_postfix(sermon_tex_filepath)\n",
    "\n",
    "    print(\"done !\")"
   ]
  },
  {
   "cell_type": "markdown",
   "id": "fcf13a71",
   "metadata": {},
   "source": [
    "## 2020-2023 Sermons"
   ]
  },
  {
   "cell_type": "code",
   "execution_count": null,
   "id": "36c3befd",
   "metadata": {},
   "outputs": [],
   "source": [
    "sermon_tex_from_year(2020, 2023)"
   ]
  },
  {
   "cell_type": "markdown",
   "id": "a5adae6b",
   "metadata": {},
   "source": [
    "## 2024-2027 Sermons"
   ]
  },
  {
   "cell_type": "code",
   "execution_count": null,
   "id": "560b7db2",
   "metadata": {},
   "outputs": [],
   "source": [
    "sermon_tex_from_year(2024, 2027)"
   ]
  },
  {
   "cell_type": "code",
   "execution_count": null,
   "id": "58257a32-cbbd-4fc2-82cf-59b4d885e537",
   "metadata": {},
   "outputs": [],
   "source": []
  },
  {
   "cell_type": "code",
   "execution_count": null,
   "id": "6bedb818-1df2-4beb-b43d-aca49e01b603",
   "metadata": {},
   "outputs": [],
   "source": []
  }
 ],
 "metadata": {
  "kernelspec": {
   "display_name": "Python 3 (ipykernel)",
   "language": "python",
   "name": "python3"
  },
  "language_info": {
   "codemirror_mode": {
    "name": "ipython",
    "version": 3
   },
   "file_extension": ".py",
   "mimetype": "text/x-python",
   "name": "python",
   "nbconvert_exporter": "python",
   "pygments_lexer": "ipython3",
   "version": "3.10.10"
  }
 },
 "nbformat": 4,
 "nbformat_minor": 5
}
