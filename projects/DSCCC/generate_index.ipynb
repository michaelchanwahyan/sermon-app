{
 "cells": [
  {
   "cell_type": "code",
   "execution_count": null,
   "id": "7a2908dc",
   "metadata": {
    "tags": []
   },
   "outputs": [],
   "source": [
    "from datetime import datetime, timedelta\n",
    "import time\n",
    "import json\n",
    "import os.path\n",
    "import pandas as pd\n",
    "\n",
    "import itertools\n",
    "import collections\n",
    "\n",
    "import pickle as pkl\n",
    "\n",
    "import re\n",
    "from re import compile as recompile\n",
    "\n",
    "print('done !')"
   ]
  },
  {
   "cell_type": "code",
   "execution_count": null,
   "id": "8419d9bc-2140-4e84-9c45-4a3f118a826a",
   "metadata": {
    "tags": []
   },
   "outputs": [],
   "source": [
    "# obtain the whole source of DSCCC\n",
    "import os\n",
    "dsccc_path = '../../data/DSCCC/'\n",
    "filelist = sorted(os.listdir(dsccc_path))"
   ]
  },
  {
   "cell_type": "code",
   "execution_count": null,
   "id": "b1ae871a",
   "metadata": {},
   "outputs": [],
   "source": []
  },
  {
   "cell_type": "code",
   "execution_count": null,
   "id": "e67b6c59",
   "metadata": {},
   "outputs": [],
   "source": []
  },
  {
   "cell_type": "code",
   "execution_count": null,
   "id": "34f57838-78d4-4a60-b217-e873c442584c",
   "metadata": {
    "tags": []
   },
   "outputs": [],
   "source": [
    "# the initial of different kind of preacher\n",
    "preacherTitle_list = ['博士','牧師','傳道','老師','先生','教授','弟兄','社長','長老','醫生']"
   ]
  },
  {
   "cell_type": "code",
   "execution_count": null,
   "id": "edc66bdf-4fc1-4b74-a029-c791d4e0004d",
   "metadata": {},
   "outputs": [],
   "source": []
  },
  {
   "cell_type": "code",
   "execution_count": null,
   "id": "a9be1306-755f-46e6-9c76-68e686a159e0",
   "metadata": {},
   "outputs": [],
   "source": []
  },
  {
   "cell_type": "code",
   "execution_count": null,
   "id": "f5369fc6-eb22-493e-8497-6d3ba445321e",
   "metadata": {
    "tags": []
   },
   "outputs": [],
   "source": [
    "# cannot use datetime as the key\n",
    "# because there can have multiple sermon\n",
    "# marked on the same date\n",
    "# dt2t_dict = {} # datetime-to-title dict\n",
    "# dt2p_dict = {} # datetime-to-preacher dict\n",
    "rid2dtptcv_dict = {} # record_id to datetime, preacher, title, and bible chapter-verse dictionary\n",
    "# {rid: [dt, p, t]}\n",
    "record_id = 0\n",
    "for fname in filelist:\n",
    "    if '.txt' not in fname:\n",
    "        continue\n",
    "    _ = fname.split('_')\n",
    "    dt = _[0] # datetime\n",
    "    title = _[1].replace('.txt', '') # title\n",
    "    with open(dsccc_path + fname, 'r') as fp:\n",
    "        # to obtain the preacher name\n",
    "        row1st = fp.readline()\n",
    "        # print(row1st)\n",
    "        if '-' in row1st:\n",
    "            _ = row1st.split('-')\n",
    "        else:\n",
    "            _ = row1st.split('–')\n",
    "        p = _[0].strip() # preacher\n",
    "        # to obtain bible chapter and verse coverage\n",
    "        cv_text = ''\n",
    "        lines = fp.readlines()\n",
    "        for line in lines:\n",
    "            try:\n",
    "                remaining_text = line\n",
    "                if '經文：' in remaining_text[:3] \\\n",
    "                or '讀經：' in remaining_text[:3] \\\n",
    "                or '經課：' in remaining_text[:3]:\n",
    "                    cv_text = remaining_text.split('：')[1].strip()\n",
    "                    cv_text = cv_text \\\n",
    "                        .replace('：', ':') \\\n",
    "                        .replace('章', ':') \\\n",
    "                        .replace('節', '') \\\n",
    "                        .replace('至', '-') \\\n",
    "                        .replace('，', ',') \\\n",
    "                        .replace('；', ';') \\\n",
    "                        .replace(' ', '') \\\n",
    "                        .replace('\"', '') \\\n",
    "                        .strip()\n",
    "                    # cv_text description rules:\n",
    "                    #     if multiple number of books are included\n",
    "                    #     there is a ';' serving as a delimiter\n",
    "                    #     if multiple verses / chapters / chapter-verses are included\n",
    "                    #     from the same book, a ',' serves as a delimiter\n",
    "                    # if ',' in cv_text or ';' in cv_text:\n",
    "                    #     print(dt, title)\n",
    "                    #     print(cv_text)\n",
    "                    break\n",
    "                else:\n",
    "                    continue\n",
    "            except:\n",
    "                break\n",
    "    fp.close()\n",
    "    rid2dtptcv_dict[record_id] = [dt, title, p, cv_text]\n",
    "    # print(rid2dtptcv_dict[record_id])\n",
    "    record_id += 1"
   ]
  },
  {
   "cell_type": "code",
   "execution_count": null,
   "id": "2fc6e69c-03ae-431f-b16a-ca0b71e59d2b",
   "metadata": {
    "tags": []
   },
   "outputs": [],
   "source": [
    "df = pd.DataFrame(\n",
    "    [rid2dtptcv_dict.get(rid) for rid in range(len(rid2dtptcv_dict.keys()))],\n",
    "    columns = [\n",
    "        'date',\n",
    "        'title',\n",
    "        'preacher',\n",
    "        'coverage'\n",
    "    ]\n",
    ")"
   ]
  },
  {
   "cell_type": "code",
   "execution_count": null,
   "id": "576581ee-4b35-4287-bb1f-c6feede824e6",
   "metadata": {
    "tags": []
   },
   "outputs": [],
   "source": [
    "print(df)"
   ]
  },
  {
   "cell_type": "code",
   "execution_count": null,
   "id": "633e0f65-c377-4402-9c4b-c16d98feade3",
   "metadata": {
    "tags": []
   },
   "outputs": [],
   "source": [
    "print(f\"total number of sermons count: {len(rid2dtptcv_dict.keys())}\")"
   ]
  },
  {
   "cell_type": "code",
   "execution_count": null,
   "id": "aaf3eb5a-9a59-4244-891d-c80875fb0282",
   "metadata": {
    "tags": []
   },
   "outputs": [],
   "source": [
    "df = df.sort_values(['date', 'title'])"
   ]
  },
  {
   "cell_type": "code",
   "execution_count": null,
   "id": "74962385-3c63-417e-a174-284e3631dad8",
   "metadata": {
    "tags": []
   },
   "outputs": [],
   "source": [
    "for index, row in df.iterrows():\n",
    "    print(\n",
    "        row['date'],\n",
    "        row['title'],\n",
    "        row['preacher'],\n",
    "        row['coverage']\n",
    "    )"
   ]
  },
  {
   "cell_type": "code",
   "execution_count": null,
   "id": "b53b1574-da02-4042-865f-731b139f81e4",
   "metadata": {},
   "outputs": [],
   "source": []
  },
  {
   "cell_type": "code",
   "execution_count": null,
   "id": "c2a54cf2-445e-4e58-a34b-0b49ef6ad825",
   "metadata": {},
   "outputs": [],
   "source": []
  },
  {
   "cell_type": "code",
   "execution_count": null,
   "id": "eea258e7-6b05-4774-a420-0683d19b32d9",
   "metadata": {
    "tags": []
   },
   "outputs": [],
   "source": [
    "df.to_csv('./index_byd.csv', index=False)"
   ]
  },
  {
   "cell_type": "code",
   "execution_count": null,
   "id": "d646ce8e-29e5-4d9f-baeb-a1aef6346921",
   "metadata": {},
   "outputs": [],
   "source": []
  },
  {
   "cell_type": "code",
   "execution_count": null,
   "id": "890f8145-7ba5-468d-8507-375cd21b1ad4",
   "metadata": {},
   "outputs": [],
   "source": []
  }
 ],
 "metadata": {
  "kernelspec": {
   "display_name": "Python 3 (ipykernel)",
   "language": "python",
   "name": "python3"
  },
  "language_info": {
   "codemirror_mode": {
    "name": "ipython",
    "version": 3
   },
   "file_extension": ".py",
   "mimetype": "text/x-python",
   "name": "python",
   "nbconvert_exporter": "python",
   "pygments_lexer": "ipython3",
   "version": "3.10.10"
  }
 },
 "nbformat": 4,
 "nbformat_minor": 5
}
