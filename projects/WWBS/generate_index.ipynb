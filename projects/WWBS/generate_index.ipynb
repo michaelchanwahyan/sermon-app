{
 "cells": [
  {
   "cell_type": "code",
   "execution_count": null,
   "id": "7a2908dc",
   "metadata": {
    "tags": []
   },
   "outputs": [],
   "source": [
    "from datetime import datetime, timedelta\n",
    "import time\n",
    "import json\n",
    "import os.path\n",
    "import logging\n",
    "import argparse\n",
    "import matplotlib.pyplot as plt\n",
    "import numpy as np\n",
    "from matplotlib.backends.backend_pdf import PdfPages\n",
    "import pandas as pd\n",
    "\n",
    "import itertools\n",
    "import collections\n",
    "\n",
    "import pickle as pkl\n",
    "\n",
    "import re\n",
    "from re import compile as recompile\n",
    "\n",
    "# PySpark and create Spark context\n",
    "if not 'sc' in locals():\n",
    "    import pyspark\n",
    "    sc = pyspark.SparkContext()\n",
    "\n",
    "print('done !')"
   ]
  },
  {
   "cell_type": "code",
   "execution_count": null,
   "id": "8419d9bc-2140-4e84-9c45-4a3f118a826a",
   "metadata": {
    "tags": []
   },
   "outputs": [],
   "source": [
    "# obtain the whole webpage of the sermon videos uploaded by Yan Fook Church - Youth\n",
    "\n",
    "# note: streams contains live streams during covid pandemic\n",
    "import os\n",
    "_ = os.system(\"rm -f videos\")\n",
    "_ = os.system(\"wget https://youtube.com/@WorldwideBibleSociety/videos\")"
   ]
  },
  {
   "cell_type": "code",
   "execution_count": null,
   "id": "b11cc02d-a639-4ba7-8ea1-d7ad8d11a543",
   "metadata": {
    "tags": []
   },
   "outputs": [],
   "source": [
    "# read in the html source of the webpage\n",
    "with open(\"videos\", \"r\") as fp:\n",
    "    vtext = fp.read()\n",
    "fp.close()"
   ]
  },
  {
   "cell_type": "markdown",
   "id": "fea1239c-1fb0-4156-88af-e134c7e0169c",
   "metadata": {
    "tags": []
   },
   "source": [
    "### Run By Your Host System if new audio files are included\n",
    "cd ~/One*/TPPHC/SERMON/WWBS/\n",
    "\n",
    "ls *.mp3 > ~/SOURCE/sermon-app/projects/WWBS/exlist.txt\n",
    "\n",
    "vim ~/SOURCE/sermon-app/projects/WWBS/exlist.txt # edit to only preserve the 11-character hash code"
   ]
  },
  {
   "cell_type": "code",
   "execution_count": null,
   "id": "8fe9c253",
   "metadata": {
    "tags": []
   },
   "outputs": [],
   "source": [
    "# refetch the list of existing audio files\n",
    "with open(\"exlist.txt\", \"r\") as fp:\n",
    "    ex_list = fp.readlines()\n",
    "fp.close()\n",
    "ex_list = [ _.strip() for _ in ex_list ]\n",
    "print('existing list contains %d' % len(ex_list))"
   ]
  },
  {
   "cell_type": "code",
   "execution_count": null,
   "id": "42616ef6-05ec-48c5-83fc-ce4ffdf7d34b",
   "metadata": {
    "tags": []
   },
   "outputs": [],
   "source": [
    "with open(\"rejection_list.txt\", \"r\") as fp:\n",
    "    rj_list = fp.readlines()\n",
    "fp.close()\n",
    "rj_list = [ _.strip() for _ in rj_list ]\n",
    "print('rejection list contains %d' % len(rj_list))"
   ]
  },
  {
   "cell_type": "code",
   "execution_count": null,
   "id": "9bab5e09",
   "metadata": {
    "tags": []
   },
   "outputs": [],
   "source": [
    "# use regular expression to find all the occurance of video\n",
    "# by the youtube code pattern\n",
    "_list = re.findall( r'watch\\?v=(...........)', vtext)\n",
    "print('Worldwide Bible Society completed list contains %d' % len(_list))"
   ]
  },
  {
   "cell_type": "code",
   "execution_count": null,
   "id": "f2125e93",
   "metadata": {
    "tags": []
   },
   "outputs": [],
   "source": [
    "# for newly found youtube videos in webpage html but\n",
    "# not yet in the list of audio files, we identify them\n",
    "# and pack them into 'needed_list'\n",
    "needed_list =  [_ for _ in _list if _ not in ex_list and _ not in rj_list ]\n",
    "needed_list = list(set(needed_list))\n",
    "N = len(needed_list)\n",
    "print('total count of new recording contents: %d' % N)"
   ]
  },
  {
   "cell_type": "code",
   "execution_count": null,
   "id": "d65af697",
   "metadata": {
    "tags": []
   },
   "outputs": [],
   "source": [
    "# generate download script\n",
    "_ = os.system(\"rm -f download.sh\")\n",
    "cnt = 1\n",
    "if not os.path.isfile(\"download.sh\"):\n",
    "    with open(\"download.sh\", \"w\") as fp:\n",
    "        fp.write('#!/bin/bash\\n')\n",
    "        for needed_code in needed_list:\n",
    "            fp.write('echo ; echo ; date ; ')\n",
    "            fp.write('echo ; echo ; echo %d / %d ; ' % (cnt, N))\n",
    "            fp.write('echo ; echo ; yt-dlp -x --audio-format mp3 ')\n",
    "            fp.write('https://youtube.com/watch?v=%s\\n' % needed_code)\n",
    "            cnt += 1\n",
    "    fp.close()"
   ]
  },
  {
   "cell_type": "code",
   "execution_count": null,
   "id": "d7682f93",
   "metadata": {},
   "outputs": [],
   "source": []
  },
  {
   "cell_type": "code",
   "execution_count": null,
   "id": "ec7f8125",
   "metadata": {},
   "outputs": [],
   "source": []
  },
  {
   "cell_type": "markdown",
   "id": "91da0fcd-d4b6-436c-88f3-6f8be882460a",
   "metadata": {},
   "source": [
    "### Run By Your Host System\n",
    "cd ~/SOURCE/sermon-app/projects\n",
    "\n",
    "bash download.sh\n",
    "\n",
    "### move the downloaded mp3 back to my audio storage directory\n",
    "mv \\*.mp3 ~/One*/TPPHC/SERMON/CGST/"
   ]
  },
  {
   "cell_type": "code",
   "execution_count": null,
   "id": "b1ae871a",
   "metadata": {},
   "outputs": [],
   "source": []
  },
  {
   "cell_type": "code",
   "execution_count": null,
   "id": "e67b6c59",
   "metadata": {},
   "outputs": [],
   "source": []
  },
  {
   "cell_type": "code",
   "execution_count": null,
   "id": "34f57838-78d4-4a60-b217-e873c442584c",
   "metadata": {
    "tags": []
   },
   "outputs": [],
   "source": [
    "# the initial of different kind of preacher\n",
    "preacherTitle_list = ['博士','牧師','傳道','老師','先生','教授','弟兄','社長', '神學生', '師母']"
   ]
  },
  {
   "cell_type": "code",
   "execution_count": null,
   "id": "49a8f269-813c-43a8-9e9a-14a00fd390e8",
   "metadata": {
    "tags": []
   },
   "outputs": [],
   "source": [
    "# the bible books\n",
    "book_list = [\n",
    "    '創世記','出埃及記','利未記','民數記','申命記',\n",
    "    '約書亞記','士師記','撒母耳記上','撒母耳記下','列王記上','列王記下',\n",
    "    '以賽亞書','耶利米書','以西結書',\n",
    "    '何西阿書','約珥書','阿摩司書','俄巴底亞書','約拿書','彌迦書',\n",
    "    '那鴻書','哈巴谷書','西番雅書','哈該書','撒迦利亞書','瑪拉基書',\n",
    "    '詩篇','箴言','約伯記','雅歌','路得記','耶利米哀歌','傳道書',\n",
    "    '以斯帖記','但以理書','以斯拉記','尼希米記','歷代志上','歷代志下',\n",
    "    '馬太福音','馬可福音','路加福音','約翰福音','使徒行傳',\n",
    "    '羅馬書','哥林多前書','哥林多後書','加拉太書','以弗所書',\n",
    "    '腓立比書','腓利比書','歌羅西書','帖撒羅尼迦前書','帖撒羅尼迦後書',\n",
    "    '提摩太前書','提摩太後書','提多書','腓利門書','希伯來書',\n",
    "    '雅各書','彼得前書','彼得後書','約翰壹書','約翰一書','約翰貳書','約翰二書',\n",
    "    '約翰參書','約翰三書','猶大書','啟示錄']"
   ]
  },
  {
   "cell_type": "code",
   "execution_count": null,
   "id": "20200fb9-f1de-4b27-b78f-ec8047c066ad",
   "metadata": {
    "tags": []
   },
   "outputs": [],
   "source": [
    "# the bible book ordering\n",
    "bk2bkorder_dict = {\n",
    "    '創世記':1, '出埃及記':2,'利未記':3,'民數記':4,'申命記':5,\n",
    "    '約書亞記':6,'士師記':7,\n",
    "    '撒母耳記上':8,'撒母耳記下':9,\n",
    "    '列王記上':10,'列王記下':11,\n",
    "    '以賽亞書':12,'耶利米書':13,'以西結書':14,\n",
    "    '何西阿書':15,'約珥書':16,'阿摩司書':17,'俄巴底亞書':18,'約拿書':19,'彌迦書':20,\n",
    "    '那鴻書':21,'哈巴谷書':22,'西番雅書':23,'哈該書':24,'撒迦利亞書':25,'瑪拉基書':26,\n",
    "    '詩篇':27,'箴言':28,'約伯記':29,'雅歌':30,'路得記':31,'耶利米哀歌':32,'傳道書':33,\n",
    "    '以斯帖記':34,'但以理書':35,'以斯拉記':36,'尼希米記':37,'歷代志上':38,'歷代志下':39,\n",
    "    '馬太福音':40,'馬可福音':41,'路加福音':42,'約翰福音':43,'使徒行傳':44,\n",
    "    '羅馬書':45,'哥林多前書':46,'哥林多後書':47,'加拉太書':48,'以弗所書':49,\n",
    "    '腓立比書':50,'腓利比書':50,'歌羅西書':51,'帖撒羅尼迦前書':52,'帖撒羅尼迦後書':53,\n",
    "    '提摩太前書':54,'提摩太後書':55,'提多書':56,'腓利門書':57,'希伯來書':58,\n",
    "    '雅各書':59,'彼得前書':60,'彼得後書':61,'約翰壹書':62,'約翰一書':62,'約翰貳書':63,'約翰二書':63,\n",
    "    '約翰參書':64,'約翰三書':64,'猶大書':65,'啟示錄':66\n",
    "}"
   ]
  },
  {
   "cell_type": "code",
   "execution_count": null,
   "id": "92a193ff-8589-4a1f-9487-8009888d1699",
   "metadata": {
    "tags": []
   },
   "outputs": [],
   "source": [
    "bkorder2bk_dict = {\n",
    "    0:'',\n",
    "    1:book_list[ 0], 2:book_list[ 1], 3:book_list[ 2], 4:book_list[ 3], 5:book_list[ 4],\n",
    "    6:book_list[ 5], 7:book_list[ 6], 8:book_list[ 7], 9:book_list[ 8],10:book_list[ 9],\n",
    "   11:book_list[10],12:book_list[11],13:book_list[12],14:book_list[13],15:book_list[14],\n",
    "   16:book_list[15],17:book_list[16],18:book_list[17],19:book_list[18],20:book_list[19],\n",
    "   21:book_list[20],22:book_list[21],23:book_list[22],24:book_list[23],25:book_list[24],\n",
    "   26:book_list[25],27:book_list[26],28:book_list[27],29:book_list[28],30:book_list[29],\n",
    "   31:book_list[30],32:book_list[31],33:book_list[32],34:book_list[33],35:book_list[34],\n",
    "   36:book_list[35],37:book_list[36],38:book_list[37],39:book_list[38],40:book_list[39],\n",
    "   41:book_list[40],42:book_list[41],43:book_list[42],44:book_list[43],45:book_list[44],\n",
    "   46:book_list[45],47:book_list[46],48:book_list[47],49:book_list[48],50:book_list[49],\n",
    "   51:book_list[50],52:book_list[51],53:book_list[52],54:book_list[53],55:book_list[54],\n",
    "   56:book_list[55],57:book_list[56],58:book_list[57],59:book_list[58],60:book_list[59],\n",
    "   61:book_list[60],62:book_list[61],63:book_list[62],64:book_list[63],65:book_list[64],\n",
    "   66:book_list[65],\n",
    "   67:''\n",
    "}"
   ]
  },
  {
   "cell_type": "markdown",
   "id": "adba8f00",
   "metadata": {},
   "source": [
    "### clean up punctuation"
   ]
  },
  {
   "cell_type": "code",
   "execution_count": null,
   "id": "5b1e063d",
   "metadata": {
    "tags": []
   },
   "outputs": [],
   "source": [
    "rgx = recompile(r'(?<=\\d)[_](?=\\d)')"
   ]
  },
  {
   "cell_type": "code",
   "execution_count": null,
   "id": "b80e6a32",
   "metadata": {
    "tags": []
   },
   "outputs": [],
   "source": [
    "def cleanse_punctuation(inputText, textReplacement):\n",
    "    txt2 = re.sub(r'[\\xa0（）()\\'\\\"「」!！?？《》＜＞<>〈〉、·・。：:－\\=＝【】,|｜⧸-]', textReplacement, inputText)\n",
    "    txt3 = rgx.sub(':', txt2)\n",
    "    return txt3"
   ]
  },
  {
   "cell_type": "code",
   "execution_count": null,
   "id": "3c361ada",
   "metadata": {
    "tags": []
   },
   "outputs": [],
   "source": [
    "def unixLsDatetime_to_datetime(unixLsDatetime):\n",
    "    tstr = [ _ for _ in unixLsDatetime.split(' ') if len(_) > 0 ]\n",
    "    mon = tstr[0]\n",
    "    mon = '01' if mon == 'Jan' else mon\n",
    "    mon = '02' if mon == 'Feb' else mon\n",
    "    mon = '03' if mon == 'Mar' else mon\n",
    "    mon = '04' if mon == 'Apr' else mon\n",
    "    mon = '05' if mon == 'May' else mon\n",
    "    mon = '06' if mon == 'Jun' else mon\n",
    "    mon = '07' if mon == 'Jul' else mon\n",
    "    mon = '08' if mon == 'Aug' else mon\n",
    "    mon = '09' if mon == 'Sep' else mon\n",
    "    mon = '10' if mon == 'Oct' else mon\n",
    "    mon = '11' if mon == 'Nov' else mon\n",
    "    mon = '12' if mon == 'Dec' else mon\n",
    "    day = tstr[1]\n",
    "    if len(day) == 1:\n",
    "        day = '0' + day\n",
    "    if ':' in tstr[2]:\n",
    "        yr = str(datetime.now())[0:4]\n",
    "    else:\n",
    "        yr = tstr[2]\n",
    "    return yr + '-' + mon + '-' + day"
   ]
  },
  {
   "cell_type": "code",
   "execution_count": null,
   "id": "b19622d5",
   "metadata": {
    "tags": []
   },
   "outputs": [],
   "source": [
    "# unixLsDatetime_to_datetime('Mar 30  2016 ')"
   ]
  },
  {
   "cell_type": "markdown",
   "id": "42d973f1-d360-400b-8b50-a1ba6c78b6f4",
   "metadata": {
    "tags": []
   },
   "source": [
    "### Run By Your Host System if new audio files are included\n",
    "cd ~/One*/TPPHC/SERMON/WWBS/\n",
    "\n",
    "ls -logt ./*.mp3 > ~/SOURCE/sermon-app/projects/WWBS/lslogt.txt\n",
    "\n",
    "vim ~/SOURCE/sermon-app/projects/WWBS/lslogt.txt # remove the trailing '.mp3' on each row"
   ]
  },
  {
   "cell_type": "code",
   "execution_count": null,
   "id": "13262236",
   "metadata": {
    "tags": []
   },
   "outputs": [],
   "source": [
    "rdd = sc.textFile('lslogt.txt').filter(lambda w: 'total' not in w).map(lambda w: w.replace('./', ''))\n",
    "rdd1 = rdd.map(lambda w: (w[38:-13].strip(), w[-12:-1], w[25:38])) \\\n",
    "    .map(lambda w: (cleanse_punctuation(w[0], ' '), w[1], w[0], w[2])) \\\n",
    "    .map(lambda w: (w[0].strip().split(' '), w[1], w[-2], unixLsDatetime_to_datetime(w[-1])))"
   ]
  },
  {
   "cell_type": "code",
   "execution_count": null,
   "id": "c0d93724",
   "metadata": {
    "tags": []
   },
   "outputs": [],
   "source": [
    "print('w[0]= name segments ; w[1]= youtube code ; w[2]= original name ; w[3]= date')\n",
    "rdd1.take(40)"
   ]
  },
  {
   "cell_type": "code",
   "execution_count": null,
   "id": "242e1a0a-d378-43fe-ab61-db986b3107f0",
   "metadata": {
    "tags": []
   },
   "outputs": [],
   "source": [
    "# data engineering work 1: one-to-many detection\n",
    "# ideally none are detected\n",
    "from operator import add\n",
    "rdd1_checkcode_1tomany = rdd1.map(lambda w: (w[1], 1)).reduceByKey(add)"
   ]
  },
  {
   "cell_type": "code",
   "execution_count": null,
   "id": "3f69f2d9-61de-491d-a33f-9e36b1f70772",
   "metadata": {
    "tags": []
   },
   "outputs": [],
   "source": [
    "checkcode_1tomany = rdd1_checkcode_1tomany.map(lambda w: w[1]).collect()"
   ]
  },
  {
   "cell_type": "code",
   "execution_count": null,
   "id": "e023700c-51a6-40c7-8813-3d7a60d84cf9",
   "metadata": {
    "tags": []
   },
   "outputs": [],
   "source": [
    "if max(checkcode_1tomany) > 1:\n",
    "    code_1tomany = rdd1_checkcode_1tomany.filter(lambda w: w[1] > 1).collect()\n",
    "    print(code_1tomany)\n",
    "    print(\"=============================\")\n",
    "    print(\"need to fix here\")\n",
    "    print(\"=============================\")"
   ]
  },
  {
   "cell_type": "code",
   "execution_count": null,
   "id": "18a17edd",
   "metadata": {
    "tags": []
   },
   "outputs": [],
   "source": [
    "# data engineering work 2: preacher stop word\n",
    "rdd2 = rdd1.map(\n",
    "    lambda w: ([j for i in preacherTitle_list \\\n",
    "                      for j in w[0] \\\n",
    "                          if i in j \\\n",
    "                              and i != j \\\n",
    "                              and not '傳道書' in j \\\n",
    "                              and not '傳道人' in j \\\n",
    "                              and not '先知的' in j \\\n",
    "                              and not '堅持'   in j ],\n",
    "               list(set([i for i in book_list for j in w[0] if i in j])),\n",
    "               w[1], w[-2], w[-1]))"
   ]
  },
  {
   "cell_type": "code",
   "execution_count": null,
   "id": "d2b82cb0",
   "metadata": {
    "tags": []
   },
   "outputs": [],
   "source": [
    "print('w[0]= preacher ; w[1]= book; w[2]= youtube code ; w[3]= original name ; w[4]= date')\n",
    "rdd2.take(40)"
   ]
  },
  {
   "cell_type": "code",
   "execution_count": null,
   "id": "9ae53449",
   "metadata": {
    "tags": []
   },
   "outputs": [],
   "source": [
    "# def remove_preacher_title(preacher_with_title, title_list):\n",
    "#     for title in title_list:\n",
    "#         if title in preacher_with_title:\n",
    "#             x = preacher_with_title.find(title)\n",
    "#             return preacher_with_title[:x]"
   ]
  },
  {
   "cell_type": "code",
   "execution_count": null,
   "id": "5801da60",
   "metadata": {
    "tags": []
   },
   "outputs": [],
   "source": [
    "# data engineering work 3: removing the initials of preacher\n",
    "preacher_list = rdd2.map(lambda w: w[0]) \\\n",
    "    .filter(lambda w: len(w) > 0) \\\n",
    "    .map(lambda w: w[0]) \\\n",
    "    .distinct() \\\n",
    "    .collect()"
   ]
  },
  {
   "cell_type": "code",
   "execution_count": null,
   "id": "40ed9dcf",
   "metadata": {
    "tags": []
   },
   "outputs": [],
   "source": [
    "print('preacher count: %d' % len(preacher_list))"
   ]
  },
  {
   "cell_type": "code",
   "execution_count": null,
   "id": "28d9a597-33d1-493a-a807-c65f045f99a4",
   "metadata": {
    "tags": []
   },
   "outputs": [],
   "source": [
    "sorted(preacher_list)"
   ]
  },
  {
   "cell_type": "code",
   "execution_count": null,
   "id": "b822ceb4",
   "metadata": {
    "tags": []
   },
   "outputs": [],
   "source": [
    "# count the number of preacher found\n",
    "pstr = ''\n",
    "pcnt = 0\n",
    "for p in sorted(preacher_list):\n",
    "    pstr += ' ' + p.strip()\n",
    "    if (pcnt+1) % 6 == 0:\n",
    "        pstr += '\\n'\n",
    "    pcnt += 1\n",
    "print(pstr)"
   ]
  },
  {
   "cell_type": "markdown",
   "id": "9e4b432f",
   "metadata": {},
   "source": [
    "### youtube code : \"c\"\n",
    "### sermon youtube title: \"s\"\n",
    "c2s_dict : 1-to-1 dictionary from youtube code to sermon youtube title"
   ]
  },
  {
   "cell_type": "code",
   "execution_count": null,
   "id": "f4328c33",
   "metadata": {
    "tags": []
   },
   "outputs": [],
   "source": [
    "c2s_dict = {} # 1-to-1 dictionary\n",
    "for (c, s) in rdd2.map(lambda w: (w[2], w[3])).collect():\n",
    "    c2s_dict[c] = s.strip()"
   ]
  },
  {
   "cell_type": "markdown",
   "id": "39e3f1c2",
   "metadata": {},
   "source": [
    "### preacher : \"p\"\n",
    "c2p_dict : 1-to-1 dictionary from youtube code to preacher name\n",
    "\n",
    "p2c_dict : 1-to-N dictionary from preacher name to [ list of youtube code ]"
   ]
  },
  {
   "cell_type": "code",
   "execution_count": null,
   "id": "6344f150",
   "metadata": {
    "tags": []
   },
   "outputs": [],
   "source": [
    "c2p_dict = {} # 1-to-1 dictionary\n",
    "p2c_dict = {} # 1-to-N dictionary\n",
    "for (c, p) in rdd2.map(lambda w: (w[2], w[0])).collect():\n",
    "    if p is None:\n",
    "        continue\n",
    "    if len(p) == 0:\n",
    "        continue\n",
    "    # 1-to-1 dictionary\n",
    "    c2p_dict[c] = p[0].replace(' ','')\n",
    "    # 1-to-N dictionary\n",
    "    p = p[0].replace(' ','')\n",
    "    if p in p2c_dict:\n",
    "        p2c_dict.get(p).append(c)\n",
    "    else:\n",
    "        p2c_dict[p] = [c]"
   ]
  },
  {
   "cell_type": "markdown",
   "id": "5ffaec12",
   "metadata": {},
   "source": [
    "### book : \"b\"\n",
    "c2b_dict : 1-to-1 dictionary from youtube code to book\n",
    "\n",
    "b2c_dict : 1-to-N dictionary from book to [ list of youtube code ]"
   ]
  },
  {
   "cell_type": "code",
   "execution_count": null,
   "id": "1c92a734-eff9-40c8-ae8b-4f7e1e4b2612",
   "metadata": {
    "tags": []
   },
   "outputs": [],
   "source": [
    "# rdd2.take(10)"
   ]
  },
  {
   "cell_type": "code",
   "execution_count": null,
   "id": "9eed89d4-8780-4148-a83d-e8603aee01db",
   "metadata": {
    "tags": []
   },
   "outputs": [],
   "source": [
    "rdd2.map(lambda w: (w[2], w[1])).take(3)"
   ]
  },
  {
   "cell_type": "code",
   "execution_count": null,
   "id": "86672c67",
   "metadata": {
    "tags": []
   },
   "outputs": [],
   "source": [
    "c2b_dict = {} # 1-to-1 dictionary\n",
    "b2c_dict = {} # 1-to-N dictionary\n",
    "for (c, b) in rdd2.map(lambda w: (w[2], w[1])) \\\n",
    "                  .filter(lambda w: len(w[1]) > 0) \\\n",
    "                  .map(lambda w: (w[0], ''.join(w[1]))).collect():\n",
    "    # 1-to-1 dictionary\n",
    "    c2b_dict[c] = b\n",
    "    # 1-to-N dictionary\n",
    "    if b in b2c_dict:\n",
    "        b2c_dict.get(b).append(c)\n",
    "    else:\n",
    "        b2c_dict[b] = [c]"
   ]
  },
  {
   "cell_type": "markdown",
   "id": "7e472970",
   "metadata": {},
   "source": [
    "### verse : \"v\"\n",
    "c2v_dict : 1-to-1 dictionary from youtube code to chapter verse"
   ]
  },
  {
   "cell_type": "code",
   "execution_count": null,
   "id": "5a19054f",
   "metadata": {
    "tags": []
   },
   "outputs": [],
   "source": [
    "# teststr = '一次得救, 永遠得救 (希伯來書6:4-8) - 蘇穎睿牧師-7R7NYKsnIQo'\n",
    "\n",
    "# m = re.search(r'(?<=[0-9])[:]', teststr)\n",
    "# print(m)\n",
    "\n",
    "# [i, j] = m.span()\n",
    "\n",
    "# teststr[i]"
   ]
  },
  {
   "cell_type": "code",
   "execution_count": null,
   "id": "b8983f69",
   "metadata": {
    "tags": []
   },
   "outputs": [],
   "source": [
    "# verseStr = ''\n",
    "# for ii in range(i, 1, -1):\n",
    "#     if teststr[ii] in '0123456789-:':\n",
    "#         print(ii, teststr[ii])\n",
    "#         verseStr += teststr[ii]\n",
    "#     else:\n",
    "#         break\n",
    "# verseStr = verseStr[::-1]\n",
    "# for ii in range(i+1, len(teststr)):\n",
    "#     if teststr[ii] in '0123456789-:':\n",
    "#         print(ii, teststr[ii])\n",
    "#         verseStr += teststr[ii]\n",
    "#     else:\n",
    "#         break\n",
    "# print(verseStr)"
   ]
  },
  {
   "cell_type": "code",
   "execution_count": null,
   "id": "5723a52a",
   "metadata": {
    "tags": []
   },
   "outputs": [],
   "source": [
    "c2v_dict = {} # 1-to-1 dictionary\n",
    "c2ch_dict = {} # 1-to-1 dictionary\n",
    "for c in c2s_dict.keys():\n",
    "    # recall: s := the sermon title\n",
    "    titleStr = cleanse_punctuation(c2s_dict.get(c), '-')\n",
    "    # print(titleStr)\n",
    "    m = re.search(r'(?<=[0-9])[:]', titleStr) # m := match\n",
    "    if m is None:\n",
    "        # print(\"None ...\")\n",
    "        continue\n",
    "    [i, j] = m.span()\n",
    "    vStr = ''\n",
    "    for ii in range(i, 1, -1):\n",
    "        if titleStr[ii] in '0123456789-:':\n",
    "            # print(ii, titleStr[ii])\n",
    "            vStr += titleStr[ii]\n",
    "        else:\n",
    "            break\n",
    "    vStr = vStr[::-1]\n",
    "    for ii in range(i+1, len(titleStr)):\n",
    "        if titleStr[ii] in '0123456789-:':\n",
    "            # print(ii, testStr[ii])\n",
    "            vStr += titleStr[ii]\n",
    "        else:\n",
    "            break\n",
    "    # if vStr[-1] == '-':\n",
    "    #     vStr = vStr[:-1]\n",
    "    while vStr[-1] == '-':\n",
    "        vStr = vStr[:-1]\n",
    "    # print(vStr)\n",
    "    c2v_dict[c] = vStr\n",
    "    chStr = vStr.split(':')[0]\n",
    "    if '-' not in chStr:\n",
    "        c2ch_dict[c] = chStr"
   ]
  },
  {
   "cell_type": "markdown",
   "id": "09f7c7bb",
   "metadata": {
    "tags": []
   },
   "source": [
    "### time : \"t\"\n",
    "c2t_dict : 1-to-1 dictionary from youtube code to time"
   ]
  },
  {
   "cell_type": "code",
   "execution_count": null,
   "id": "b8291693",
   "metadata": {
    "tags": []
   },
   "outputs": [],
   "source": [
    "c2t_dict = {} # 1-to-1 dictionary\n",
    "for (c, t) in rdd2.map(lambda w: (w[2], w[-1])).collect():\n",
    "    c2t_dict[c] = t"
   ]
  },
  {
   "cell_type": "markdown",
   "id": "58d0f2b9-5195-45ac-a46c-0e2bcae87ee0",
   "metadata": {},
   "source": [
    "### bible verse content: \"bvc\"\n",
    "c2bvc_dict : 1-to-1 dictionary from youtubecode to bible verse(s) content"
   ]
  },
  {
   "cell_type": "code",
   "execution_count": null,
   "id": "661e1ab2-8bac-4143-bbb0-9cd7436dc041",
   "metadata": {
    "tags": []
   },
   "outputs": [],
   "source": [
    "bible_srcpath = '../../data/bible_src/cuv2/'"
   ]
  },
  {
   "cell_type": "code",
   "execution_count": null,
   "id": "9cdc574d-3d2b-48ad-bc44-66bbb6ac7905",
   "metadata": {
    "tags": []
   },
   "outputs": [],
   "source": [
    "book_list_engsymbol = ['',\n",
    "    'Gen','Exo','Lev','Num','Deu',\n",
    "    'Jos','Jug','1Sa','2Sa','1Ki','2Ki',\n",
    "    'Isa','Jer','Eze',\n",
    "    'Hos','Joe','Amo','Oba','Jon','Mic',\n",
    "    'Nah','Hab','Zep','Hag','Zec','Mal',\n",
    "    'Psa','Pro','Job','Son','Rut','Lam','Ecc',\n",
    "    'Est','Dan','Ezr','Neh','1Ch','2Ch',\n",
    "    'Mat','Mak','Luk','Jhn','Act',\n",
    "    'Rom','1Co','2Co','Gal','Eph',\n",
    "    'Phl','Col','1Ts','2Ts',\n",
    "    '1Ti','2Ti','Tit','Phm','Heb',\n",
    "    'Jas','1Pe','2Pe','1Jn','2Jn',\n",
    "    '3Jn','Jud','Rev']"
   ]
  },
  {
   "cell_type": "code",
   "execution_count": null,
   "id": "224ee87c-dbde-45bd-bf5d-ed1007cf6b33",
   "metadata": {
    "tags": []
   },
   "outputs": [],
   "source": [
    "c2bvc_dict = {}\n",
    "for c in list(c2s_dict.keys()):\n",
    "    bvc = ''\n",
    "    bk = c2b_dict.get(c)\n",
    "    if bk is not None:\n",
    "        # ch = c2ch_dict.get(c)\n",
    "        v = c2v_dict.get(c)\n",
    "        if v is not None and ':' in v:\n",
    "            if not bk in bk2bkorder_dict.keys():\n",
    "                # print(f'{bk} not in bk-2-bkorder dict keys !, skip and continue !')\n",
    "                continue\n",
    "            # print(bk, v)\n",
    "            srcfname = bible_srcpath + book_list_engsymbol[bk2bkorder_dict.get(bk)] + '.txt'\n",
    "            with open(srcfname, 'r') as fp:\n",
    "                bktxtlines = fp.readlines()\n",
    "            fp.close()\n",
    "            # --------------------------------------------------\n",
    "            # compile the starting verse A:B and\n",
    "            # ending verse C:D from v,\n",
    "            # then check coverage\n",
    "            # --------------------------------------------------\n",
    "            # cn := chapter number\n",
    "            # vn := verse number\n",
    "            # case 0 -> A:B\n",
    "            if v.count(':') == 1 and v.count('-') == 0:\n",
    "                vs = v.split(':')\n",
    "                cn1 = vs[0]\n",
    "                cn2 = cn1\n",
    "                vn1 = vs[1]\n",
    "                vn2 = vn1\n",
    "            # case 1 -> A:B-C\n",
    "            elif v.count(':') == 1 and v.count('-') == 1:\n",
    "                vs = v.split(':')\n",
    "                cn1 = vs[0]\n",
    "                cn2 = cn1\n",
    "                vn1 = vs[1].split('-')[0]\n",
    "                vn2 = vs[1].split('-')[1]\n",
    "            # case 2 -> A:B-C-D-...-X\n",
    "            elif v.count(':') == 1 and v.count('-') > 1:\n",
    "                vs = v.split(':')\n",
    "                cn1 = vs[0]\n",
    "                cn2 = cn1\n",
    "                #vn1 = vs[1].split('-')[0\n",
    "                #vn2 = vs[1].split('-')[-1]\n",
    "                vn1 = str(min([ int(_) for _ in vs[1].split('-') ]))\n",
    "                vn2 = str(max([ int(_) for _ in vs[1].split('-') ]))\n",
    "            # case 3 -> A:B-C:D where C > A\n",
    "            elif v.count(':') == 2 and v.count('-') == 1:\n",
    "                vs = v.split('-')\n",
    "                cn1 = vs[0].split(':')[0]\n",
    "                vn1 = vs[0].split(':')[1]\n",
    "                cn2 = vs[1].split(':')[0]\n",
    "                vn2 = vs[1].split(':')[1]\n",
    "            # case 4 -> otherwise, we dont handle it\n",
    "            else:\n",
    "                continue\n",
    "            # print concluded coverage\n",
    "            # print(f'{cn1}:{vn1} - {cn2}:{vn2}')\n",
    "            # --------------------------------------------------\n",
    "            # END OF check coverage\n",
    "            # --------------------------------------------------\n",
    "            header1 = cn1 + '.' + vn1\n",
    "            header2 = cn2 + '.' + vn2\n",
    "            # -- -- -- -- -- --\n",
    "            # cn and vn overflow handling:\n",
    "            # e.g. 12:1-18 but scripture actually only numbers\n",
    "            #      the verses 12:1-17, while 12:18 is just the splitted version of 12:17\n",
    "            # -- -- -- -- -- --\n",
    "            header2_exists = False\n",
    "            for bktxtline in bktxtlines:\n",
    "                if header2 == bktxtline[:len(header2)]:\n",
    "                    header2_exists = True\n",
    "                    break\n",
    "            # if overflow of verses number occurs,\n",
    "            # update ending verse to become the last verse\n",
    "            # of the same chapter of starting verse\n",
    "            h1_reached = False\n",
    "            header2_curr = header1\n",
    "            if not header2_exists:\n",
    "                ch_desired = c2ch_dict.get(c)\n",
    "                for bktxtline in bktxtlines:\n",
    "                    if not h1_reached:\n",
    "                        h1_reached = header1 in bktxtline[:len(header1)]\n",
    "                    if h1_reached:\n",
    "                        header2_prev = header2_curr\n",
    "                        header2_curr = bktxtline.split(' ')[0]\n",
    "                        ch_curr = bktxtline.split('.')[0]\n",
    "                        if ch_curr != ch_desired:\n",
    "                            header2 = header2_prev\n",
    "                            break\n",
    "                        else:\n",
    "                            header2 = header2_curr\n",
    "            # -- -- -- -- -- --\n",
    "            # END OF cn and vn overflow handling\n",
    "            # -- -- -- -- -- --\n",
    "            # loop through each line until reaching the starting verse\n",
    "            h1_reached = False\n",
    "            h2_reached = False\n",
    "            for bktxtline in bktxtlines:\n",
    "                # loop through each line until reaching the destinating chapter\n",
    "                if not h1_reached:\n",
    "                    h1_reached = header1 in bktxtline[:len(header1)]\n",
    "                if h1_reached:\n",
    "                    bvc += bktxtline\n",
    "                if not h2_reached:\n",
    "                    h2_reached = header2 in bktxtline[:len(header2)]\n",
    "                if h2_reached:\n",
    "                    break\n",
    "            bvc = bk + ' ' + v + '\\n\\n' + bvc\n",
    "            c2bvc_dict[c] = bvc\n",
    "    # break"
   ]
  },
  {
   "cell_type": "code",
   "execution_count": null,
   "id": "1f958296-8e21-4bf5-bf6a-4b406e86cf69",
   "metadata": {},
   "outputs": [],
   "source": []
  },
  {
   "cell_type": "code",
   "execution_count": null,
   "id": "f9c5a7ec",
   "metadata": {},
   "outputs": [],
   "source": []
  },
  {
   "cell_type": "markdown",
   "id": "a1b49cec",
   "metadata": {},
   "source": [
    "## rough overview on statistics\n",
    "number of sermons by each preacher"
   ]
  },
  {
   "cell_type": "code",
   "execution_count": null,
   "id": "17f6a4b8",
   "metadata": {
    "tags": []
   },
   "outputs": [],
   "source": [
    "for preacher in sorted(p2c_dict.keys()):\n",
    "    print('%s : %d' % (preacher, len(p2c_dict.get(preacher))))"
   ]
  },
  {
   "cell_type": "code",
   "execution_count": null,
   "id": "8c8cd388-b5e4-4a2e-a553-a57457692d3d",
   "metadata": {
    "tags": []
   },
   "outputs": [],
   "source": [
    "c2p_dict"
   ]
  },
  {
   "cell_type": "code",
   "execution_count": null,
   "id": "9b3b081e",
   "metadata": {},
   "outputs": [],
   "source": []
  },
  {
   "cell_type": "code",
   "execution_count": null,
   "id": "0391ebf5",
   "metadata": {},
   "outputs": [],
   "source": []
  },
  {
   "cell_type": "code",
   "execution_count": null,
   "id": "a62f4c59",
   "metadata": {
    "tags": []
   },
   "outputs": [],
   "source": [
    "rdd_time = rdd2.map(lambda w: w[4]) \\\n",
    "   .map(lambda w: [int(_) for _ in w.split('-')]) \\\n",
    "   .map(lambda w: w[0]*365 + w[1]*30 + w[2])"
   ]
  },
  {
   "cell_type": "code",
   "execution_count": null,
   "id": "f365459b",
   "metadata": {
    "tags": []
   },
   "outputs": [],
   "source": [
    "t_ = sorted(rdd_time.collect())"
   ]
  },
  {
   "cell_type": "code",
   "execution_count": null,
   "id": "aa7c5397",
   "metadata": {
    "tags": []
   },
   "outputs": [],
   "source": [
    "_ = plt.plot(t_)"
   ]
  },
  {
   "cell_type": "code",
   "execution_count": null,
   "id": "297c0c41",
   "metadata": {
    "tags": []
   },
   "outputs": [],
   "source": [
    "print('sermons upload date spans %0.2f years' % round((max(t_) - min(t_)) / 365, 2))"
   ]
  },
  {
   "cell_type": "code",
   "execution_count": null,
   "id": "d5596d16",
   "metadata": {},
   "outputs": [],
   "source": []
  },
  {
   "cell_type": "code",
   "execution_count": null,
   "id": "fcf5534c",
   "metadata": {},
   "outputs": [],
   "source": []
  },
  {
   "cell_type": "markdown",
   "id": "1239e42b-0fa3-43fd-b608-ecc3ba76a44d",
   "metadata": {},
   "source": [
    "## data frame generation\n",
    "\n",
    "c - p - b - v - s"
   ]
  },
  {
   "cell_type": "code",
   "execution_count": null,
   "id": "5141dd8e-1dc0-471b-a21f-4a60627ea9dd",
   "metadata": {
    "tags": []
   },
   "outputs": [],
   "source": [
    "def get_headerVerseVal(inVerse):\n",
    "    if ':' in inVerse:\n",
    "        v = inVerse.split(':')[1]\n",
    "    else:\n",
    "        vH = 0\n",
    "        return vH\n",
    "    if '-' in v:\n",
    "        vH = int(v.split('-')[0])\n",
    "    else:\n",
    "        vH = int(v)\n",
    "    return vH"
   ]
  },
  {
   "cell_type": "code",
   "execution_count": null,
   "id": "436e19b7-81c8-41d0-83b7-234b0d71e349",
   "metadata": {
    "tags": []
   },
   "outputs": [],
   "source": [
    "df = pd.DataFrame(\n",
    "    [\n",
    "        [c,\n",
    "         c2p_dict.get(c, ''),\n",
    "         bk2bkorder_dict.get(c2b_dict.get(c), 67),\n",
    "         c2b_dict.get(c, ''),\n",
    "         c2ch_dict.get(c, '0'),\n",
    "         c2v_dict.get(c, ''),\n",
    "         get_headerVerseVal(c2v_dict.get(c, '')),\n",
    "         c2s_dict.get(c, ''),\n",
    "         c2t_dict.get(c, '')] for c in c2s_dict.keys()\n",
    "    ],\n",
    "    columns = [\n",
    "        'code',\n",
    "        'preacher',\n",
    "        'bkno',\n",
    "        'book',\n",
    "        'chapter',\n",
    "        'verse',\n",
    "        'headerVerse',\n",
    "        'title',\n",
    "        'date'\n",
    "    ]\n",
    ")"
   ]
  },
  {
   "cell_type": "markdown",
   "id": "83a5b3bd-4f2d-4e31-87ad-4b6f7f2d8ead",
   "metadata": {},
   "source": [
    "### save the dictionary series"
   ]
  },
  {
   "cell_type": "code",
   "execution_count": null,
   "id": "4ce63902-38e6-4a53-823b-eee8334aa58d",
   "metadata": {
    "tags": []
   },
   "outputs": [],
   "source": [
    "with open('code_dictionary.pkl', 'wb') as f:\n",
    "    pkl.dump([c2p_dict, bk2bkorder_dict, c2b_dict, c2ch_dict, c2v_dict, c2s_dict, c2t_dict, c2bvc_dict], f)"
   ]
  },
  {
   "cell_type": "code",
   "execution_count": null,
   "id": "76e9bca5-8294-4a72-8d67-58840d3e6ff1",
   "metadata": {
    "tags": []
   },
   "outputs": [],
   "source": [
    "with open('x2code_dictionary.pkl', 'wb') as f:\n",
    "    pkl.dump([p2c_dict, b2c_dict], f)"
   ]
  },
  {
   "cell_type": "code",
   "execution_count": null,
   "id": "1acd7dc5-7a07-4e91-8fbd-d610d925aa74",
   "metadata": {
    "tags": []
   },
   "outputs": [],
   "source": [
    "df.chapter = pd.to_numeric(df.chapter, errors='coerce')\n",
    "#df = df.sort_values(['preacher', 'bkno', 'chapter', 'verse', 'title'])\n",
    "df = df.sort_values(['title'])\n",
    "df = df.drop(columns='headerVerse') # throw away headerVerse column as it is not included in final df"
   ]
  },
  {
   "cell_type": "code",
   "execution_count": null,
   "id": "bd10f5a6-cf74-4fca-94cd-7d6db75e1894",
   "metadata": {},
   "outputs": [],
   "source": []
  },
  {
   "cell_type": "code",
   "execution_count": null,
   "id": "78e915e7-0a1b-4b54-a3bb-d95f85c006f9",
   "metadata": {},
   "outputs": [],
   "source": []
  },
  {
   "cell_type": "code",
   "execution_count": null,
   "id": "3530c18f-8f5d-4506-9406-6b03356b910f",
   "metadata": {
    "tags": []
   },
   "outputs": [],
   "source": [
    "for index, row in df.iterrows():\n",
    "    print(row['code'], row['preacher'], row['book'], row['chapter'], row['verse'], row['title'], row['date'])"
   ]
  },
  {
   "cell_type": "code",
   "execution_count": null,
   "id": "911aa321-e4c5-4156-8281-d055495861df",
   "metadata": {},
   "outputs": [],
   "source": []
  },
  {
   "cell_type": "code",
   "execution_count": null,
   "id": "31bbcfd4-1821-4dc4-a82d-33d8fc6d24f2",
   "metadata": {},
   "outputs": [],
   "source": []
  },
  {
   "cell_type": "code",
   "execution_count": null,
   "id": "92f86b43-8ab7-4aea-8b11-44fd1605bdc5",
   "metadata": {
    "tags": []
   },
   "outputs": [],
   "source": [
    "df.to_csv('./index_byn.csv', index=False)"
   ]
  },
  {
   "cell_type": "code",
   "execution_count": null,
   "id": "d93a26da-2cfd-4791-a830-5aa28f28251e",
   "metadata": {},
   "outputs": [],
   "source": []
  },
  {
   "cell_type": "code",
   "execution_count": null,
   "id": "901f3464-6da4-423d-8ee6-3a83cbefa362",
   "metadata": {},
   "outputs": [],
   "source": []
  },
  {
   "cell_type": "code",
   "execution_count": null,
   "id": "b8b3e354-1453-4c30-8ea0-551dca6f0cf8",
   "metadata": {
    "tags": []
   },
   "outputs": [],
   "source": [
    "_ = os.system('rm -f videos download.sh')"
   ]
  },
  {
   "cell_type": "code",
   "execution_count": null,
   "id": "3a01c855-3b50-4c91-855b-fe74c6c90eec",
   "metadata": {},
   "outputs": [],
   "source": []
  },
  {
   "cell_type": "code",
   "execution_count": null,
   "id": "cae678f4-2213-4e0e-be85-062ef6ec70e4",
   "metadata": {},
   "outputs": [],
   "source": []
  }
 ],
 "metadata": {
  "kernelspec": {
   "display_name": "Python 3 (ipykernel)",
   "language": "python",
   "name": "python3"
  },
  "language_info": {
   "codemirror_mode": {
    "name": "ipython",
    "version": 3
   },
   "file_extension": ".py",
   "mimetype": "text/x-python",
   "name": "python",
   "nbconvert_exporter": "python",
   "pygments_lexer": "ipython3",
   "version": "3.10.10"
  }
 },
 "nbformat": 4,
 "nbformat_minor": 5
}
