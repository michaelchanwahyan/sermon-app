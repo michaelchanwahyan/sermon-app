{
 "cells": [
  {
   "cell_type": "code",
   "execution_count": null,
   "id": "7a2908dc",
   "metadata": {
    "tags": []
   },
   "outputs": [],
   "source": [
    "import os.path\n",
    "import pickle as pkl\n",
    "import re\n",
    "#from re import compile as recompile\n",
    "print('done !')"
   ]
  },
  {
   "cell_type": "code",
   "execution_count": null,
   "id": "8419d9bc-2140-4e84-9c45-4a3f118a826a",
   "metadata": {
    "tags": []
   },
   "outputs": [],
   "source": [
    "with open(\"code_dictionary.pkl\", \"rb\") as fp:\n",
    "    c2p_dict, bk2bkorder_dict, c2b_dict, c2ch_dict, c2v_dict, c2s_dict, c2t_dict, c2bvc_dict = pkl.load(fp)\n",
    "fp.close()"
   ]
  },
  {
   "cell_type": "code",
   "execution_count": null,
   "id": "f9cfd2e1-146e-4c58-9771-03d001697357",
   "metadata": {
    "tags": []
   },
   "outputs": [],
   "source": [
    "with open(\"x2code_dictionary.pkl\", \"rb\") as fp:\n",
    "    p2c_dict, b2c_dict = pkl.load(fp)\n",
    "fp.close()"
   ]
  },
  {
   "cell_type": "code",
   "execution_count": null,
   "id": "3a01c855-3b50-4c91-855b-fe74c6c90eec",
   "metadata": {
    "tags": []
   },
   "outputs": [],
   "source": [
    "# # generate\n",
    "# preacher 1\n",
    "#  --------------------------------\n",
    "# | Book  Ch:Vs  Theme  Date  Code\n",
    "# |--------------------------------\n",
    "# |  .\n",
    "# |  .\n",
    "# |  .\n",
    "# |\n",
    "#  --------------------------------\n",
    "#\n",
    "# preacher 2\n",
    "#  --------------------------------\n",
    "# | Book  Ch:Vs  Theme  Date  Code\n",
    "# |--------------------------------\n",
    "# |  .\n",
    "# |  .\n",
    "# |  .\n",
    "# |\n",
    "#  --------------------------------\n",
    "#"
   ]
  },
  {
   "cell_type": "code",
   "execution_count": null,
   "id": "343177ae-aef8-42b5-be76-1cc7b06f20fe",
   "metadata": {
    "tags": []
   },
   "outputs": [],
   "source": []
  },
  {
   "cell_type": "code",
   "execution_count": null,
   "id": "490df759-aa93-43f0-8a4c-615a1a66a342",
   "metadata": {
    "tags": []
   },
   "outputs": [],
   "source": []
  },
  {
   "cell_type": "markdown",
   "id": "6e469a86-5ee4-4f19-9006-22c35314835c",
   "metadata": {},
   "source": [
    "### print the latex document : sermon content"
   ]
  },
  {
   "cell_type": "code",
   "execution_count": null,
   "id": "6a679860-c798-48c6-a389-cef84d1ee0d6",
   "metadata": {
    "tags": []
   },
   "outputs": [],
   "source": [
    "with open('../rep_common.txt', 'r') as fp:\n",
    "    rep_list = [ _.strip() for _ in fp.readlines() ]\n",
    "fp.close()\n",
    "rep_list = [ _.split(\", '\", 1) for _ in rep_list ]\n",
    "rep_list = [ [_[0], _[1][:-1]] for _ in rep_list ]"
   ]
  },
  {
   "cell_type": "code",
   "execution_count": null,
   "id": "f5317a9c-b56d-400d-bf1a-d16fff2e31de",
   "metadata": {
    "tags": []
   },
   "outputs": [],
   "source": [
    "# compile regular expression rgx to cater math symbol '^'\n",
    "rgx = re.compile(r'([A-Za-z0-9=+\\-]+)\\^([A-Za-z0-9=+\\-]+)')\n",
    "print('checking of \"rgx.sub(r\\'$\\\\1^\\\\2$\\', \\'E=MC^-2\\')\" :', rgx.sub(r'$\\1^\\2$', 'E=MC^-2'))\n",
    "\n",
    "\n",
    "def cleanse_special_char(inputText):\n",
    "    txt2 = inputText\n",
    "    txt2 = txt2.replace('$','\\$') # preserve this here since its higher priority than in html arguments\n",
    "    txt2 = rgx.sub(r'$\\1^\\2$', txt2)\n",
    "    for rep_ in rep_list:\n",
    "        txt2 = txt2.replace(rep_[0], rep_[1])\n",
    "    txt2 = txt2.replace('&', ' and ') # preserve this here since its lower priority than in html arguments\n",
    "    txt2 = txt2.strip()\n",
    "    return txt2"
   ]
  },
  {
   "cell_type": "code",
   "execution_count": null,
   "id": "cd9d76b5-6b1d-4430-9236-b66a901676ce",
   "metadata": {
    "tags": []
   },
   "outputs": [],
   "source": [
    "p_list = list(p2c_dict.keys())\n",
    "print(p_list)"
   ]
  },
  {
   "cell_type": "code",
   "execution_count": null,
   "id": "24f45a03-c1b9-4314-885d-27e906b6f8fb",
   "metadata": {
    "tags": []
   },
   "outputs": [],
   "source": [
    "def check_in_year_range(code, year_range=[2012,2018]):\n",
    "    # tstr = c2t_dict.get(code, ' ')\n",
    "    # # print(tstr)\n",
    "    in_range = False\n",
    "    for yr in range(year_range[0], year_range[1] + 1):\n",
    "        # if str(yr) in tstr:\n",
    "        if str(yr) in code:\n",
    "            in_range = True\n",
    "            break\n",
    "    return in_range"
   ]
  },
  {
   "cell_type": "code",
   "execution_count": null,
   "id": "4f4e5c0b-aba3-4df5-a8f8-6ddb0c22ba5d",
   "metadata": {
    "tags": []
   },
   "outputs": [],
   "source": [
    "with open(\"./index_byp.csv\", \"r\") as fp:\n",
    "    lines = fp.readlines()\n",
    "fp.close()"
   ]
  },
  {
   "cell_type": "code",
   "execution_count": null,
   "id": "adaf5425-ceb9-4846-a5b6-a1cadeb919e9",
   "metadata": {
    "tags": []
   },
   "outputs": [],
   "source": [
    "print('all time sermon count:',\n",
    "    len( lines )\n",
    "     )"
   ]
  },
  {
   "cell_type": "code",
   "execution_count": null,
   "id": "6fd2bfc4-3aec-4c48-b692-e2adac8a0c48",
   "metadata": {
    "tags": []
   },
   "outputs": [],
   "source": [
    "print('2012-2018 sermon count:',\n",
    "    len(   [ line \\\n",
    "                 for line in lines \\\n",
    "                     if check_in_year_range(\n",
    "                         line.split(',')[-1],\n",
    "                         [2012,2018]\n",
    "                     )\n",
    "            ] )\n",
    "     )"
   ]
  },
  {
   "cell_type": "code",
   "execution_count": null,
   "id": "7f0da978-28d3-466d-a847-8f9a906f9131",
   "metadata": {
    "tags": []
   },
   "outputs": [],
   "source": [
    "print('2019-2020 sermon count:',\n",
    "    len(   [ line \\\n",
    "                 for line in lines \\\n",
    "                     if check_in_year_range(\n",
    "                         line.split(',')[-1],\n",
    "                         [2019,2020]\n",
    "                     )\n",
    "            ] )\n",
    "     )"
   ]
  },
  {
   "cell_type": "code",
   "execution_count": null,
   "id": "8e44213d-b63b-42e9-9604-d92ab0d3acea",
   "metadata": {
    "tags": []
   },
   "outputs": [],
   "source": [
    "print('2021-2022 sermon count:',\n",
    "    len(   [ line \\\n",
    "                 for line in lines \\\n",
    "                     if check_in_year_range(\n",
    "                         line.split(',')[-1],\n",
    "                         [2021,2022]\n",
    "                     )\n",
    "            ] )\n",
    "     )"
   ]
  },
  {
   "cell_type": "code",
   "execution_count": null,
   "id": "07e96026-dd48-4328-a224-be7a15add370",
   "metadata": {
    "tags": []
   },
   "outputs": [],
   "source": [
    "print('2023-2024 sermon count:',\n",
    "    len(   [ line \\\n",
    "                 for line in lines \\\n",
    "                     if check_in_year_range(\n",
    "                         line.split(',')[-1],\n",
    "                         [2023,2024]\n",
    "                     )\n",
    "            ] )\n",
    "     )"
   ]
  },
  {
   "cell_type": "code",
   "execution_count": null,
   "id": "5c04a2ca-8997-4b43-b552-d6edf1a9f708",
   "metadata": {
    "tags": []
   },
   "outputs": [],
   "source": [
    "def sermon_tex_from_year(yyyy_start, yyyy_end):\n",
    "    # yyyy_start : starting year, e.g. 2012\n",
    "    # yyyy_end.  : ending year, e.g. 2018\n",
    "    progressStepCnt = 0\n",
    "    # --------------------------------------\n",
    "    # read the index table and only take\n",
    "    # into account within desired year range\n",
    "    # --------------------------------------\n",
    "    progressStepCnt += 1\n",
    "    print(f\"Step {progressStepCnt}: reading in full index file\")\n",
    "    with open('./index_byp.csv', 'r') as fp:\n",
    "        lines = fp.readlines()\n",
    "    fp.close()\n",
    "    lines = [ line \\\n",
    "                 for line in lines \\\n",
    "                     if check_in_year_range(\n",
    "                         line.split(',')[-1],\n",
    "                         [yyyy_start,yyyy_end]\n",
    "                     )\n",
    "            ]\n",
    "    sermon_tex_filepath = f\"../../build/JNG/sermon_JNG_{str(yyyy_start)}-{str(yyyy_end)[-2:]}.tex\"\n",
    "    # --------------------------------------\n",
    "    # print the latex document : prefix\n",
    "    # --------------------------------------\n",
    "    progressStepCnt += 1\n",
    "    print(f\"Step {progressStepCnt}: printing out prefixing\")\n",
    "    _ = os.system(f\"cat ../prefix.tex | sed 's/粵語講道逐字稿/粵語講道逐字稿 {str(yyyy_start)}-{str(yyyy_end)[-2:]}/' | sed 's/Youtube Channel:/Youtube Channel: JohnsonNg/' > \" + sermon_tex_filepath)\n",
    "\n",
    "    # --------------------------------------\n",
    "    # index table partitioned by preachers\n",
    "    # --------------------------------------\n",
    "    progressStepCnt += 1\n",
    "    print(f\"Step {progressStepCnt}: writing TOC which gathers up all preachers\")\n",
    "    with open(sermon_tex_filepath, \"a\") as fp:\n",
    "        sermonCnt = 0\n",
    "        p_prev = ''\n",
    "        p_curr = ''\n",
    "        p_id = 0\n",
    "        fp.write(\"{ \\\\scriptsize\\n\")\n",
    "        # --------------------------------------\n",
    "        # start of partitioned-by-preachers table\n",
    "        # --------------------------------------\n",
    "        fp.write(\"\\n\\n\\\\begin{xltabular}{\\\\textwidth}{|p{0.15\\\\textwidth} p{0.6\\\\textwidth}|p{0.07\\\\textwidth} p{0.1\\\\textwidth}|}\\n\") # lllr: bk+v/ch, theme, date, youtube-code\n",
    "        fp.write(\"\\\\hline\\n\")\n",
    "        # --------------------------------------\n",
    "        # lines is the line content in index_byp\n",
    "        # --------------------------------------\n",
    "        for lineId in range(len(lines)):\n",
    "            line = lines[lineId]\n",
    "            cc = line.split(\",\")[0]\n",
    "            # --------------------------------------\n",
    "            # only include this code cc if it is\n",
    "            # ready in the transcription folder\n",
    "            # --------------------------------------\n",
    "            if os.path.isfile(f'../../data/JNG/{cc}.txt'):\n",
    "                sermonCnt += 1\n",
    "                p_prev = p_curr\n",
    "                p_curr = c2p_dict.get(cc)\n",
    "                if p_prev != p_curr:\n",
    "                    p_id += 1\n",
    "                    fp.write(\"\\\\multicolumn{4}{c}{} \\\\\\\\\\n\")\n",
    "                    fp.write(\"\\\\multicolumn{4}{c}{\\\\hyperref[ch:preacher\"+str(p_id)+\"]{\"+p_curr+\"}} \\\\\\\\\\n\") # <----------- this defines the column num\n",
    "                    fp.write(\"\\\\multicolumn{4}{c}{} \\\\\\\\\\n\")\n",
    "                    fp.write(\"\\\\hline\\n\")\n",
    "                bstr = c2b_dict.get(cc, ' ')\n",
    "                vstr = c2v_dict.get(cc, ' ')\n",
    "                sstr = cleanse_special_char(\n",
    "                    c2s_dict.get(cc, ' ').replace('_','\\_').replace('&','\\&')\n",
    "                )\n",
    "                tstr = c2t_dict.get(cc, ' ')\n",
    "                ystr = \"\\\\href{https://youtube.com/watch?v=\" + cc +\"}{\\\\texttt{ \" + cc.replace('_','\\_') + \"}}\"\n",
    "                fp.write(bstr + ' ' + vstr + \" & \" \\\n",
    "                         + \"\\\\hyperref[sec:\"+cc.replace('-','_')+\"]{\"+cleanse_special_char(sstr)+\"}\" + \" & \" \\\n",
    "                         + tstr + \" & \" \\\n",
    "                         + ystr \\\n",
    "                         + \" \\\\\\\\\\n\")\n",
    "        fp.write(\"\\\\end{xltabular}\\n\")\n",
    "        # --------------------------------------\n",
    "        # end of partitioned-by-preachers table\n",
    "        # --------------------------------------\n",
    "        fp.write(\"}\\n\")\n",
    "        print('sermon count in current book: %d' % sermonCnt)\n",
    "    fp.close()\n",
    "\n",
    "    # --------------------------------------\n",
    "    # per-preacher index and sermon content\n",
    "    # --------------------------------------\n",
    "    progressStepCnt += 1\n",
    "    print(f\"Step {progressStepCnt}: generate per-preacher TOC for each preacher section\")\n",
    "    p_prev = ''\n",
    "    p_curr = ''\n",
    "    p_id = 0\n",
    "    cc_prev = ''\n",
    "    cc_next = ''\n",
    "    # --------------------------------------\n",
    "    # lines is the line content in index_byp\n",
    "    # --------------------------------------\n",
    "    for lineId in range(len(lines)):\n",
    "        line = lines[lineId]\n",
    "        cc = line.split(\",\")[0]\n",
    "        cc_prev = lines[(lineId-1)%len(lines)].split(\",\")[0]\n",
    "        cc_next = lines[(lineId+1)%len(lines)].split(\",\")[0]\n",
    "        if os.path.isfile(f'../../data/JNG/{cc}.txt'):\n",
    "            p_prev = p_curr\n",
    "            p_curr = c2p_dict.get(cc)\n",
    "            if p_prev != p_curr:\n",
    "                progressStepCnt += 1\n",
    "                print(f\"Step {progressStepCnt}: a new preacher {p_curr} is reached !\")\n",
    "                p_id += 1\n",
    "                with open(sermon_tex_filepath, \"a\") as fp:\n",
    "                    # ------------------------------------\n",
    "                    # chapter toc\n",
    "                    fp.write(\"\\n\\n\\\\chapter{\"+p_curr+\"}\")\n",
    "                    fp.write(\"\\label{ch:preacher\"+str(p_id)+\"}\\n\")\n",
    "                    fp.write(\"\\\\begin{multicols}{3}\\n\")\n",
    "                    fp.write(\"\\\\minitoc\\n\")\n",
    "                    fp.write(\"\\\\end{multicols}\\n\")\n",
    "                    # END OF chapter toc\n",
    "                    # ------------------------------------\n",
    "                    # ------------------------------------\n",
    "                    # chapter tabular-toc with sermon title\n",
    "                    fp.write(\"{ \\\\scriptsize\\n\")\n",
    "                    fp.write(\"\\n\\n\\\\begin{xltabular}{\\\\textwidth}{|p{0.15\\\\textwidth} p{0.6\\\\textwidth}|p{0.07\\\\textwidth} p{0.1\\\\textwidth}|}\\n\") # lllr: bk+v/ch, theme, date, youtube-code\n",
    "                    fp.write(\"\\\\hline\\n\")\n",
    "                    for lineId_ in range(len(lines)):\n",
    "                        line_ = lines[lineId_]\n",
    "                        cc_ = line_.split(\",\")[0]\n",
    "                        if os.path.isfile(f'../../data/JNG/{cc_}.txt') and p_curr == c2p_dict.get(cc_):\n",
    "                            bstr = c2b_dict.get(cc_, ' ')\n",
    "                            vstr = c2v_dict.get(cc_, ' ')\n",
    "                            sstr = cleanse_special_char(\n",
    "                                c2s_dict.get(cc_, ' ').replace('_','\\_').replace('&','\\&')\n",
    "                            )\n",
    "                            tstr = c2t_dict.get(cc_, ' ')\n",
    "                            ystr = \"\\\\href{https://youtube.com/watch?v=\" + cc_ +\"}{\\\\texttt{ \" + cc_.replace('_','\\_') + \"}}\"\n",
    "                            fp.write(bstr + ' ' + vstr + \" & \" \\\n",
    "                                     + \"\\\\hyperref[sec:\"+cc_.replace('-','_')+\"]{\"+sstr+\"}\" + \" & \" \\\n",
    "                                     + tstr + \" & \" \\\n",
    "                                     + ystr \\\n",
    "                                     + \" \\\\\\\\\\n\")\n",
    "                    fp.write(\"\\\\hline\\n\")\n",
    "                    fp.write(\"\\\\end{xltabular}\\n\")\n",
    "                    fp.write(\"}\\n\")\n",
    "                    # END OF chapter tabular-toc with sermon title\n",
    "                    # ------------------------------------\n",
    "                    fp.write(\"\\\\newpage\\n\\n\")\n",
    "                fp.close()\n",
    "            with open(sermon_tex_filepath, \"a\") as fp:\n",
    "                #fp.write(\"\\n\\n\\\\section{\"+c2s_dict.get(cc).replace('_','\\\\_')+\"}\\n\")\n",
    "                sectionNameStr = ''\n",
    "                b = c2b_dict.get(cc)\n",
    "                sectionNameStr += b if b is not None else ''\n",
    "                v = c2v_dict.get(cc)\n",
    "                sectionNameStr += ' ' + v if b is not None and v is not None else ''\n",
    "                ch = c2ch_dict.get(cc)\n",
    "                sectionNameStr += ' ' + ch if b is not None and ch is not None and v is None else ''\n",
    "                fp.write(\"\\n\\n\\\\section{\"+sectionNameStr+\"}\\n\")\n",
    "                fp.write(\"\\\\label{sec:\"+cc.replace('-','_')+\"}\\n\")\n",
    "                sstr = cleanse_special_char(\n",
    "                    c2s_dict.get(cc).replace('_','\\_').replace('&','\\&')\n",
    "                )\n",
    "                fp.write(\"\\\\textbf{\"+sstr+\"}\\n\")\n",
    "                fp.write(\"\\\\newline\\n\\\\newline\\n\")\n",
    "                fp.write(\"連結: \\\\href{https://youtube.com/watch?v=\" + cc +\"}{\\\\texttt{ https://youtube.com/watch?v=\" + cc.replace('_','\\_') + \"}} ~~~~ 語音日期: \" + c2t_dict.get(cc) + \" \\n\")\n",
    "                fp.write(\"\\\\newline\\n\\\\newline\\n\")\n",
    "                fp.write(\"\\\\hyperref[sec:\"+cc_prev.replace('-','_')+\"]{< < < PREV SERMON < < <}\\n\")\n",
    "                fp.write(\"~\\n\")\n",
    "                fp.write(\"\\\\hyperlink{toc}{[返主目錄]}\\n\")\n",
    "                fp.write(\"~\\n\")\n",
    "                fp.write(\"\\\\hyperref[ch:preacher\"+str(p_id)+\"]{[返講員目錄]}\\n\")\n",
    "                fp.write(\"~\\n\")\n",
    "                fp.write(\"\\\\hyperref[sec:\"+cc_next.replace('-','_')+\"]{> > > NEXT SERMON > > >}\\n\")\n",
    "                fp.write(\"\\\\newline\\n\\\\newline\\n\")\n",
    "            fp.close()\n",
    "            # _ = os.system(f\"cat ../data/JNG/{cc}.txt >> \" + sermon_tex_filepath)\n",
    "            with open(sermon_tex_filepath, \"a\") as fp:\n",
    "                # ----------------------\n",
    "                # add the scripture part if not None\n",
    "                bvc_curr = c2bvc_dict.get(cc)\n",
    "                if bvc_curr is not None:\n",
    "                    bvc_curr = bvc_curr.split(\"\\n\")\n",
    "                    # first row shall be book + verse info\n",
    "                    bvc_line = bvc_curr[0].strip() + \"\\n\"\n",
    "                    fp.write(bvc_line)\n",
    "                    fp.write(\"\\\\newline\\n\")\n",
    "                    fp.write(\"\\\\begin{longtable}{cl}\\n\")\n",
    "                    fp.write(\"\\\\hline\\n\\\\hline\\n\")\n",
    "                    fp.write(\"章節 & 經文 (和合本修訂版)\\\\\\\\\\n\")\n",
    "                    fp.write(\"\\\\hline\\n\")\n",
    "                    for bvc_line in bvc_curr[1:]:\n",
    "                        bvc_line = bvc_line.strip()\n",
    "                        if len(bvc_line) > 0:\n",
    "                            if bvc_line != [ _.strip() for _ in bvc_curr if len(_.strip()) ][-1]:\n",
    "                                bvc_line += \" \\\\\\\\ \\\\\\\\ \\\\relax\\n\"\n",
    "                            else:\n",
    "                                bvc_line += \" \\\\\\\\ \\\\\\\\\\n\"\n",
    "                            si = bvc_line.find(\" \")\n",
    "                            if si == -1:\n",
    "                                bvc_line = \"& \" + \"\\\\begin{tabularx}{0.7\\\\textwidth}{X} \" + bvc_line + \" \\\\end{tabularx}\"\n",
    "                            else:\n",
    "                                bvc_line = bvc_line[:si].replace(\".\",\":\") +  \" & \" + \"\\\\begin{tabularx}{0.7\\\\textwidth}{X} \" + bvc_line[si+1:]\n",
    "                                nli = bvc_line.find(\" \\\\\\\\\") # newline char index\n",
    "                                bvc_line = bvc_line[:nli] + \" \\\\end{tabularx}\" + bvc_line[nli:]\n",
    "                            fp.write(bvc_line)\n",
    "                    fp.write(\"[1ex]\\n\")\n",
    "                    fp.write(\"\\\\hline\\n\\\\hline\\n\")\n",
    "                    fp.write(\"\\\\end{longtable}\\n\")\n",
    "                # ----------------------\n",
    "                # add the sermon part\n",
    "                with open(\"../../data/JNG/\"+cc+\".txt\", \"r\") as fp_:\n",
    "                    the_sermon_text = fp_.read()\n",
    "                fp_.close()\n",
    "                the_sermon_text = cleanse_special_char(the_sermon_text)\n",
    "                the_sermon_text = the_sermon_text.replace(\"\\\\n\\\\n\",\"\\\\n\")\n",
    "                textlines = the_sermon_text.split(\"\\n\")\n",
    "                _textrow_cnt = 0\n",
    "                textline_prev = ''\n",
    "                for textline in textlines:\n",
    "                    if textline == textline_prev:\n",
    "                        textline_prev = textline\n",
    "                        continue\n",
    "                    else:\n",
    "                        textline_prev = textline\n",
    "                    _textrow_cnt += 1\n",
    "                    if _textrow_cnt % 40 == 1:\n",
    "                        fp.write(\"$^{%d}$\" % _textrow_cnt)\n",
    "                    if textline.count('$') == 1:\n",
    "                        # if the text line contains odd number of\n",
    "                        # dollar sign '$', it would probably bring up error\n",
    "                        # over 95% of the situation is that there only has 1 '$' sign\n",
    "                        textline = textline.replace('$', '\\\\$')\n",
    "                    fp.write(textline + \"\\n\")\n",
    "                    if _textrow_cnt % 40 == 0:\n",
    "                        fp.write(\"\\n\")\n",
    "                fp.write(\"\\\\newpage\\n\\n\")\n",
    "            fp.close()\n",
    "\n",
    "    progressStepCnt += 1\n",
    "    print(f\"Step {progressStepCnt}: generate afterward and postfix\")\n",
    "    # --------------------------------------\n",
    "    # print the latex document : afterword\n",
    "    # --------------------------------------\n",
    "    _ = os.system(\"cat ../afterword.tex >> \" + sermon_tex_filepath)\n",
    "    # --------------------------------------\n",
    "    # print the latex document : postfix\n",
    "    # --------------------------------------\n",
    "    _ = os.system(\"cat ../postfix.tex >> \" + sermon_tex_filepath)\n",
    "    print(\"done !\")"
   ]
  },
  {
   "cell_type": "markdown",
   "id": "ae85ccf2-d541-4547-b890-5280802085fb",
   "metadata": {
    "tags": []
   },
   "source": [
    "## 2012-2018 Sermons"
   ]
  },
  {
   "cell_type": "code",
   "execution_count": null,
   "id": "fe7f693e-195b-435d-942d-308e30019d01",
   "metadata": {
    "tags": []
   },
   "outputs": [],
   "source": [
    "sermon_tex_from_year(2012, 2018)"
   ]
  },
  {
   "cell_type": "markdown",
   "id": "b23e8ad3-5c83-47ed-82c9-b450aa9b02ba",
   "metadata": {},
   "source": [
    "## 2019-2020 Sermons"
   ]
  },
  {
   "cell_type": "code",
   "execution_count": null,
   "id": "f55fa99b-0803-4e77-8564-0215320c47c6",
   "metadata": {
    "tags": []
   },
   "outputs": [],
   "source": [
    "sermon_tex_from_year(2019,2020)"
   ]
  },
  {
   "cell_type": "markdown",
   "id": "7fb39367-f68c-4785-92bc-7c751a4eb6bb",
   "metadata": {},
   "source": [
    "## 2021-2022 Sermons"
   ]
  },
  {
   "cell_type": "code",
   "execution_count": null,
   "id": "74167c32-c4af-4c75-985e-fae03e4d2b1e",
   "metadata": {
    "tags": []
   },
   "outputs": [],
   "source": [
    "sermon_tex_from_year(2021,2022)"
   ]
  },
  {
   "cell_type": "markdown",
   "id": "c9b7793c-4a21-42a0-a677-8f4518405fca",
   "metadata": {},
   "source": [
    "## 2023-2024 Sermons"
   ]
  },
  {
   "cell_type": "code",
   "execution_count": null,
   "id": "3a489d52-a750-4d1a-8d26-03be9cf2c159",
   "metadata": {
    "tags": []
   },
   "outputs": [],
   "source": [
    "sermon_tex_from_year(2023,2024)"
   ]
  },
  {
   "cell_type": "code",
   "execution_count": null,
   "id": "58257a32-cbbd-4fc2-82cf-59b4d885e537",
   "metadata": {},
   "outputs": [],
   "source": []
  },
  {
   "cell_type": "code",
   "execution_count": null,
   "id": "93a5ec78-277e-4b61-ab23-265f4bd216f3",
   "metadata": {},
   "outputs": [],
   "source": []
  }
 ],
 "metadata": {
  "kernelspec": {
   "display_name": "Python 3 (ipykernel)",
   "language": "python",
   "name": "python3"
  },
  "language_info": {
   "codemirror_mode": {
    "name": "ipython",
    "version": 3
   },
   "file_extension": ".py",
   "mimetype": "text/x-python",
   "name": "python",
   "nbconvert_exporter": "python",
   "pygments_lexer": "ipython3",
   "version": "3.10.10"
  }
 },
 "nbformat": 4,
 "nbformat_minor": 5
}
