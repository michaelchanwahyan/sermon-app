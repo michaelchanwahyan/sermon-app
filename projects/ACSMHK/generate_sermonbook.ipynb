{
 "cells": [
  {
   "cell_type": "code",
   "execution_count": 1,
   "id": "7a2908dc",
   "metadata": {
    "tags": []
   },
   "outputs": [
    {
     "name": "stdout",
     "output_type": "stream",
     "text": [
      "done !\n"
     ]
    }
   ],
   "source": [
    "import os.path\n",
    "import pickle as pkl\n",
    "import re\n",
    "#from re import compile as recompile\n",
    "print('done !')"
   ]
  },
  {
   "cell_type": "code",
   "execution_count": 2,
   "id": "8419d9bc-2140-4e84-9c45-4a3f118a826a",
   "metadata": {
    "tags": []
   },
   "outputs": [],
   "source": [
    "with open(\"code_dictionary.pkl\", \"rb\") as fp:\n",
    "    c2p_dict, bk2bkorder_dict, c2b_dict, c2ch_dict, c2v_dict, c2s_dict, c2t_dict, c2bvc_dict = pkl.load(fp)\n",
    "fp.close()"
   ]
  },
  {
   "cell_type": "code",
   "execution_count": 3,
   "id": "f9cfd2e1-146e-4c58-9771-03d001697357",
   "metadata": {
    "tags": []
   },
   "outputs": [],
   "source": [
    "with open(\"x2code_dictionary.pkl\", \"rb\") as fp:\n",
    "    p2c_dict, b2c_dict = pkl.load(fp)\n",
    "fp.close()"
   ]
  },
  {
   "cell_type": "code",
   "execution_count": 4,
   "id": "3a01c855-3b50-4c91-855b-fe74c6c90eec",
   "metadata": {
    "tags": []
   },
   "outputs": [],
   "source": [
    "# # generate\n",
    "# preacher 1\n",
    "#  --------------------------------\n",
    "# | Book  Ch:Vs  Theme  Date  Code\n",
    "# |--------------------------------\n",
    "# |  .\n",
    "# |  .\n",
    "# |  .\n",
    "# |\n",
    "#  --------------------------------\n",
    "#\n",
    "# preacher 2\n",
    "#  --------------------------------\n",
    "# | Book  Ch:Vs  Theme  Date  Code\n",
    "# |--------------------------------\n",
    "# |  .\n",
    "# |  .\n",
    "# |  .\n",
    "# |\n",
    "#  --------------------------------\n",
    "#"
   ]
  },
  {
   "cell_type": "code",
   "execution_count": null,
   "id": "343177ae-aef8-42b5-be76-1cc7b06f20fe",
   "metadata": {
    "tags": []
   },
   "outputs": [],
   "source": []
  },
  {
   "cell_type": "code",
   "execution_count": null,
   "id": "490df759-aa93-43f0-8a4c-615a1a66a342",
   "metadata": {
    "tags": []
   },
   "outputs": [],
   "source": []
  },
  {
   "cell_type": "markdown",
   "id": "6e469a86-5ee4-4f19-9006-22c35314835c",
   "metadata": {},
   "source": [
    "### print the latex document : sermon content"
   ]
  },
  {
   "cell_type": "code",
   "execution_count": 5,
   "id": "6a679860-c798-48c6-a389-cef84d1ee0d6",
   "metadata": {
    "tags": []
   },
   "outputs": [],
   "source": [
    "with open('../rep_common.txt', 'r') as fp:\n",
    "    rep_list = [ _.strip() for _ in fp.readlines() ]\n",
    "fp.close()\n",
    "rep_list = [ _.split(\", '\", 1) for _ in rep_list ]\n",
    "rep_list = [ [_[0], _[1][:-1]] for _ in rep_list ]"
   ]
  },
  {
   "cell_type": "code",
   "execution_count": 6,
   "id": "f5317a9c-b56d-400d-bf1a-d16fff2e31de",
   "metadata": {
    "tags": []
   },
   "outputs": [
    {
     "name": "stdout",
     "output_type": "stream",
     "text": [
      "checking of \"rgx.sub(r'$\\1^\\2$', 'E=MC^-2')\" : $E=MC^-2$\n"
     ]
    }
   ],
   "source": [
    "# compile regular expression rgx to cater math symbol '^'\n",
    "rgx = re.compile(r'([A-Za-z0-9=+\\-]+)\\^([A-Za-z0-9=+\\-]+)')\n",
    "print('checking of \"rgx.sub(r\\'$\\\\1^\\\\2$\\', \\'E=MC^-2\\')\" :', rgx.sub(r'$\\1^\\2$', 'E=MC^-2'))\n",
    "\n",
    "\n",
    "def cleanse_special_char(inputText):\n",
    "    txt2 = inputText\n",
    "    txt2 = txt2.replace('$','\\$') # preserve this here since its higher priority than in html arguments\n",
    "    txt2 = rgx.sub(r'$\\1^\\2$', txt2)\n",
    "    for rep_ in rep_list:\n",
    "        txt2 = txt2.replace(rep_[0], rep_[1])\n",
    "    txt2 = txt2.replace('&', ' and ') # preserve this here since its lower priority than in html arguments\n",
    "    txt2 = txt2.strip()\n",
    "    return txt2"
   ]
  },
  {
   "cell_type": "code",
   "execution_count": 7,
   "id": "67d51ea7-e1d6-4b72-a349-f95eea7d6d87",
   "metadata": {
    "tags": []
   },
   "outputs": [],
   "source": [
    "with open('../rep_whisper_trailing.txt', 'r') as fp:\n",
    "    whisper_trailing_rep_list = [ cleanse_special_char(_.strip()) for _ in fp.readlines() ]\n",
    "fp.close()"
   ]
  },
  {
   "cell_type": "code",
   "execution_count": 8,
   "id": "cd9d76b5-6b1d-4430-9236-b66a901676ce",
   "metadata": {
    "tags": []
   },
   "outputs": [
    {
     "name": "stdout",
     "output_type": "stream",
     "text": [
      "['劉立武牧師', '温偉耀博士', '蕭壽華牧師', '阮成國牧師', '溫偉耀博士普通話講道精選', '雷競業博士', '楊靖紀牧師', '關啟文博士', '林海虹傳道', '俞海燕傳道', '倪步曉博士', '賀志勇傳道', '蔡菲菲牧師', '關瑞文教授好書分享——Jean', '凌民興牧師', '蘇立言傳道', '溫偉耀博士', '黃慧賢教授好書分享——朱耀偉編', '郭鴻標牧師', '黃國維博士', '楊小玲師母', '潘怡蓉師母', '滕近輝牧師', '陳榮超牧師好書分享——Lee', '李天鈞博士好書分享——Donald', '唐盈盈神學生', '陳國恩博士好書分享——Mark', '宣道會恩橋堂賀志勇傳道', '陳智衡牧師好書分享——鮫島盛隆', '邢福增博士', '譚志超博士好書分享——Larry', '曾立華牧師', '在社交媒體中與上主相遇——訪問莊明偉牧師', '范晋豪牧師好書分享—安伯托．艾可', '葉應霖博士好書分享—利科', '李思敬牧師', '李穎強牧師', '包忠傑牧師', '何兆斌博士', '張永信牧師', '黎嘉讓牧師', '蔡菲菲傳道', '簡耀堂牧師', '游淑儀牧師', '張慕皚牧師', '高銘謙牧師', '胡欽牧師', '蔡少琪牧師']\n"
     ]
    }
   ],
   "source": [
    "p_list = list(p2c_dict.keys())\n",
    "print(p_list)"
   ]
  },
  {
   "cell_type": "code",
   "execution_count": 9,
   "id": "4f4e5c0b-aba3-4df5-a8f8-6ddb0c22ba5d",
   "metadata": {
    "tags": []
   },
   "outputs": [],
   "source": [
    "with open(\"./index_byn.csv\", \"r\") as fp:\n",
    "    lines = fp.readlines()\n",
    "fp.close()"
   ]
  },
  {
   "cell_type": "code",
   "execution_count": 12,
   "id": "6997b613-bd32-40c6-9eb3-c6962f7ba0e8",
   "metadata": {
    "tags": []
   },
   "outputs": [],
   "source": [
    "def check_in_year_range(code, year_range=[2012,2018]):\n",
    "    # tstr = c2t_dict.get(code, ' ')\n",
    "    # # print(tstr)\n",
    "    in_range = False\n",
    "    for yr in range(year_range[0], year_range[1] + 1):\n",
    "        # if str(yr) in tstr:\n",
    "        if str(yr) in code:\n",
    "            in_range = True\n",
    "            break\n",
    "    return in_range"
   ]
  },
  {
   "cell_type": "code",
   "execution_count": 13,
   "id": "3c9b72af-813a-44bd-9673-c3ee93caafda",
   "metadata": {
    "tags": []
   },
   "outputs": [],
   "source": [
    "with open(\"./index_byp.csv\", \"r\") as fp:\n",
    "    lines = fp.readlines()\n",
    "fp.close()"
   ]
  },
  {
   "cell_type": "code",
   "execution_count": 14,
   "id": "f5314f06-335b-4f6e-a6fe-1a8058e378d2",
   "metadata": {
    "tags": []
   },
   "outputs": [
    {
     "name": "stdout",
     "output_type": "stream",
     "text": [
      "all time sermon count: 980\n"
     ]
    }
   ],
   "source": [
    "print('all time sermon count:',\n",
    "    len( lines )\n",
    ")"
   ]
  },
  {
   "cell_type": "code",
   "execution_count": 21,
   "id": "ff2264cc-9c39-471c-8845-759d1e155666",
   "metadata": {
    "tags": []
   },
   "outputs": [
    {
     "name": "stdout",
     "output_type": "stream",
     "text": [
      "2022-2024 sermon count: 979\n"
     ]
    }
   ],
   "source": [
    "print('2022-2024 sermon count:',\n",
    "    len(   [ line \\\n",
    "                 for line in lines \\\n",
    "                     if check_in_year_range(\n",
    "                         line.split(',')[-1],\n",
    "                         [2022,2024]\n",
    "                     )\n",
    "            ] )\n",
    "     )"
   ]
  },
  {
   "cell_type": "code",
   "execution_count": null,
   "id": "c3b13485-0dba-4534-a32f-b180be4d731d",
   "metadata": {
    "tags": []
   },
   "outputs": [],
   "source": [
    "def sermon_tex_from_year(yyyy_start, yyyy_end):\n",
    "    # yyyy_start : starting year, e.g. 2012\n",
    "    # yyyy_end.  : ending year, e.g. 2018\n",
    "    progressStepCnt = 0\n",
    "    # --------------------------------------\n",
    "    # read the index table and only take\n",
    "    # into account within desired year range\n",
    "    # --------------------------------------\n",
    "    progressStepCnt += 1\n",
    "    print(f\"Step {progressStepCnt}: reading in full index file\")\n",
    "    with open('./index_byn.csv', 'r') as fp:\n",
    "        lines = fp.readlines()\n",
    "    fp.close()\n",
    "    lines = [ line \\\n",
    "                 for line in lines \\\n",
    "                     if check_in_year_range(\n",
    "                         line.split(',')[-1],\n",
    "                         [yyyy_start,yyyy_end]\n",
    "                     )\n",
    "            ]\n",
    "    sermon_tex_filepath = f\"../../build/ACSMHK/sermon_ACSMHK_{str(yyyy_start)}-{str(yyyy_end)[-2:]}.tex\"\n",
    "    # --------------------------------------\n",
    "    # print the latex document : prefix\n",
    "    # --------------------------------------\n",
    "    progressStepCnt += 1\n",
    "    print(f\"Step {progressStepCnt}: printing out prefixing\")\n",
    "    _ = os.system(f\"cat ../prefix.tex | sed 's/粵語講道逐字稿/宣道傳意及出版事工 粵語講道逐字稿 {str(yyyy_start)}-{str(yyyy_end)[-2:]}/' | sed 's/Youtube Channel:/Youtube Channel:  Alliance Communications Ministry/' > \" + sermon_tex_filepath)\n",
    "\n",
    "    # --------------------------------------\n",
    "    # index table partitioned by titles\n",
    "    # --------------------------------------\n",
    "\n",
    "    progressStepCnt += 1\n",
    "    print(f\"Step {progressStepCnt}: generate index in name order\")\n",
    "    with open(\"./index_byn.csv\", \"r\") as fp:\n",
    "        lines = fp.readlines()\n",
    "    fp.close()\n",
    "    # --------------------------------------\n",
    "    # index table sorted by name order\n",
    "    # --------------------------------------\n",
    "    progressStepCnt += 1\n",
    "    print(f\"Step {progressStepCnt}: writing TOC in chronic order\")\n",
    "    with open(sermon_tex_filepath, \"a\") as fp:\n",
    "        sermonCnt = 0\n",
    "        fp.write(\"\\\\section{目錄}\\n\")\n",
    "        fp.write(\"\\\\label{sec:index}\\n\")\n",
    "        fp.write(\"{ \\\\scriptsize\\n\")\n",
    "        # --------------------------------------\n",
    "        # start of TOC table\n",
    "        # --------------------------------------\n",
    "        fp.write(\"\\n\\n\\\\begin{xltabular}{\\\\textwidth}{|p{0.15\\\\textwidth} p{0.6\\\\textwidth}|p{0.07\\\\textwidth} p{0.1\\\\textwidth}|}\\n\") # lllr: bk+v/ch, theme, date, youtube-code\n",
    "        fp.write(\"\\\\hline\\n\")\n",
    "        # --------------------------------------\n",
    "        # lines is the line content in index_byn\n",
    "        # --------------------------------------\n",
    "        for lineId, line in enumerate(lines):\n",
    "            cc = line.split(\",\")[0]\n",
    "            # --------------------------------------\n",
    "            # only include this code cc if it is\n",
    "            # ready in the transcription folder\n",
    "            # --------------------------------------\n",
    "            if os.path.isfile(f'../../data/ACSMHK/{cc}.txt'):\n",
    "                sermonCnt += 1\n",
    "                pstr = c2p_dict.get(cc, ' ')\n",
    "                bstr = c2b_dict.get(cc, ' ')\n",
    "                vstr = c2v_dict.get(cc, ' ')\n",
    "                sstr = cleanse_special_char(\n",
    "                    c2s_dict.get(cc, ' ').replace('_','\\_').replace('&','\\&')\n",
    "                )\n",
    "                tstr = c2t_dict.get(cc, ' ')\n",
    "                ystr = \"\\\\href{https://youtube.com/watch?v=\" + cc +\"}{\\\\texttt{ \" + cc.replace('_','\\_') + \"}}\"\n",
    "                fp.write(bstr + ' ' + vstr + \" & \" \\\n",
    "                         + \"\\\\hyperref[sec:\"+cc.replace('-','_')+\"]{\"+sstr+\"}\" + \" & \" \\\n",
    "                         + tstr + \" & \" \\\n",
    "                         + ystr \\\n",
    "                         + \" \\\\\\\\\\n\")\n",
    "        fp.write(\"\\\\end{xltabular}\\n\")\n",
    "        # --------------------------------------\n",
    "        # end of table sorted by name order\n",
    "        # --------------------------------------\n",
    "        fp.write(\"}\\n\")\n",
    "        print('sermon count in current book: %d' % sermonCnt)\n",
    "        fp.write(\"\\\\newpage\\n\\n\")\n",
    "    fp.close()\n",
    "\n",
    "    progressStepCnt += 1\n",
    "    print(f\"Step {progressStepCnt}: generate index in scriptual order\")\n",
    "    with open(\"./index_byp.csv\", \"r\") as fp:\n",
    "        lines = fp.readlines()\n",
    "    fp.close()\n",
    "    lines = [ line \\\n",
    "                 for line in lines \\\n",
    "                     if check_in_year_range(\n",
    "                         line.split(',')[-1],\n",
    "                         [yyyy_start,yyyy_end]\n",
    "                     )\n",
    "            ]\n",
    "\n",
    "    # --------------------------------------\n",
    "    # index table sorted by preacher order\n",
    "    # --------------------------------------\n",
    "    progressStepCnt += 1\n",
    "    print(f\"Step {progressStepCnt}: writing TOC in scriptual order\")\n",
    "    with open(sermon_tex_filepath, \"a\") as fp:\n",
    "        sermonCnt = 0\n",
    "        fp.write(\"\\\\section{目錄\\\\small{(順卷)}}\\n\")\n",
    "        fp.write(\"\\\\label{sec:index_scriptual}\\n\")\n",
    "        fp.write(\"{ \\\\scriptsize\\n\")\n",
    "        # --------------------------------------\n",
    "        # start of TOC table\n",
    "        # --------------------------------------\n",
    "        fp.write(\"\\n\\n\\\\begin{xltabular}{\\\\textwidth}{|p{0.15\\\\textwidth} p{0.6\\\\textwidth}|p{0.07\\\\textwidth} p{0.1\\\\textwidth}|}\\n\") # lllr: bk+v/ch, theme, date, youtube-code\n",
    "        fp.write(\"\\\\hline\\n\")\n",
    "        # --------------------------------------\n",
    "        # lines is the line content in index_byp\n",
    "        # --------------------------------------\n",
    "        for lineId, line in enumerate(lines):\n",
    "            cc = line.split(\",\")[0]\n",
    "            # --------------------------------------\n",
    "            # only include this code cc if it is\n",
    "            # ready in the transcription folder\n",
    "            # --------------------------------------\n",
    "            if os.path.isfile(f'../../data/ACSMHK/{cc}.txt'):\n",
    "                sermonCnt += 1\n",
    "                pstr = c2p_dict.get(cc, ' ')\n",
    "                bstr = c2b_dict.get(cc, ' ')\n",
    "                vstr = c2v_dict.get(cc, ' ')\n",
    "                sstr = c2s_dict.get(cc, ' ')\n",
    "                sstr = yfcx_sermon_title_processing(cc)\n",
    "                sstr = cleanse_special_char(\n",
    "                    c2s_dict.get(cc, ' ').replace('_','\\_').replace('&','\\&')\n",
    "                )\n",
    "                tstr = c2t_dict.get(cc, ' ')\n",
    "                ystr = \"\\\\href{https://youtube.com/watch?v=\" + cc +\"}{\\\\texttt{ \" + cc.replace('_','\\_') + \"}}\"\n",
    "                fp.write(bstr + ' ' + vstr + \" & \" \\\n",
    "                         + \"\\\\hyperref[sec:\"+cc.replace('-','_')+\"]{\"+sstr+\"}\" + \" & \" \\\n",
    "                         + tstr + \" & \" \\\n",
    "                         + ystr \\\n",
    "                         + \" \\\\\\\\\\n\")\n",
    "        fp.write(\"\\\\end{xltabular}\\n\")\n",
    "        # --------------------------------------\n",
    "        # end of table sorted by preacher order\n",
    "        # --------------------------------------\n",
    "        fp.write(\"}\\n\")\n",
    "        print('sermon count in current book: %d' % sermonCnt)\n",
    "        fp.write(\"\\\\newpage\\n\\n\")\n",
    "    fp.close()\n",
    "\n",
    "    # --------------------------------------\n",
    "    # index table sorted by scriptual order\n",
    "    # --------------------------------------\n",
    "    progressStepCnt += 1\n",
    "    print(f\"Step {progressStepCnt}: writing TOC in scriptual order\")\n",
    "    with open(sermon_tex_filepath, \"a\") as fp:\n",
    "        sermonCnt = 0\n",
    "        fp.write(\"\\\\section{目錄\\\\small{(順卷)}}\\n\")\n",
    "        fp.write(\"\\\\label{sec:index_scriptual}\\n\")\n",
    "        fp.write(\"{ \\\\scriptsize\\n\")\n",
    "        # --------------------------------------\n",
    "        # start of TOC table\n",
    "        # --------------------------------------\n",
    "        fp.write(\"\\n\\n\\\\begin{xltabular}{\\\\textwidth}{|p{0.15\\\\textwidth} p{0.6\\\\textwidth}|p{0.07\\\\textwidth} p{0.1\\\\textwidth}|}\\n\") # lllr: bk+v/ch, theme, date, youtube-code\n",
    "        fp.write(\"\\\\hline\\n\")\n",
    "        # --------------------------------------\n",
    "        # lines is the line content in index_byb\n",
    "        # --------------------------------------\n",
    "        for lineId, line in enumerate(lines):\n",
    "            cc = line.split(\",\")[0]\n",
    "            # --------------------------------------\n",
    "            # only include this code cc if it is\n",
    "            # ready in the transcription folder\n",
    "            # --------------------------------------\n",
    "            if os.path.isfile(f'../../data/ACSMHK/{cc}.txt'):\n",
    "                sermonCnt += 1\n",
    "                pstr = c2p_dict.get(cc, ' ')\n",
    "                bstr = c2b_dict.get(cc, ' ')\n",
    "                vstr = c2v_dict.get(cc, ' ')\n",
    "                sstr = c2s_dict.get(cc, ' ')\n",
    "                sstr = yfcx_sermon_title_processing(cc)\n",
    "                sstr = cleanse_special_char(\n",
    "                    c2s_dict.get(cc, ' ').replace('_','\\_').replace('&','\\&')\n",
    "                )\n",
    "                tstr = c2t_dict.get(cc, ' ')\n",
    "                ystr = \"\\\\href{https://youtube.com/watch?v=\" + cc +\"}{\\\\texttt{ \" + cc.replace('_','\\_') + \"}}\"\n",
    "                fp.write(bstr + ' ' + vstr + \" & \" \\\n",
    "                         + \"\\\\hyperref[sec:\"+cc.replace('-','_')+\"]{\"+sstr+\"}\" + \" & \" \\\n",
    "                         + tstr + \" & \" \\\n",
    "                         + ystr \\\n",
    "                         + \" \\\\\\\\\\n\")\n",
    "        fp.write(\"\\\\end{xltabular}\\n\")\n",
    "        # --------------------------------------\n",
    "        # end of table sorted by scriptual order\n",
    "        # --------------------------------------\n",
    "        fp.write(\"}\\n\")\n",
    "        print('sermon count in current book: %d' % sermonCnt)\n",
    "        fp.write(\"\\\\newpage\\n\\n\")\n",
    "    fp.close()\n",
    "\n",
    "    # --------------------------------------\n",
    "    # re-reading it index table sorted by\n",
    "    # name order\n",
    "    # --------------------------------------\n",
    "\n",
    "    with open(\"./index_byn.csv\", \"r\") as fp:\n",
    "        lines = fp.readlines()\n",
    "    fp.close()\n",
    "    lines = [ line \\\n",
    "                for line in lines \\\n",
    "                    if check_in_year_range(\n",
    "                        line.split(',')[-1],\n",
    "                        [yyyy_start,yyyy_end]\n",
    "                    )\n",
    "            ]\n",
    "\n",
    "    progressStepCnt += 1\n",
    "    print(f\"Step {progressStepCnt}: generate main content\")\n",
    "    cc_prev = ''\n",
    "    cc_next = ''\n",
    "    # --------------------------------------\n",
    "    # lines is the line content in index_byn\n",
    "    # --------------------------------------\n",
    "    for lineId, line in enumerate(lines):\n",
    "        if (lineId+1) % 100 == 0:\n",
    "            print(f\"{lineId+1} of {len(lines)}\")\n",
    "        cc = line.split(\",\")[0]\n",
    "        cc_prev = lines[(lineId-1)%len(lines)].split(\",\")[0]\n",
    "        cc_next = lines[(lineId+1)%len(lines)].split(\",\")[0]\n",
    "        if os.path.isfile(f'../../data/ACSMHK/{cc}.txt'):\n",
    "            with open(sermon_tex_filepath, \"a\") as fp:\n",
    "                #fp.write(\"\\n\\n\\\\section{\"+c2s_dict.get(cc).replace('_','\\\\_')+\"}\\n\")\n",
    "                sectionNameStr = ''\n",
    "                b = c2b_dict.get(cc)\n",
    "                sectionNameStr += b if b is not None else ''\n",
    "                v = c2v_dict.get(cc)\n",
    "                sectionNameStr += ' ' + v if b is not None and v is not None else ''\n",
    "                ch = c2ch_dict.get(cc)\n",
    "                sectionNameStr += ' ' + ch if b is not None and ch is not None and v is None else ''\n",
    "                fp.write(\"\\n\\n\\\\section{\"+sectionNameStr+\"}\\n\")\n",
    "                fp.write(\"\\\\label{sec:\"+cc.replace('-','_')+\"}\\n\")\n",
    "                sstr = cleanse_special_char(\n",
    "                    c2s_dict.get(cc, ' ').replace('_','\\_').replace('&','\\&')\n",
    "                )\n",
    "                fp.write(\"\\\\textbf{\"+sstr+\"}\\n\")\n",
    "                fp.write(\"\\\\newline\\n\\\\newline\\n\")\n",
    "                fp.write(\"連結: \\\\href{https://youtube.com/watch?v=\" + cc +\"}{\\\\texttt{ https://youtube.com/watch?v=\" + cc.replace('_','\\_') + \"}} ~~~~ 語音日期: \" + c2t_dict.get(cc) + \" \\n\")\n",
    "                fp.write(\"\\\\newline\\n\\\\newline\\n\")\n",
    "                fp.write(\"\\\\hyperref[sec:\"+cc_prev.replace('-','_')+\"]{\\\\small{< < < PREV SERMON < < <}}\\n\")\n",
    "                fp.write(\"~\\n\")\n",
    "                fp.write(\"\\\\hyperref[sec:index]{\\\\small{[返主目錄]}}\\n\")\n",
    "                fp.write(\"~\\n\")\n",
    "                fp.write(\"\\\\hyperref[sec:\"+cc_next.replace('-','_')+\"]{\\\\small{> > > NEXT SERMON > > >}}\\n\")\n",
    "                fp.write(\"\\\\newline\\n\\\\newline\\n\")\n",
    "            fp.close()\n",
    "            with open(sermon_tex_filepath, \"a\") as fp:\n",
    "                # ----------------------\n",
    "                # add the scripture part if not None\n",
    "                bvc_curr = c2bvc_dict.get(cc)\n",
    "                if bvc_curr is not None:\n",
    "                    bvc_curr = bvc_curr.split(\"\\n\")\n",
    "                    # first row shall be book + verse info\n",
    "                    bvc_line = bvc_curr[0].strip() + \"\\n\"\n",
    "                    fp.write(bvc_line)\n",
    "                    fp.write(\"\\\\newline\\n\")\n",
    "                    fp.write(\"\\\\begin{longtable}{cl}\\n\")\n",
    "                    fp.write(\"\\\\hline\\n\\\\hline\\n\")\n",
    "                    fp.write(\"章節 & 經文 (和合本修訂版)\\\\\\\\\\n\")\n",
    "                    fp.write(\"\\\\hline\\n\")\n",
    "                    for bvc_line in bvc_curr[1:]:\n",
    "                        bvc_line = bvc_line.strip()\n",
    "                        if len(bvc_line) > 0:\n",
    "                            if bvc_line != [ _.strip() for _ in bvc_curr if len(_.strip()) ][-1]:\n",
    "                                bvc_line += \" \\\\\\\\ \\\\\\\\ \\\\relax\\n\"\n",
    "                            else:\n",
    "                                bvc_line += \" \\\\\\\\ \\\\\\\\\\n\"\n",
    "                            si = bvc_line.find(\" \")\n",
    "                            if si == -1:\n",
    "                                bvc_line = \"& \" + \"\\\\begin{tabularx}{0.7\\\\textwidth}{X} \" + bvc_line + \" \\\\end{tabularx}\"\n",
    "                            else:\n",
    "                                bvc_line = bvc_line[:si].replace(\".\",\":\") +  \" & \" + \"\\\\begin{tabularx}{0.7\\\\textwidth}{X} \" + bvc_line[si+1:]\n",
    "                                nli = bvc_line.find(\" \\\\\\\\\") # newline char index\n",
    "                                bvc_line = bvc_line[:nli] + \" \\\\end{tabularx}\" + bvc_line[nli:]\n",
    "                            fp.write(bvc_line)\n",
    "                    fp.write(\"[1ex]\\n\")\n",
    "                    fp.write(\"\\\\hline\\n\\\\hline\\n\")\n",
    "                    fp.write(\"\\\\end{longtable}\\n\")\n",
    "                # ----------------------\n",
    "                # add the sermon part\n",
    "                with open(\"../../data/ACSMHK/\"+cc+\".txt\", \"r\") as fp_:\n",
    "                    the_sermon_text = fp_.read()\n",
    "                fp_.close()\n",
    "                the_sermon_text = cleanse_special_char(the_sermon_text)\n",
    "                the_sermon_text = the_sermon_text.replace(\"\\\\n\\\\n\",\"\\\\n\")\n",
    "                textlines = the_sermon_text.split(\"\\n\")\n",
    "                _textrow_cnt = 0\n",
    "                textline_prev = ''\n",
    "                for textline in textlines:\n",
    "                    # ----------------------------------------------------------------------\n",
    "                    # check if whisper_trailing_rep_list any 2 match\n",
    "                    iterator = iter(whisper_trailing_rep_list)\n",
    "                    matchCnt = 0\n",
    "                    # Use the next function to retrieve the elements of the iterator\n",
    "                    try:\n",
    "                        while True:\n",
    "                            ele = next(iterator)\n",
    "                            if ele in textline:\n",
    "                                matchCnt += 1\n",
    "                    except StopIteration:\n",
    "                        pass\n",
    "                    whisper_trailing_pattern_match = matchCnt >= 2\n",
    "                    # END OF check if whisper_trailing_rep_list any 2 match\n",
    "                    # ----------------------------------------------------------------------\n",
    "                    if textline == textline_prev:\n",
    "                        textline_prev = textline\n",
    "                        continue\n",
    "                    elif re.sub(r'[()]', '', textline.strip()) in whisper_trailing_rep_list:\n",
    "                        continue\n",
    "                    elif whisper_trailing_pattern_match:\n",
    "                        continue\n",
    "                    else:\n",
    "                        textline_prev = textline\n",
    "                    _textrow_cnt += 1\n",
    "                    if _textrow_cnt % 40 == 1:\n",
    "                        fp.write(\"$^{%d}$\" % _textrow_cnt)\n",
    "                    if textline.count('$') == 1:\n",
    "                        # if the text line contains odd number of\n",
    "                        # dollar sign '$', it would probably bring up error\n",
    "                        # over 95% of the situation is that there only has 1 '$' sign\n",
    "                        textline = textline.replace('$', '\\\\$')\n",
    "                    fp.write(textline + \"\\n\")\n",
    "                    if _textrow_cnt % 40 == 0:\n",
    "                        fp.write(\"\\n\")\n",
    "                fp.write(\"\\\\newpage\\n\\n\")\n",
    "            fp.close()\n",
    "\n",
    "    progressStepCnt += 1\n",
    "    print(f\"Step {progressStepCnt}: generate afterward and postfix\")\n",
    "    # --------------------------------------\n",
    "    # print the latex document : afterword\n",
    "    # --------------------------------------\n",
    "    _ = os.system(\"cat ../afterword.tex >> \" + sermon_tex_filepath)\n",
    "    # --------------------------------------\n",
    "    # print the latex document : postfix\n",
    "    # --------------------------------------\n",
    "    _ = os.system(\"cat ../postfix.tex >> \" + sermon_tex_filepath)\n",
    "    print(\"done !\")"
   ]
  },
  {
   "cell_type": "markdown",
   "id": "e333ccb6-8996-4064-bb27-1b542d35308d",
   "metadata": {
    "tags": []
   },
   "source": [
    "## 2022-2024 Sermons"
   ]
  },
  {
   "cell_type": "code",
   "execution_count": null,
   "id": "58257a32-cbbd-4fc2-82cf-59b4d885e537",
   "metadata": {},
   "outputs": [],
   "source": [
    "sermon_tex_from_year(2022, 2024)"
   ]
  },
  {
   "cell_type": "code",
   "execution_count": null,
   "id": "d507f792-da6e-4e67-b48f-d7176080e2ed",
   "metadata": {},
   "outputs": [],
   "source": []
  },
  {
   "cell_type": "code",
   "execution_count": null,
   "id": "93a5ec78-277e-4b61-ab23-265f4bd216f3",
   "metadata": {},
   "outputs": [],
   "source": []
  }
 ],
 "metadata": {
  "kernelspec": {
   "display_name": "Python 3 (ipykernel)",
   "language": "python",
   "name": "python3"
  },
  "language_info": {
   "codemirror_mode": {
    "name": "ipython",
    "version": 3
   },
   "file_extension": ".py",
   "mimetype": "text/x-python",
   "name": "python",
   "nbconvert_exporter": "python",
   "pygments_lexer": "ipython3",
   "version": "3.10.10"
  }
 },
 "nbformat": 4,
 "nbformat_minor": 5
}
