{
 "cells": [
  {
   "cell_type": "code",
   "execution_count": null,
   "id": "7a2908dc",
   "metadata": {
    "tags": []
   },
   "outputs": [],
   "source": [
    "import os.path\n",
    "import pickle as pkl\n",
    "import re\n",
    "#from re import compile as recompile\n",
    "print('done !')"
   ]
  },
  {
   "cell_type": "code",
   "execution_count": null,
   "id": "8419d9bc-2140-4e84-9c45-4a3f118a826a",
   "metadata": {
    "tags": []
   },
   "outputs": [],
   "source": [
    "with open(\"code_dictionary.pkl\", \"rb\") as fp:\n",
    "    c2p_dict, bk2bkorder_dict, c2b_dict, c2ch_dict, c2v_dict, c2s_dict, c2t_dict, c2bvc_dict = pkl.load(fp)\n",
    "fp.close()"
   ]
  },
  {
   "cell_type": "code",
   "execution_count": null,
   "id": "f9cfd2e1-146e-4c58-9771-03d001697357",
   "metadata": {
    "tags": []
   },
   "outputs": [],
   "source": [
    "with open(\"x2code_dictionary.pkl\", \"rb\") as fp:\n",
    "    p2c_dict, b2c_dict = pkl.load(fp)\n",
    "fp.close()"
   ]
  },
  {
   "cell_type": "code",
   "execution_count": null,
   "id": "3a01c855-3b50-4c91-855b-fe74c6c90eec",
   "metadata": {
    "tags": []
   },
   "outputs": [],
   "source": [
    "# # generate\n",
    "# preacher 1\n",
    "#  --------------------------------\n",
    "# | Book  Ch:Vs  Theme  Date  Code\n",
    "# |--------------------------------\n",
    "# |  .\n",
    "# |  .\n",
    "# |  .\n",
    "# |\n",
    "#  --------------------------------\n",
    "#\n",
    "# preacher 2\n",
    "#  --------------------------------\n",
    "# | Book  Ch:Vs  Theme  Date  Code\n",
    "# |--------------------------------\n",
    "# |  .\n",
    "# |  .\n",
    "# |  .\n",
    "# |\n",
    "#  --------------------------------\n",
    "#"
   ]
  },
  {
   "cell_type": "code",
   "execution_count": null,
   "id": "343177ae-aef8-42b5-be76-1cc7b06f20fe",
   "metadata": {
    "tags": []
   },
   "outputs": [],
   "source": []
  },
  {
   "cell_type": "code",
   "execution_count": null,
   "id": "490df759-aa93-43f0-8a4c-615a1a66a342",
   "metadata": {
    "tags": []
   },
   "outputs": [],
   "source": []
  },
  {
   "cell_type": "markdown",
   "id": "6e469a86-5ee4-4f19-9006-22c35314835c",
   "metadata": {},
   "source": [
    "### print the latex document : sermon content"
   ]
  },
  {
   "cell_type": "code",
   "execution_count": null,
   "id": "6a679860-c798-48c6-a389-cef84d1ee0d6",
   "metadata": {
    "tags": []
   },
   "outputs": [],
   "source": [
    "with open('../rep_common.txt', 'r') as fp:\n",
    "    rep_list = [ _.strip() for _ in fp.readlines() ]\n",
    "fp.close()\n",
    "rep_list = [ _.split(\", '\", 1) for _ in rep_list ]\n",
    "rep_list = [ [_[0], _[1][:-1]] for _ in rep_list ]"
   ]
  },
  {
   "cell_type": "code",
   "execution_count": null,
   "id": "f5317a9c-b56d-400d-bf1a-d16fff2e31de",
   "metadata": {
    "tags": []
   },
   "outputs": [],
   "source": [
    "# compile regular expression rgx to cater math symbol '^'\n",
    "rgx = re.compile(r'([A-Za-z0-9=+\\-]+)\\^([A-Za-z0-9=+\\-]+)')\n",
    "print('checking of \"rgx.sub(r\\'$\\\\1^\\\\2$\\', \\'E=MC^-2\\')\" :', rgx.sub(r'$\\1^\\2$', 'E=MC^-2'))\n",
    "\n",
    "\n",
    "def cleanse_special_char(inputText):\n",
    "    txt2 = inputText\n",
    "    txt2 = txt2.replace('$','\\$') # preserve this here since its higher priority than in html arguments\n",
    "    txt2 = rgx.sub(r'$\\1^\\2$', txt2)\n",
    "    for rep_ in rep_list:\n",
    "        txt2 = txt2.replace(rep_[0], rep_[1])\n",
    "    txt2 = txt2.replace('&', ' and ') # preserve this here since its lower priority than in html arguments\n",
    "    txt2 = txt2.strip()\n",
    "    return txt2"
   ]
  },
  {
   "cell_type": "code",
   "execution_count": null,
   "id": "d0109d36-ceff-4575-b0f4-f1dfd3c1e8ed",
   "metadata": {
    "tags": []
   },
   "outputs": [],
   "source": [
    "with open('../rep_whisper_trailing.txt', 'r') as fp:\n",
    "    whisper_trailing_rep_list = [ cleanse_special_char(_.strip()) for _ in fp.readlines() ]\n",
    "fp.close()"
   ]
  },
  {
   "cell_type": "code",
   "execution_count": null,
   "id": "cd9d76b5-6b1d-4430-9236-b66a901676ce",
   "metadata": {
    "tags": []
   },
   "outputs": [],
   "source": [
    "p_list = list(p2c_dict.keys())\n",
    "print(p_list)"
   ]
  },
  {
   "cell_type": "code",
   "execution_count": null,
   "id": "4f4e5c0b-aba3-4df5-a8f8-6ddb0c22ba5d",
   "metadata": {
    "tags": []
   },
   "outputs": [],
   "source": [
    "def print_prefix(sermon_tex_filepath, progressStepCnt):\n",
    "    progressStepCnt += 1\n",
    "    print(f\"Step {progressStepCnt}: printing out prefixing\")\n",
    "    _ = os.system(f\"cat ../prefix.tex | sed 's/粵語講道逐字稿/中國神學研究院 粵語講道逐字稿/' | sed 's/Youtube Channel:/Youtube Channel: China Graduate School of Theology/' > \" + sermon_tex_filepath)\n",
    "    return progressStepCnt"
   ]
  },
  {
   "cell_type": "code",
   "execution_count": null,
   "id": "8144a154",
   "metadata": {},
   "outputs": [],
   "source": [
    "def generate_toc(sermon_tex_filepath, index_file, progressStepCnt):\n",
    "    progressStepCnt += 1\n",
    "    print(f\"Step {progressStepCnt}: reading in full index file\")\n",
    "    with open(index_file, 'r') as fp:\n",
    "        lines = fp.readlines()\n",
    "\n",
    "    progressStepCnt += 1\n",
    "    print(f\"Step {progressStepCnt}: writing TOC in {\"title\"} order\")\n",
    "    with open(sermon_tex_filepath, \"a\") as fp:\n",
    "        fp.write(\"\\\\section{目錄}\\n\")\n",
    "        fp.write(\"\\\\label{sec:index}\\n\")\n",
    "        fp.write(\"{ \\\\scriptsize\\n\")\n",
    "        # --------------------------------------\n",
    "        # start of TOC table\n",
    "        # --------------------------------------\n",
    "        fp.write(\"\\n\\n\\\\begin{xltabular}{\\\\textwidth}{|p{0.15\\\\textwidth} p{0.6\\\\textwidth}|p{0.07\\\\textwidth} p{0.1\\\\textwidth}|}\\n\") # lllr: bk+v/ch, theme, date, youtube-code\n",
    "        fp.write(\"\\\\hline\\n\")\n",
    "        # --------------------------------------\n",
    "        # lines is the line content in index_byn\n",
    "        # --------------------------------------\n",
    "        for lineId, line in enumerate(lines):\n",
    "            cc = line.split(\",\")[0]\n",
    "            # --------------------------------------\n",
    "            # only include this code cc if it is\n",
    "            # ready in the transcription folder\n",
    "            # --------------------------------------\n",
    "            if os.path.isfile(f'../../data/CGST/{cc}.txt'):\n",
    "                pstr = c2p_dict.get(cc, ' ')\n",
    "                bstr = c2b_dict.get(cc, ' ')\n",
    "                vstr = c2v_dict.get(cc, ' ')\n",
    "                sstr = cleanse_special_char(\n",
    "                    c2s_dict.get(cc, ' ').replace('_','\\_').replace('&','\\&')\n",
    "                )\n",
    "                tstr = c2t_dict.get(cc, ' ')\n",
    "                ystr = \"\\\\href{https://youtube.com/watch?v=\" + cc +\"}{\\\\texttt{\" + cc.replace('_','\\_') + \"}}\"\n",
    "                fp.write(bstr + ' ' + vstr + \" & \" \\\n",
    "                        + \"\\\\hyperref[sec:\"+cc.replace('-','_')+\"]{\"+sstr+\"}\" + \" & \" \\\n",
    "                        + tstr + \" & \" \\\n",
    "                        + ystr \\\n",
    "                        + \" \\\\\\\\\\n\")\n",
    "        fp.write(\"\\\\end{xltabular}\\n\")\n",
    "        fp.write(\"}\\n\")\n",
    "        fp.write(\"\\\\newpage\\n\\n\")\n",
    "        # --------------------------------------\n",
    "        # end of table sorted by title order\n",
    "        # --------------------------------------\n",
    "    return progressStepCnt"
   ]
  },
  {
   "cell_type": "code",
   "execution_count": null,
   "id": "391145d3-e80c-4a25-adfa-1bd8f3f7c105",
   "metadata": {
    "tags": []
   },
   "outputs": [],
   "source": [
    "def write_scripture_part(fp, cc):\n",
    "    # ----------------------\n",
    "    # add the scripture part if not None\n",
    "    bvc_curr = c2bvc_dict.get(cc)\n",
    "    if bvc_curr is not None:\n",
    "        bvc_curr = bvc_curr.split(\"\\n\")\n",
    "        # first row shall be book + verse info\n",
    "        fp.write(bvc_curr[0].strip() + \"\\n\")\n",
    "        fp.write(\"\\\\newline\\n\")\n",
    "        fp.write(\"\\\\begin{longtable}{cl}\\n\")\n",
    "        fp.write(\"\\\\hline\\n\\\\hline\\n\")\n",
    "        fp.write(\"章節 & 經文 (和合本修訂版)\\\\\\\\\\n\")\n",
    "        fp.write(\"\\\\hline\\n\")\n",
    "        for bvc_line in bvc_curr[1:]:\n",
    "            bvc_line = bvc_line.strip()\n",
    "            if len(bvc_line) > 0:\n",
    "                if bvc_line != [_.strip() for _ in bvc_curr if len(_.strip())][-1]:\n",
    "                    bvc_line += \" \\\\\\\\ \\\\\\\\ \\\\relax\\n\"\n",
    "                else:\n",
    "                    bvc_line += \" \\\\\\\\ \\\\\\\\\\n\"\n",
    "                si = bvc_line.find(\" \")\n",
    "                if si == -1:\n",
    "                    bvc_line = \"& \" + \"\\\\begin{tabularx}{0.7\\\\textwidth}{X} \" + bvc_line + \" \\\\end{tabularx}\"\n",
    "                else:\n",
    "                    bvc_line = bvc_line[:si].replace(\".\",\":\") +  \" & \" + \"\\\\begin{tabularx}{0.7\\\\textwidth}{X} \" + bvc_line[si+1:]\n",
    "                    nli = bvc_line.find(\" \\\\\\\\\")\n",
    "                    bvc_line = bvc_line[:nli] + \" \\\\end{tabularx}\" + bvc_line[nli:]\n",
    "                fp.write(bvc_line)\n",
    "        fp.write(\"[1ex]\\n\")\n",
    "        fp.write(\"\\\\hline\\n\\\\hline\\n\")\n",
    "        fp.write(\"\\\\end{longtable}\\n\")"
   ]
  },
  {
   "cell_type": "code",
   "execution_count": null,
   "id": "4bf1e78c",
   "metadata": {},
   "outputs": [],
   "source": [
    "def write_sermon_text(fp, cc):\n",
    "    with open(\"../../data/CGST/\"+cc+\".txt\", \"r\") as fp_:\n",
    "        the_sermon_text = fp_.read()\n",
    "    fp_.close()\n",
    "    the_sermon_text = cleanse_special_char(the_sermon_text).replace(\"\\\\n\\\\n\",\"\\\\n\")\n",
    "    textlines = the_sermon_text.split(\"\\n\")\n",
    "    _textrow_cnt = 0\n",
    "    textline_prev = ''\n",
    "    for textline in textlines:\n",
    "        # ----------------------------------------------------------------------\n",
    "        # check if whisper_trailing_rep_list any 2 match\n",
    "        iterator = iter(whisper_trailing_rep_list)\n",
    "        matchCnt = 0\n",
    "        # Use the next function to retrieve the elements of the iterator\n",
    "        try:\n",
    "            while True:\n",
    "                ele = next(iterator)\n",
    "                if ele in textline:\n",
    "                    matchCnt += 1\n",
    "        except StopIteration:\n",
    "            pass\n",
    "        whisper_trailing_pattern_match = matchCnt >= 2\n",
    "        # END OF check if whisper_trailing_rep_list any 2 match\n",
    "        # ----------------------------------------------------------------------\n",
    "        if textline == textline_prev:\n",
    "            textline_prev = textline\n",
    "            continue\n",
    "        elif re.sub(r'[()]', '', textline.strip()) in whisper_trailing_rep_list:\n",
    "            continue\n",
    "        elif whisper_trailing_pattern_match:\n",
    "            continue\n",
    "        else:\n",
    "            textline_prev = textline\n",
    "        _textrow_cnt += 1\n",
    "        if _textrow_cnt % 40 == 1:\n",
    "            fp.write(\"$^{%d}$\" % _textrow_cnt)\n",
    "        if textline.count('$') == 1:\n",
    "            # if the text line contains odd number of\n",
    "            # dollar sign '$', it would probably bring up error\n",
    "            # over 95% of the situation is that there only has 1 '$' sign\n",
    "            textline = textline.replace('$', '\\\\$')\n",
    "        fp.write(textline + \"\\n\")\n",
    "        if _textrow_cnt % 40 == 0:\n",
    "            fp.write(\"\\n\")"
   ]
  },
  {
   "cell_type": "code",
   "execution_count": null,
   "id": "830fa1f9",
   "metadata": {},
   "outputs": [],
   "source": [
    "def write_sermon_section(sermon_tex_filepath, cc, cc_prev, cc_next):\n",
    "    with open(sermon_tex_filepath, \"a\") as fp:\n",
    "        sectionNameStr = f\"{c2b_dict.get(cc, '')} {c2v_dict.get(cc, '')} {c2ch_dict.get(cc, '')}\".strip()\n",
    "        fp.write(f\"\\n\\n\\\\section{{{sectionNameStr}}}\\n\")\n",
    "        fp.write(f\"\\\\label{{sec:{cc.replace('-','_')}}}\\n\")\n",
    "        sstr = cleanse_special_char(c2s_dict.get(cc, ' ').replace('_','\\_').replace('&','\\&'))\n",
    "        fp.write(f\"\\\\textbf{{{sstr}}}\\n\")\n",
    "        fp.write(\"\\\\newline\\n\\\\newline\\n\")\n",
    "        fp.write(f\"連結: \\\\href{{https://youtube.com/watch?v={cc}}}{{\\\\texttt{{ https://youtube.com/watch?v={cc.replace('_','\\_')} }}}} ~~~~ 語音日期: {c2t_dict.get(cc)}\\n\")\n",
    "        fp.write(\"\\\\newline\\n\\\\newline\\n\")\n",
    "        fp.write(f\"\\\\hyperref[sec:{cc_prev.replace('-','_')}]{{\\\\small{{< < < PREV SERMON < < <}}}}\\n\")\n",
    "        fp.write(\"~\\n\")\n",
    "        fp.write(\"\\\\hyperref[sec:index]{\\\\small{[返主目錄]}}\\n\")\n",
    "        fp.write(\"~\\n\")\n",
    "        fp.write(f\"\\\\hyperref[sec:{cc_next.replace('-','_')}]{{\\\\small{{> > > NEXT SERMON > > >}}}}\\n\")\n",
    "        fp.write(\"\\\\newline\\n\\\\newline\\n\")\n",
    "        write_scripture_part(fp, cc)\n",
    "        write_sermon_text(fp, cc)\n",
    "        fp.write(\"\\\\newpage\\n\\n\")"
   ]
  },
  {
   "cell_type": "code",
   "execution_count": null,
   "id": "5447f227-5b0a-4389-b216-d3304ef5bcc5",
   "metadata": {
    "tags": []
   },
   "outputs": [],
   "source": [
    "def generate_main_content(sermon_tex_filepath, index_file, progressStepCnt): \n",
    "    with open(index_file, \"r\") as fp:\n",
    "        lines = fp.readlines()\n",
    "    progressStepCnt += 1\n",
    "    print(f\"Step {progressStepCnt}: generate main content\")\n",
    "    for lineId, line in enumerate(lines):\n",
    "        if (lineId+1) % 100 == 0:\n",
    "            print(f\"{lineId+1} of {len(lines)}\")\n",
    "        cc = line.split(\",\")[0]\n",
    "        cc_prev = lines[(lineId-1)%len(lines)].split(\",\")[0]\n",
    "        cc_next = lines[(lineId+1)%len(lines)].split(\",\")[0]\n",
    "        if os.path.isfile(f'../../data/CGST/{cc}.txt'):\n",
    "            write_sermon_section(sermon_tex_filepath, cc, cc_prev, cc_next)\n",
    "    return progressStepCnt"
   ]
  },
  {
   "cell_type": "code",
   "execution_count": null,
   "id": "f2310d62",
   "metadata": {},
   "outputs": [],
   "source": [
    "def generate_afterword_and_postfix(sermon_tex_filepath):\n",
    "    _ = os.system(\"cat ../afterword.tex >> \" + sermon_tex_filepath)\n",
    "    _ = os.system(\"cat ../postfix.tex >> \" + sermon_tex_filepath)"
   ]
  },
  {
   "cell_type": "code",
   "execution_count": null,
   "id": "58b69dec",
   "metadata": {},
   "outputs": [],
   "source": [
    "def sermon_tex():\n",
    "    progressStepCnt = 0\n",
    "    sermon_tex_filepath = f\"../../build/CGST/sermon_CGST.tex\"\n",
    "    # --------------------------------------\n",
    "    # print the latex document : prefix\n",
    "    # --------------------------------------\n",
    "    progressStepCnt = print_prefix(sermon_tex_filepath, progressStepCnt)\n",
    "    # --------------------------------------\n",
    "    # --------------------------------------\n",
    "    progressStepCnt = generate_toc(sermon_tex_filepath, './index_byn.csv', progressStepCnt)\n",
    "    progressStepCnt = generate_main_content(sermon_tex_filepath, './index_byn.csv', progressStepCnt)\n",
    "    # --------------------------------------\n",
    "    # print the latex document : afterword and postfix\n",
    "    # --------------------------------------\n",
    "    generate_afterword_and_postfix(sermon_tex_filepath)\n",
    "\n",
    "    print(\"done !\")"
   ]
  },
  {
   "cell_type": "markdown",
   "id": "571552f9",
   "metadata": {},
   "source": [
    "## generate main content"
   ]
  },
  {
   "cell_type": "code",
   "execution_count": null,
   "id": "9f20a209",
   "metadata": {},
   "outputs": [],
   "source": [
    "sermon_tex()"
   ]
  },
  {
   "cell_type": "code",
   "execution_count": null,
   "id": "58257a32-cbbd-4fc2-82cf-59b4d885e537",
   "metadata": {},
   "outputs": [],
   "source": []
  },
  {
   "cell_type": "code",
   "execution_count": null,
   "id": "93a5ec78-277e-4b61-ab23-265f4bd216f3",
   "metadata": {},
   "outputs": [],
   "source": []
  }
 ],
 "metadata": {
  "kernelspec": {
   "display_name": "Python 3 (ipykernel)",
   "language": "python",
   "name": "python3"
  },
  "language_info": {
   "codemirror_mode": {
    "name": "ipython",
    "version": 3
   },
   "file_extension": ".py",
   "mimetype": "text/x-python",
   "name": "python",
   "nbconvert_exporter": "python",
   "pygments_lexer": "ipython3",
   "version": "3.10.10"
  }
 },
 "nbformat": 4,
 "nbformat_minor": 5
}
