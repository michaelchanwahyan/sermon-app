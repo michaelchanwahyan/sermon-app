{
 "cells": [
  {
   "cell_type": "code",
   "execution_count": null,
   "id": "200ead1d-8a2f-430e-ac35-7a60784543ca",
   "metadata": {},
   "outputs": [],
   "source": [
    "import sys\n",
    "import os\n",
    "import auditok\n",
    "import azure.cognitiveservices.speech as speechsdk\n",
    "# you need pip3 install azure-cognitiveservices-speech"
   ]
  },
  {
   "cell_type": "markdown",
   "id": "79a7c49c-2831-4653-974c-a3fdf63c3b02",
   "metadata": {
    "tags": []
   },
   "source": [
    "### Run By Your Host System\n",
    "ffmpeg -i ~/One*/TPPHC/SERMON/Johnson_Ng_mydownload/*-xxxxxxxxxxx.mp3 ~/SOURCE/sermon-app/projects/xxxxxxxxxxx.wav"
   ]
  },
  {
   "cell_type": "code",
   "execution_count": null,
   "id": "9c867113-337c-4324-b65e-b7dc0601547d",
   "metadata": {},
   "outputs": [],
   "source": [
    "target_code = sys.argv[1] # 'xxxxxxxxxxx'"
   ]
  },
  {
   "cell_type": "code",
   "execution_count": null,
   "id": "7db19045-6a99-42d1-a17f-4524bb2100d8",
   "metadata": {},
   "outputs": [],
   "source": [
    "print(f'\\n\\n\\nls ../data/JNG/ | grep -- {target_code}\\n\\n\\n')"
   ]
  },
  {
   "cell_type": "code",
   "execution_count": null,
   "id": "d41c61d7-d912-4658-91c7-099672fbeb4a",
   "metadata": {},
   "outputs": [],
   "source": [
    "if os.path.isfile(\"../data/JNG/\" + target_code + \".txt\"):\n",
    "    print(f\"file ../data/JNG/{target_code}.txt already exist !\")\n",
    "    print(\"exit !\")\n",
    "    exit()"
   ]
  },
  {
   "cell_type": "code",
   "execution_count": null,
   "id": "32165cec-3932-4642-9753-0319bdcc6401",
   "metadata": {},
   "outputs": [],
   "source": [
    "input_filename = f'{target_code}.wav'"
   ]
  },
  {
   "cell_type": "code",
   "execution_count": null,
   "id": "f11518e2-8358-4654-8539-f505ca608579",
   "metadata": {},
   "outputs": [],
   "source": [
    "print(input_filename)"
   ]
  },
  {
   "cell_type": "code",
   "execution_count": null,
   "id": "8d248ac0-6923-490d-9eac-bad699a1eaaa",
   "metadata": {},
   "outputs": [],
   "source": [
    "_ = os.system('mkdir -p -- '+target_code)"
   ]
  },
  {
   "cell_type": "code",
   "execution_count": null,
   "id": "435a5bee-b9a4-4adf-a878-034a8202b236",
   "metadata": {},
   "outputs": [],
   "source": [
    "# split returns a generator of AudioRegion objects\n",
    "audio_regions = auditok.split(\n",
    "    input_filename,\n",
    "    min_dur=0.5,     # minimum duration of a valid audio event in seconds\n",
    "    max_dur=30,       # maximum duration of an event\n",
    "    max_silence=0.3, # maximum duration of tolerated continuous silence within an event\n",
    "    energy_threshold=40 # threshold of detection\n",
    ")\n",
    "with open(f\"../auditok_data/JNG/auditok_log-{code}.txt\", \"w\") as fp_auditok:\n",
    "    for i, r in enumerate(audio_regions):\n",
    "\n",
    "        # Regions returned by `split` have 'start' and 'end' metadata fields\n",
    "        results_str = \"Region {i}: {r.meta.start:.3f}s -- {r.meta.end:.3f}s\".format(i=i, r=r)\n",
    "        print(results_str)\n",
    "        fp_auditok.write(results_str + \"\\n\")\n",
    "\n",
    "        # play detection\n",
    "        # r.play(progress_bar=True)\n",
    "\n",
    "        # region's metadata can also be used with the `save` method\n",
    "        # (no need to explicitly specify region's object and `format` arguments)\n",
    "        filename = r.save(target_code+'/'+input_filename[:-4]+\"_{meta.start:08.3f}-{meta.end:08.3f}.wav\")\n",
    "        print(\"region saved as: {}\".format(filename))\n",
    "fp_auditok.close()"
   ]
  },
  {
   "cell_type": "code",
   "execution_count": null,
   "id": "dd0bff63-5842-43ae-aedc-eb22e70e041c",
   "metadata": {},
   "outputs": [],
   "source": [
    "file_list = [f for f in os.listdir(target_code) if input_filename[:-4].replace('./','')+'_' in f]\n",
    "file_list.sort()"
   ]
  },
  {
   "cell_type": "code",
   "execution_count": null,
   "id": "dcffc01d-8cb3-4dfb-b4a6-4c13ded08799",
   "metadata": {},
   "outputs": [],
   "source": []
  },
  {
   "cell_type": "code",
   "execution_count": null,
   "id": "f01b76fa-9022-4e0f-bcf9-8a5546b3288b",
   "metadata": {},
   "outputs": [],
   "source": [
    "with open('azs', 'r') as fpazs:\n",
    "    azs = fpazs.read()\n",
    "fpazs.close()\n",
    "azs = azs.strip()"
   ]
  },
  {
   "cell_type": "code",
   "execution_count": null,
   "id": "d933060e-ed3e-42a6-b6d2-9f66dd267e04",
   "metadata": {},
   "outputs": [],
   "source": [
    "def from_file(inputWavFileName):\n",
    "    speech_config = speechsdk.SpeechConfig(\n",
    "            subscription=azs,\n",
    "            region=\"southeastasia\")\n",
    "    # Find keys and location/region\n",
    "    # from https://docs.microsoft.com/en-us/azure/cognitive-services/\n",
    "    #              speech-service/overview#try-the-speech-service-for-free\n",
    "    speech_config.speech_recognition_language=\"zh-HK\"\n",
    "    print(\"done set up speech_config\")\n",
    "    audio_input = speechsdk.AudioConfig(filename=inputWavFileName)\n",
    "    print(\"done set up audio_input\")\n",
    "    speech_recognizer = speechsdk.SpeechRecognizer(\n",
    "            speech_config=speech_config,\n",
    "            audio_config=audio_input)\n",
    "    print(\"done set up speech_recognizer\")\n",
    "    result = speech_recognizer.recognize_once_async().get()\n",
    "    print(\"done obtain result\")\n",
    "    print(\"generating text file ...\")\n",
    "    #ytcode = inputWavFileName.split(\".\")[0]\n",
    "    ytcode = inputWavFileName[:-4]\n",
    "    outTextFileName = ytcode + \".txt\"\n",
    "    with open(outTextFileName, \"w\", encoding='utf-8') as fp:\n",
    "        fp.write(result.text)\n",
    "    fp.close()\n",
    "    print(\"done generating text file !\")\n",
    "    print(outTextFileName)\n",
    "    print()"
   ]
  },
  {
   "cell_type": "markdown",
   "id": "692acbd3-619b-411b-be18-57ae511a1eca",
   "metadata": {},
   "source": [
    "### Run By Your Host System\n",
    "ls xxxxxxxxxxx/*.wav | wc -l"
   ]
  },
  {
   "cell_type": "code",
   "execution_count": null,
   "id": "877c745d-abaf-430a-ad57-7504a9382f91",
   "metadata": {},
   "outputs": [],
   "source": [
    "fid_start = 0\n",
    "fid_end = 3000\n",
    "for fid in range(fid_start,min(len(file_list), fid_end)):\n",
    "    print('fid = %d / %d' % (fid, len(file_list)))\n",
    "    if os.path.exists(target_code + '/' + file_list[fid]) \\\n",
    "        and not os.path.exists(target_code + '/' + file_list[fid][:-4]+'.txt'): \\\n",
    "        from_file(target_code + '/' + file_list[fid])"
   ]
  },
  {
   "cell_type": "code",
   "execution_count": null,
   "id": "5613ceb0-6204-462a-9075-437f4493758a",
   "metadata": {},
   "outputs": [],
   "source": []
  },
  {
   "cell_type": "code",
   "execution_count": null,
   "id": "7c855a26-c0f3-4e67-8cca-456b96c7517d",
   "metadata": {},
   "outputs": [],
   "source": []
  },
  {
   "cell_type": "code",
   "execution_count": null,
   "id": "f4a79043-7cdd-4cca-b4bf-5b31b7b7b25d",
   "metadata": {},
   "outputs": [],
   "source": [
    "with open(f'concat_{target_code}.py'.replace('./',''), 'w') as fp:\n",
    "    fp.write('#!/bin/python3\\n')\n",
    "    fid_start = 0\n",
    "    fid_end = 1100\n",
    "    for fid in range(fid_start,min(len(file_list), fid_end)):\n",
    "        if os.path.exists(target_code + '/' + file_list[fid]):\n",
    "            fp.write(f'fp = open(\\'{target_code}/{file_list[fid][:-3]}txt\\')\\n')\n",
    "            fp.write('line = fp.readline()\\n')\n",
    "            fp.write('fp.close()\\n')\n",
    "            fp.write('print(line)\\n')\n",
    "fp.close()"
   ]
  },
  {
   "cell_type": "code",
   "execution_count": null,
   "id": "f09df09d-617c-4d05-8ed9-a2fd647a933b",
   "metadata": {},
   "outputs": [],
   "source": [
    "print(f'\\n\\nRun By Your Host System\\n\\npython3 concat_{target_code}.py > ../data/JNG/{target_code}.txt\\n\\n'.replace('./',''))"
   ]
  },
  {
   "cell_type": "code",
   "execution_count": null,
   "id": "b47f7815-a2f6-4f88-af29-a83b7437490d",
   "metadata": {},
   "outputs": [],
   "source": []
  }
 ],
 "metadata": {
  "kernelspec": {
   "display_name": "Python 3 (ipykernel)",
   "language": "python",
   "name": "python3"
  },
  "language_info": {
   "codemirror_mode": {
    "name": "ipython",
    "version": 3
   },
   "file_extension": ".py",
   "mimetype": "text/x-python",
   "name": "python",
   "nbconvert_exporter": "python",
   "pygments_lexer": "ipython3",
   "version": "3.8.12"
  }
 },
 "nbformat": 4,
 "nbformat_minor": 5
}
