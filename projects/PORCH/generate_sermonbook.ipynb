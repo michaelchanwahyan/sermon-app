{
 "cells": [
  {
   "cell_type": "code",
   "execution_count": null,
   "id": "7a2908dc",
   "metadata": {
    "tags": []
   },
   "outputs": [],
   "source": [
    "import os.path\n",
    "import pickle as pkl\n",
    "import re\n",
    "#from re import compile as recompile\n",
    "print('done !')"
   ]
  },
  {
   "cell_type": "code",
   "execution_count": null,
   "id": "8419d9bc-2140-4e84-9c45-4a3f118a826a",
   "metadata": {
    "tags": []
   },
   "outputs": [],
   "source": [
    "with open(\"code_dictionary.pkl\", \"rb\") as fp:\n",
    "    bk2bkorder_dict, c2b_dict, c2ch_dict, c2v_dict, c2s_dict, c2t_dict, c2bvc_dict = pkl.load(fp)\n",
    "fp.close()"
   ]
  },
  {
   "cell_type": "code",
   "execution_count": null,
   "id": "f9cfd2e1-146e-4c58-9771-03d001697357",
   "metadata": {
    "tags": []
   },
   "outputs": [],
   "source": [
    "with open(\"x2code_dictionary.pkl\", \"rb\") as fp:\n",
    "    b2c_dict = pkl.load(fp)\n",
    "fp.close()"
   ]
  },
  {
   "cell_type": "markdown",
   "id": "6e469a86-5ee4-4f19-9006-22c35314835c",
   "metadata": {},
   "source": [
    "### print the latex document : sermon content"
   ]
  },
  {
   "cell_type": "code",
   "execution_count": null,
   "id": "92fbe6df-9986-43d3-8906-70753573ddaf",
   "metadata": {
    "tags": []
   },
   "outputs": [],
   "source": [
    "with open('../rep_whisper_trailing.txt', 'r') as fp:\n",
    "    whisper_trailing_rep_list = fp.readlines()\n",
    "fp.close()"
   ]
  },
  {
   "cell_type": "code",
   "execution_count": null,
   "id": "4f4e5c0b-aba3-4df5-a8f8-6ddb0c22ba5d",
   "metadata": {
    "tags": []
   },
   "outputs": [],
   "source": [
    "with open(\"./index_byt.csv\", \"r\") as fp:\n",
    "    lines = fp.readlines()\n",
    "fp.close()"
   ]
  },
  {
   "cell_type": "code",
   "execution_count": null,
   "id": "adaf5425-ceb9-4846-a5b6-a1cadeb919e9",
   "metadata": {
    "tags": []
   },
   "outputs": [],
   "source": [
    "print('sermon count:', len(lines))"
   ]
  },
  {
   "cell_type": "code",
   "execution_count": null,
   "id": "283e911c-9d70-4383-9be8-e4b3b288faab",
   "metadata": {
    "tags": []
   },
   "outputs": [],
   "source": [
    "# sermon tex generation\n",
    "progressStepCnt = 0\n",
    "# --------------------------------------\n",
    "# read the index table and only take\n",
    "# into account within desired year range\n",
    "# --------------------------------------\n",
    "progressStepCnt += 1\n",
    "print(f\"Step {progressStepCnt}: reading in full index file\")\n",
    "with open('./index_byt.csv', 'r') as fp:\n",
    "    lines = fp.readlines()\n",
    "fp.close()\n",
    "\n",
    "sermon_tex_filepath = f\"../../build/PORCH/sermon_PORCH_2014-present.tex\"\n",
    "# --------------------------------------\n",
    "# print the latex document : prefix\n",
    "# --------------------------------------\n",
    "progressStepCnt += 1\n",
    "print(f\"Step {progressStepCnt}: printing out prefixing\")\n",
    "_ = os.system(f\"cat ../prefix.tex | sed 's/粵語講道逐字稿/Sermon Transcription 2014-present/' | sed 's/Youtube Channel:/Youtube Channel: The Porch/' > \" + sermon_tex_filepath)"
   ]
  },
  {
   "cell_type": "markdown",
   "id": "fd4d5510-4eb5-4edb-a7f8-f435ac1348a2",
   "metadata": {},
   "source": [
    "## generate index table in chronic order"
   ]
  },
  {
   "cell_type": "code",
   "execution_count": null,
   "id": "8f84b294-fba0-4723-a689-34140bf16fb6",
   "metadata": {
    "tags": []
   },
   "outputs": [],
   "source": [
    "progressStepCnt += 1\n",
    "print(f\"Step {progressStepCnt}: generate index in chronic order\")\n",
    "with open(\"./index_byt.csv\", \"r\") as fp:\n",
    "    lines = fp.readlines()\n",
    "fp.close()\n",
    "# --------------------------------------\n",
    "# index table sorted by chronic order\n",
    "# --------------------------------------\n",
    "progressStepCnt += 1\n",
    "print(f\"Step {progressStepCnt}: writing TOC in chronic order\")\n",
    "with open(sermon_tex_filepath, \"a\") as fp:\n",
    "    sermonCnt = 0\n",
    "    fp.write(\"\\\\section{Index\\\\small{(chronic)}}\\n\")\n",
    "    fp.write(\"\\\\label{sec:index_chronic}\\n\")\n",
    "    fp.write(\"{ \\\\scriptsize\\n\")\n",
    "    # --------------------------------------\n",
    "    # start of TOC table\n",
    "    # --------------------------------------\n",
    "    fp.write(\"\\n\\n\\\\begin{xltabular}{\\\\textwidth}{|p{0.15\\\\textwidth} p{0.6\\\\textwidth}|p{0.07\\\\textwidth} p{0.1\\\\textwidth}|}\\n\") # lllr: bk+v/ch, theme, date, youtube-code\n",
    "    fp.write(\"\\\\hline\\n\")\n",
    "    # --------------------------------------\n",
    "    # lines is the line content in index_byt\n",
    "    # --------------------------------------\n",
    "    for lineId, line in enumerate(lines):\n",
    "        cc = line.split(\",\")[0]\n",
    "        # --------------------------------------\n",
    "        # only include this code cc if it is\n",
    "        # ready in the transcription folder\n",
    "        # --------------------------------------\n",
    "        if os.path.isfile(f'../../data/PORCH/{cc}.txt'):\n",
    "            sermonCnt += 1\n",
    "            bstr = c2b_dict.get(cc, ' ')\n",
    "            vstr = c2v_dict.get(cc, ' ')\n",
    "            sstr = c2s_dict.get(cc, ' ').replace('_','\\_').replace('&','\\&').replace('#','\\#')\n",
    "            tstr = c2t_dict.get(cc, ' ')\n",
    "            ystr = \"\\\\href{https://youtube.com/watch?v=\" + cc +\"}{\\\\texttt{\" + cc.replace('_','\\_') + \"}}\"\n",
    "            fp.write(bstr + ' ' + vstr + \" & \" \\\n",
    "                     + \"\\\\hyperref[sec:\"+cc.replace('-','_')+\"]{\"+sstr+\"}\" + \" & \" \\\n",
    "                     + tstr + \" & \" \\\n",
    "                     + ystr \\\n",
    "                     + \" \\\\\\\\\\n\")\n",
    "    fp.write(\"\\\\end{xltabular}\\n\")\n",
    "    # --------------------------------------\n",
    "    # end of table sorted by chronic order\n",
    "    # --------------------------------------\n",
    "    fp.write(\"}\\n\")\n",
    "    print('sermon count in current book: %d' % sermonCnt)\n",
    "    fp.write(\"\\\\newpage\\n\\n\")\n",
    "fp.close()"
   ]
  },
  {
   "cell_type": "markdown",
   "id": "93ccaaaa-e0b3-4830-8acc-91cb75237a5a",
   "metadata": {},
   "source": [
    "## generate main content"
   ]
  },
  {
   "cell_type": "code",
   "execution_count": null,
   "id": "5c46114d-d97b-431b-a51f-c1af78d3bab4",
   "metadata": {
    "tags": []
   },
   "outputs": [],
   "source": [
    "with open(\"./index_byt.csv\", \"r\") as fp:\n",
    "    lines = fp.readlines()\n",
    "fp.close()\n",
    "progressStepCnt += 1\n",
    "print(f\"Step {progressStepCnt}: generate main content\")\n",
    "cc_prev = ''\n",
    "cc_next = ''\n",
    "# --------------------------------------\n",
    "# lines is the line content in index_byt\n",
    "# --------------------------------------\n",
    "for lineId, line in enumerate(lines):\n",
    "    if (lineId+1) % 100 == 0:\n",
    "        print(f\"{lineId+1} of {len(lines)}\")\n",
    "    cc = line.split(\",\")[0]\n",
    "    cc_prev = lines[(lineId-1)%len(lines)].split(\",\")[0]\n",
    "    cc_next = lines[(lineId+1)%len(lines)].split(\",\")[0]\n",
    "    if os.path.isfile(f'../../data/PORCH/{cc}.txt'):\n",
    "        with open(sermon_tex_filepath, \"a\") as fp:\n",
    "            #fp.write(\"\\n\\n\\\\section{\"+c2s_dict.get(cc).replace('_','\\\\_')+\"}\\n\")\n",
    "            sectionNameStr = ''\n",
    "            b = c2b_dict.get(cc)\n",
    "            sectionNameStr += b if b is not None else ''\n",
    "            v = c2v_dict.get(cc)\n",
    "            sectionNameStr += ' ' + v if b is not None and v is not None else ''\n",
    "            ch = c2ch_dict.get(cc)\n",
    "            sectionNameStr += ' ' + ch if b is not None and ch is not None and v is None else ''\n",
    "            fp.write(\"\\n\\n\\\\section{\"+sectionNameStr+\"}\\n\")\n",
    "            fp.write(\"\\\\label{sec:\"+cc.replace('-','_')+\"}\\n\")\n",
    "            sstr = c2s_dict.get(cc, ' ').replace('_','\\_').replace('&','\\&').replace('#','\\#')\n",
    "            fp.write(\"\\\\textbf{\"+sstr+\"}\\n\")\n",
    "            fp.write(\"\\\\newline\\n\\\\newline\\n\")\n",
    "            fp.write(\"link: \\\\href{https://youtube.com/watch?v=\" + cc +\"}{\\\\texttt{https://youtube.com/watch?v=\" + cc.replace('_','\\_') + \"}} ~~~~ recording date: \" + c2t_dict.get(cc) + \" \\n\")\n",
    "            fp.write(\"\\\\newline\\n\\\\newline\\n\")\n",
    "            fp.write(\"\\\\hyperref[sec:\"+cc_prev.replace('-','_')+\"]{\\\\small{< < < PREV SERMON < < <}}\\n\")\n",
    "            fp.write(\"~\\n\")\n",
    "            fp.write(\"\\\\hyperref[sec:index_chronic]{\\\\small{[back to index]}}\\n\")\n",
    "            fp.write(\"~\\n\")\n",
    "            fp.write(\"\\\\hyperref[sec:\"+cc_next.replace('-','_')+\"]{\\\\small{> > > NEXT SERMON > > >}}\\n\")\n",
    "            fp.write(\"\\\\newline\\n\\\\newline\\n\")\n",
    "        fp.close()\n",
    "        with open(sermon_tex_filepath, \"a\") as fp:\n",
    "            # ----------------------\n",
    "            # add the scripture part if not None\n",
    "            bvc_curr = c2bvc_dict.get(cc)\n",
    "            if bvc_curr is not None:\n",
    "                bvc_curr = bvc_curr.split(\"\\n\")\n",
    "                # first row shall be book + verse info\n",
    "                bvc_line = bvc_curr[0].strip() + \"\\n\"\n",
    "                fp.write(bvc_line)\n",
    "                fp.write(\"\\\\newline\\n\")\n",
    "                fp.write(\"\\\\begin{longtable}{cl}\\n\")\n",
    "                fp.write(\"\\\\hline\\n\\\\hline\\n\")\n",
    "                fp.write(\"verse & scripture (version)\\\\\\\\\\n\")\n",
    "                fp.write(\"\\\\hline\\n\")\n",
    "                for bvc_line in bvc_curr[1:]:\n",
    "                    bvc_line = bvc_line.strip()\n",
    "                    if len(bvc_line) > 0:\n",
    "                        if bvc_line != [ _.strip() for _ in bvc_curr if len(_.strip()) ][-1]:\n",
    "                            bvc_line += \" \\\\\\\\ \\\\\\\\ \\\\relax\\n\"\n",
    "                        else:\n",
    "                            bvc_line += \" \\\\\\\\ \\\\\\\\\\n\"\n",
    "                        si = bvc_line.find(\" \")\n",
    "                        if si == -1:\n",
    "                            bvc_line = \"& \" + \"\\\\begin{tabularx}{0.7\\\\textwidth}{X} \" + bvc_line + \" \\\\end{tabularx}\"\n",
    "                        else:\n",
    "                            bvc_line = bvc_line[:si].replace(\".\",\":\") +  \" & \" + \"\\\\begin{tabularx}{0.7\\\\textwidth}{X} \" + bvc_line[si+1:]\n",
    "                            nli = bvc_line.find(\" \\\\\\\\\") # newline char index\n",
    "                            bvc_line = bvc_line[:nli] + \" \\\\end{tabularx}\" + bvc_line[nli:]\n",
    "                        fp.write(bvc_line)\n",
    "                fp.write(\"[1ex]\\n\")\n",
    "                fp.write(\"\\\\hline\\n\\\\hline\\n\")\n",
    "                fp.write(\"\\\\end{longtable}\\n\")\n",
    "            # ----------------------\n",
    "            # add the sermon part\n",
    "            with open(\"../../data/PORCH/\"+cc+\".txt\", \"r\") as fp_:\n",
    "                the_sermon_text = fp_.read()\n",
    "            fp_.close()\n",
    "            the_sermon_text = the_sermon_text.replace(\"\\\\n\\\\n\",\"\\\\n\")\n",
    "            textlines = the_sermon_text.split(\"\\n\")\n",
    "            _textrow_cnt = 0\n",
    "            textline_prev = ''\n",
    "            for textline in textlines:\n",
    "                # ----------------------------------------------------------------------\n",
    "                # check if whisper_trailing_rep_list any 2 match\n",
    "                iterator = iter(whisper_trailing_rep_list)\n",
    "                matchCnt = 0\n",
    "                # Use the next function to retrieve the elements of the iterator\n",
    "                try:\n",
    "                    while True:\n",
    "                        ele = next(iterator)\n",
    "                        if ele in textline:\n",
    "                            matchCnt += 1\n",
    "                except StopIteration:\n",
    "                    pass\n",
    "                whisper_trailing_pattern_match = matchCnt >= 2\n",
    "                # END OF check if whisper_trailing_rep_list any 2 match\n",
    "                # ----------------------------------------------------------------------\n",
    "                if textline == textline_prev:\n",
    "                    textline_prev = textline\n",
    "                    continue\n",
    "                elif re.sub(r'[()]', '', textline.strip()) in whisper_trailing_rep_list:\n",
    "                    continue\n",
    "                elif whisper_trailing_pattern_match:\n",
    "                    continue\n",
    "                else:\n",
    "                    textline_prev = textline\n",
    "                _textrow_cnt += 1\n",
    "                if _textrow_cnt % 40 == 1:\n",
    "                    fp.write(\"$^{%d}$\" % _textrow_cnt)\n",
    "                # if the text line contains dollar sign '$',\n",
    "                # it would probably bring up error\n",
    "                textline = textline.replace('_','\\_').replace('&','\\&').replace('#','\\#').replace('$', '\\$')\n",
    "                fp.write(textline + \"\\n\")\n",
    "                if _textrow_cnt % 40 == 0:\n",
    "                    fp.write(\"\\n\")\n",
    "            fp.write(\"\\\\newpage\\n\\n\")\n",
    "        fp.close()\n",
    "\n",
    "progressStepCnt += 1\n",
    "print(f\"Step {progressStepCnt}: generate afterward and postfix\")\n",
    "# --------------------------------------\n",
    "# print the latex document : afterword\n",
    "# --------------------------------------\n",
    "_ = os.system(\"cat ../afterword.tex >> \" + sermon_tex_filepath)\n",
    "# --------------------------------------\n",
    "# print the latex document : postfix\n",
    "# --------------------------------------\n",
    "_ = os.system(\"cat ../postfix.tex >> \" + sermon_tex_filepath)\n",
    "print(\"done !\")"
   ]
  },
  {
   "cell_type": "code",
   "execution_count": null,
   "id": "58257a32-cbbd-4fc2-82cf-59b4d885e537",
   "metadata": {},
   "outputs": [],
   "source": []
  },
  {
   "cell_type": "code",
   "execution_count": null,
   "id": "6bedb818-1df2-4beb-b43d-aca49e01b603",
   "metadata": {},
   "outputs": [],
   "source": []
  }
 ],
 "metadata": {
  "kernelspec": {
   "display_name": "Python 3 (ipykernel)",
   "language": "python",
   "name": "python3"
  },
  "language_info": {
   "codemirror_mode": {
    "name": "ipython",
    "version": 3
   },
   "file_extension": ".py",
   "mimetype": "text/x-python",
   "name": "python",
   "nbconvert_exporter": "python",
   "pygments_lexer": "ipython3",
   "version": "3.10.10"
  }
 },
 "nbformat": 4,
 "nbformat_minor": 5
}
