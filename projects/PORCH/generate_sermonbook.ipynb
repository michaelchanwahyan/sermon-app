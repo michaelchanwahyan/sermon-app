{
 "cells": [
  {
   "cell_type": "code",
   "execution_count": null,
   "id": "7a2908dc",
   "metadata": {
    "tags": []
   },
   "outputs": [],
   "source": [
    "import os.path\n",
    "import pickle as pkl\n",
    "import re\n",
    "#from re import compile as recompile\n",
    "print('done !')"
   ]
  },
  {
   "cell_type": "code",
   "execution_count": null,
   "id": "8419d9bc-2140-4e84-9c45-4a3f118a826a",
   "metadata": {
    "tags": []
   },
   "outputs": [],
   "source": [
    "with open(\"code_dictionary.pkl\", \"rb\") as fp:\n",
    "    bk2bkorder_dict, c2b_dict, c2ch_dict, c2v_dict, c2s_dict, c2t_dict, c2bvc_dict = pkl.load(fp)\n",
    "fp.close()"
   ]
  },
  {
   "cell_type": "code",
   "execution_count": null,
   "id": "f9cfd2e1-146e-4c58-9771-03d001697357",
   "metadata": {
    "tags": []
   },
   "outputs": [],
   "source": [
    "with open(\"x2code_dictionary.pkl\", \"rb\") as fp:\n",
    "    b2c_dict = pkl.load(fp)\n",
    "fp.close()"
   ]
  },
  {
   "cell_type": "markdown",
   "id": "6e469a86-5ee4-4f19-9006-22c35314835c",
   "metadata": {},
   "source": [
    "### print the latex document : sermon content"
   ]
  },
  {
   "cell_type": "code",
   "execution_count": null,
   "id": "92fbe6df-9986-43d3-8906-70753573ddaf",
   "metadata": {
    "tags": []
   },
   "outputs": [],
   "source": [
    "with open('../rep_whisper_trailing.txt', 'r') as fp:\n",
    "    whisper_trailing_rep_list = fp.readlines()\n",
    "fp.close()"
   ]
  },
  {
   "cell_type": "code",
   "execution_count": null,
   "id": "4f4e5c0b-aba3-4df5-a8f8-6ddb0c22ba5d",
   "metadata": {
    "tags": []
   },
   "outputs": [],
   "source": [
    "with open(\"./index_byt.csv\", \"r\") as fp:\n",
    "    lines = fp.readlines()\n",
    "fp.close()"
   ]
  },
  {
   "cell_type": "code",
   "execution_count": null,
   "id": "adaf5425-ceb9-4846-a5b6-a1cadeb919e9",
   "metadata": {
    "tags": []
   },
   "outputs": [],
   "source": [
    "print('sermon count:', len(lines))"
   ]
  },
  {
   "cell_type": "code",
   "execution_count": null,
   "id": "21ffe5e8",
   "metadata": {},
   "outputs": [],
   "source": [
    "def print_prefix(sermon_tex_filepath, progressStepCnt):\n",
    "    progressStepCnt += 1\n",
    "    print(f\"Step {progressStepCnt}: printing out prefixing\")\n",
    "    _ = os.system(f\"cat ../prefix.tex | sed 's/粵語講道逐字稿/Sermon Transcription 2014-present/' | sed 's/Youtube Channel:/Youtube Channel: The Porch/' > \" + sermon_tex_filepath)\n",
    "    return progressStepCnt"
   ]
  },
  {
   "cell_type": "code",
   "execution_count": null,
   "id": "af50d192",
   "metadata": {},
   "outputs": [],
   "source": [
    "def generate_toc(sermon_tex_filepath, index_file, toc_type, progressStepCnt):\n",
    "    progressStepCnt += 1\n",
    "    print(f\"Step {progressStepCnt}: reading in full index file\")\n",
    "    with open(index_file, 'r') as fp:\n",
    "        lines = fp.readlines()\n",
    "\n",
    "    progressStepCnt += 1\n",
    "    print(f\"Step {progressStepCnt}: writing TOC in {toc_type} order\")\n",
    "    with open(sermon_tex_filepath, \"a\") as fp:\n",
    "        fp.write(f\"\\\\section{{Index\\\\small{{({toc_type})}}}}\\n\")\n",
    "        fp.write(f\"\\\\label{{sec:index_{toc_type}}}\\n\")\n",
    "        fp.write(\"{ \\\\scriptsize\\n\")\n",
    "        # --------------------------------------\n",
    "        # start of TOC table\n",
    "        # --------------------------------------\n",
    "        fp.write(\"\\n\\n\\\\begin{xltabular}{\\\\textwidth}{|p{0.15\\\\textwidth} p{0.6\\\\textwidth}|p{0.07\\\\textwidth} p{0.1\\\\textwidth}|}\\n\") # lllr: bk+v/ch, theme, date, youtube-code\n",
    "        fp.write(\"\\\\hline\\n\")\n",
    "        # --------------------------------------\n",
    "        # lines is the line content in index_{toc_type}\n",
    "        # --------------------------------------\n",
    "        for lineId, line in enumerate(lines):\n",
    "            cc = line.split(\",\")[0]\n",
    "            # --------------------------------------\n",
    "            # only include this code cc if it is\n",
    "            # ready in the transcription folder\n",
    "            # --------------------------------------\n",
    "            if os.path.isfile(f'../../data/PORCH/{cc}.txt'):\n",
    "                bstr = c2b_dict.get(cc, ' ')\n",
    "                vstr = c2v_dict.get(cc, ' ')\n",
    "                sstr = c2s_dict.get(cc, ' ').replace('_', '\\\\_').replace('&', '\\\\&').replace('#', '\\\\#')\n",
    "                tstr = c2t_dict.get(cc, ' ')\n",
    "                ystr = \"\\\\href{https://youtube.com/watch?v=\" + cc +\"}{\\\\texttt{\" + cc.replace('_', '\\\\_') + \"}}\"\n",
    "                fp.write(bstr + ' ' + vstr + \" & \" \\\n",
    "                        + \"\\\\hyperref[sec:\"+cc.replace('-', '_')+\"]{\"+sstr+\"}\" + \" & \" \\\n",
    "                        + tstr + \" & \" \\\n",
    "                        + ystr \\\n",
    "                        + \" \\\\\\\\\\n\")\n",
    "        fp.write(\"\\\\end{xltabular}\\n\")\n",
    "        fp.write(\"}\\n\")\n",
    "        fp.write(\"\\\\newpage\\n\\n\")\n",
    "        # --------------------------------------\n",
    "        # end of table sorted by toc_type order\n",
    "        # --------------------------------------\n",
    "    return progressStepCnt"
   ]
  },
  {
   "cell_type": "code",
   "execution_count": null,
   "id": "ae4b00c4",
   "metadata": {},
   "outputs": [],
   "source": [
    "def write_scripture_part(fp, cc):\n",
    "    return"
   ]
  },
  {
   "cell_type": "code",
   "execution_count": null,
   "id": "874c3085",
   "metadata": {},
   "outputs": [],
   "source": [
    "def write_sermon_text(fp, cc):\n",
    "    with open(\"../../data/PORCH/\"+cc+\".txt\", \"r\") as fp_:\n",
    "        the_sermon_text = fp_.read()\n",
    "    the_sermon_text = the_sermon_text.replace(\"\\\\n\\\\n\", \"\\\\n\")\n",
    "    textlines = the_sermon_text.split(\"\\n\")\n",
    "    _textrow_cnt = 0\n",
    "    textline_prev = ''\n",
    "    for textline in textlines:\n",
    "        # ----------------------------------------------------------------------\n",
    "        # check if whisper_trailing_rep_list any 2 match\n",
    "        iterator = iter(whisper_trailing_rep_list)\n",
    "        matchCnt = 0\n",
    "        # Use the next function to retrieve the elements of the iterator\n",
    "        try:\n",
    "            while True:\n",
    "                ele = next(iterator)\n",
    "                if ele in textline:\n",
    "                    matchCnt += 1\n",
    "        except StopIteration:\n",
    "            pass\n",
    "        whisper_trailing_pattern_match = matchCnt >= 2\n",
    "        # END OF check if whisper_trailing_rep_list any 2 match\n",
    "        # ----------------------------------------------------------------------\n",
    "        if textline == textline_prev:\n",
    "            textline_prev = textline\n",
    "            continue\n",
    "        elif re.sub(r'[()]', '', textline.strip()) in whisper_trailing_rep_list:\n",
    "            continue\n",
    "        elif whisper_trailing_pattern_match:\n",
    "            continue\n",
    "        else:\n",
    "            textline_prev = textline\n",
    "        _textrow_cnt += 1\n",
    "        if _textrow_cnt % 40 == 1:\n",
    "            fp.write(\"$^{%d}$\" % _textrow_cnt)\n",
    "        # if the text line contains dollar sign '$',\n",
    "        # it would probably bring up error\n",
    "        textline = textline.replace('_', '\\\\_').replace('&', '\\\\&').replace('#','\\\\#').replace('$', '\\\\$')\n",
    "        fp.write(textline + \"\\n\")\n",
    "        if _textrow_cnt % 40 == 0:\n",
    "            fp.write(\"\\n\")\n",
    "    fp.write(\"\\\\newpage\\n\\n\")"
   ]
  },
  {
   "cell_type": "code",
   "execution_count": null,
   "id": "791ece01",
   "metadata": {},
   "outputs": [],
   "source": [
    "def write_sermon_section(sermon_tex_filepath, cc, cc_prev, cc_next):\n",
    "    with open(sermon_tex_filepath, \"a\") as fp:\n",
    "        sectionNameStr = f\"{c2b_dict.get(cc, '')}\".strip()\n",
    "        fp.write(f\"\\n\\n\\\\section{{{sectionNameStr}}}\\n\")\n",
    "        fp.write(f\"\\\\label{{sec:{cc.replace('-', '_')}}}\\n\")\n",
    "        sstr = c2s_dict.get(cc, ' ').replace('_', '\\\\_').replace('&', '\\\\&').replace('#', '\\\\#')\n",
    "        fp.write(\"\\\\textbf{\"+sstr+\"}\\n\")\n",
    "        fp.write(\"\\\\newline\\n\\\\newline\\n\")\n",
    "        fp.write(\"link: \\\\href{https://youtube.com/watch?v=\" + cc +\"}{\\\\texttt{https://youtube.com/watch?v=\" + cc.replace('_', '\\\\_') + \"}} ~~~~ recording date: \" + c2t_dict.get(cc) + \"\\n\")\n",
    "        fp.write(\"\\\\newline\\n\\\\newline\\n\")\n",
    "        fp.write(\"\\\\hyperref[sec:\"+cc_prev.replace('-', '_')+\"]{\\\\small{< < < PREV SERMON < < <}}\\n\")\n",
    "        fp.write(\"~\\n\")\n",
    "        fp.write(\"\\\\hyperref[sec:index_chronic]{\\\\small{[back to index]}}\\n\")\n",
    "        fp.write(\"~\\n\")\n",
    "        fp.write(\"\\\\hyperref[sec:\"+cc_next.replace('-', '_')+\"]{\\\\small{> > > NEXT SERMON > > >}}\\n\")\n",
    "        fp.write(\"\\\\newline\\n\\\\newline\\n\")\n",
    "        write_scripture_part(fp, cc)\n",
    "        write_sermon_text(fp, cc)\n",
    "        fp.write(\"\\\\newpage\\n\\n\")"
   ]
  },
  {
   "cell_type": "code",
   "execution_count": null,
   "id": "bff463c4",
   "metadata": {},
   "outputs": [],
   "source": [
    "def generate_main_content(sermon_tex_filepath, index_file, progressStepCnt):\n",
    "    with open(index_file, \"r\") as fp:\n",
    "        lines = fp.readlines()\n",
    "    progressStepCnt += 1\n",
    "    print(f\"Step {progressStepCnt}: generate main content\")\n",
    "    for lineId, line in enumerate(lines):\n",
    "        if (lineId+1) % 100 == 0:\n",
    "            print(f\"{lineId+1} of {len(lines)}\")\n",
    "        cc = line.split(\",\")[0]\n",
    "        cc_prev = lines[(lineId-1)%len(lines)].split(\",\")[0]\n",
    "        cc_next = lines[(lineId+1)%len(lines)].split(\",\")[0]\n",
    "        if os.path.isfile(f'../../data/PORCH/{cc}.txt'):\n",
    "            write_sermon_section(sermon_tex_filepath, cc, cc_prev, cc_next)\n",
    "    return progressStepCnt"
   ]
  },
  {
   "cell_type": "code",
   "execution_count": null,
   "id": "8774e9bf",
   "metadata": {},
   "outputs": [],
   "source": [
    "def generate_afterword_and_postfix(sermon_tex_filepath):\n",
    "    _ = os.system(\"cat ../afterword.tex >> \" + sermon_tex_filepath)\n",
    "    _ = os.system(\"cat ../postfix.tex >> \" + sermon_tex_filepath)"
   ]
  },
  {
   "cell_type": "code",
   "execution_count": null,
   "id": "73643164",
   "metadata": {},
   "outputs": [],
   "source": [
    "def sermon_tex():\n",
    "    progressStepCnt = 0\n",
    "    sermon_tex_filepath = f\"../../build/PORCH/sermon_PORCH_2014-present.tex\"\n",
    "    # --------------------------------------\n",
    "    # print the latex document : prefix\n",
    "    # --------------------------------------\n",
    "    progressStepCnt = print_prefix(sermon_tex_filepath, progressStepCnt)\n",
    "    # --------------------------------------\n",
    "    # --------------------------------------\n",
    "    progressStepCnt = generate_toc(sermon_tex_filepath, './index_byt.csv', 'chronic', progressStepCnt)\n",
    "    progressStepCnt = generate_main_content(sermon_tex_filepath, './index_byt.csv', progressStepCnt)\n",
    "    # --------------------------------------\n",
    "    # print the latex document : afterword and postfix\n",
    "    # --------------------------------------\n",
    "    generate_afterword_and_postfix(sermon_tex_filepath)\n",
    "\n",
    "    print(\"done !\")"
   ]
  },
  {
   "cell_type": "code",
   "execution_count": null,
   "id": "8f84b294-fba0-4723-a689-34140bf16fb6",
   "metadata": {
    "tags": []
   },
   "outputs": [],
   "source": []
  },
  {
   "cell_type": "markdown",
   "id": "93ccaaaa-e0b3-4830-8acc-91cb75237a5a",
   "metadata": {},
   "source": [
    "## generate main content"
   ]
  },
  {
   "cell_type": "code",
   "execution_count": null,
   "id": "5c46114d-d97b-431b-a51f-c1af78d3bab4",
   "metadata": {
    "tags": []
   },
   "outputs": [],
   "source": [
    "sermon_tex()"
   ]
  },
  {
   "cell_type": "code",
   "execution_count": null,
   "id": "58257a32-cbbd-4fc2-82cf-59b4d885e537",
   "metadata": {},
   "outputs": [],
   "source": []
  },
  {
   "cell_type": "code",
   "execution_count": null,
   "id": "6bedb818-1df2-4beb-b43d-aca49e01b603",
   "metadata": {},
   "outputs": [],
   "source": []
  }
 ],
 "metadata": {
  "kernelspec": {
   "display_name": "Python 3 (ipykernel)",
   "language": "python",
   "name": "python3"
  },
  "language_info": {
   "codemirror_mode": {
    "name": "ipython",
    "version": 3
   },
   "file_extension": ".py",
   "mimetype": "text/x-python",
   "name": "python",
   "nbconvert_exporter": "python",
   "pygments_lexer": "ipython3",
   "version": "3.10.10"
  }
 },
 "nbformat": 4,
 "nbformat_minor": 5
}
