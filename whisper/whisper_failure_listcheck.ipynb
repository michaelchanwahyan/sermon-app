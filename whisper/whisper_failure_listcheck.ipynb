{
 "cells": [
  {
   "cell_type": "code",
   "execution_count": null,
   "id": "60c0f949-6066-454a-af67-7da52967900d",
   "metadata": {
    "tags": []
   },
   "outputs": [],
   "source": [
    "from datetime import datetime, timedelta\n",
    "import time\n",
    "import json\n",
    "import os\n",
    "import os.path\n",
    "import logging\n",
    "import argparse\n",
    "import matplotlib.pyplot as plt\n",
    "import numpy as np\n",
    "from matplotlib.backends.backend_pdf import PdfPages\n",
    "import pandas as pd\n",
    "\n",
    "import itertools\n",
    "import collections\n",
    "\n",
    "import pickle as pkl\n",
    "\n",
    "import re\n",
    "from re import compile as recompile\n",
    "\n",
    "# PySpark and create Spark context\n",
    "if not 'sc' in locals():\n",
    "    import pyspark\n",
    "    sc = pyspark.SparkContext()\n",
    "\n",
    "print('done !')"
   ]
  },
  {
   "cell_type": "code",
   "execution_count": null,
   "id": "c144b626-e971-43d1-ac39-0bea26eed763",
   "metadata": {
    "tags": []
   },
   "outputs": [],
   "source": [
    "from operator import add"
   ]
  },
  {
   "cell_type": "code",
   "execution_count": null,
   "id": "d7f6011e-4662-434b-8b47-65b28d20d9fd",
   "metadata": {
    "tags": []
   },
   "outputs": [],
   "source": [
    "def readfile(infname):\n",
    "    try:\n",
    "        with open(infname, 'r', encoding='utf-8') as fp:\n",
    "            lines = fp.readlines()\n",
    "        fp.close()\n",
    "    except:\n",
    "        lines = ['']\n",
    "    lines = lines[2::4]\n",
    "    lines = [ line.strip() for line in lines ]\n",
    "    lines = [ line for line in lines if len(line) ]\n",
    "    return lines"
   ]
  },
  {
   "cell_type": "code",
   "execution_count": null,
   "id": "70a5f672-8d61-460e-bcf2-7588d6e5328b",
   "metadata": {
    "tags": []
   },
   "outputs": [],
   "source": [
    "def whisper_failure_check(insrtdir):\n",
    "    file_list = os.listdir(insrtdir)\n",
    "    # get file list\n",
    "    pathfname_list = []\n",
    "    for fname in file_list:\n",
    "        #if not fname[-4:] == '.whisper.log':\n",
    "        if not fname[-4:] == '.srt':\n",
    "            continue\n",
    "        else:\n",
    "            pathfname = insrtdir + fname\n",
    "            pathfname_list.append(pathfname)\n",
    "    # prepare RDD\n",
    "    rdd = sc.parallelize(pathfname_list)\n",
    "    # read in the files\n",
    "    rdd1 = rdd.map(lambda w: (w, readfile(w)))\n",
    "    rdd2 = rdd1.map(lambda w: (w[0], [ _.strip() for _ in w[1]]))\n",
    "    # use pathfilename and its lineCnt as the key of each phrase transcription\n",
    "    rdd3 = rdd2.map(lambda w: [ ((w[0], len(w[1])), _) for _ in w[1] ])\n",
    "    # parallelize them\n",
    "    rdd4 = rdd3.flatMap(lambda w: w)\n",
    "    # give an entity '1' as their value, and meanwhile use ('pathfilename', 'phrase transcription') as key\n",
    "    rdd5 = rdd4.map(lambda w: (w, 1))\n",
    "    # map reduce by key\n",
    "    rdd6 = rdd5.reduceByKey(add) \\\n",
    "        .filter(lambda w: w[1] > 1)\n",
    "    # RDD6 as side debug info \n",
    "    RDD6 = rdd6.collect()\n",
    "    RDD6_sorted = sorted(RDD6, key=lambda w: w[1])\n",
    "    # # show case the first 800 repeated phrases\n",
    "    # RDD6_sorted[-800:]\n",
    "    # # plot out statistics\n",
    "    # R = np.array([ _[1] for _ in RDD6_sorted ])\n",
    "    # _ = plt.plot(np.log10(R))\n",
    "    # _ = plt.plot(R[-150:])\n",
    "    # final results\n",
    "    # for _ in RDD6_sorted[:10]:\n",
    "    #     print(_)\n",
    "    rdd7 = rdd6.filter(lambda w: float(w[1])/float(w[0][0][1]) > 0.05 or w[1] > 20) \\\n",
    "        .filter(lambda w: len(w[0][1])) \\\n",
    "        .map(lambda w: (w[0][0], w[0][1], w[1]))\n",
    "    RDD7 = rdd7.collect()\n",
    "    RDD7u = sorted(list(set(RDD7)))\n",
    "    # for _ in RDD7u[:100]:\n",
    "    #     print(_)\n",
    "    return RDD7u"
   ]
  },
  {
   "cell_type": "code",
   "execution_count": null,
   "id": "70db65d5-2297-40fb-acab-34a8729ef82e",
   "metadata": {
    "tags": []
   },
   "outputs": [],
   "source": [
    "for PROJ_NAME in ['./ACSMHK/', './CBI/', './CGST/', './JNG/', './WWBS/', './YFCX/']:\n",
    "    for fn in whisper_failure_check(PROJ_NAME):\n",
    "        print(fn)\n",
    "_ = os.system('wc -l */*.srt | sort -r')"
   ]
  },
  {
   "cell_type": "code",
   "execution_count": null,
   "id": "a0d074ef-f334-4593-ab01-f49add87fda7",
   "metadata": {},
   "outputs": [],
   "source": []
  },
  {
   "cell_type": "code",
   "execution_count": null,
   "id": "4c2c5b31-0da8-4439-8bf7-03ede29248c9",
   "metadata": {},
   "outputs": [],
   "source": []
  }
 ],
 "metadata": {
  "kernelspec": {
   "display_name": "Python 3 (ipykernel)",
   "language": "python",
   "name": "python3"
  },
  "language_info": {
   "codemirror_mode": {
    "name": "ipython",
    "version": 3
   },
   "file_extension": ".py",
   "mimetype": "text/x-python",
   "name": "python",
   "nbconvert_exporter": "python",
   "pygments_lexer": "ipython3",
   "version": "3.10.10"
  }
 },
 "nbformat": 4,
 "nbformat_minor": 5
}
