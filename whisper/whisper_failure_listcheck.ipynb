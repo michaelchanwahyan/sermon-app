{
 "cells": [
  {
   "cell_type": "code",
   "execution_count": null,
   "id": "60c0f949-6066-454a-af67-7da52967900d",
   "metadata": {
    "tags": []
   },
   "outputs": [],
   "source": [
    "from datetime import datetime, timedelta\n",
    "import time\n",
    "import json\n",
    "import os\n",
    "import os.path\n",
    "import logging\n",
    "import argparse\n",
    "import matplotlib.pyplot as plt\n",
    "import numpy as np\n",
    "from matplotlib.backends.backend_pdf import PdfPages\n",
    "import pandas as pd\n",
    "\n",
    "import itertools\n",
    "import collections\n",
    "\n",
    "import pickle as pkl\n",
    "\n",
    "import re\n",
    "from re import compile as recompile\n",
    "\n",
    "# PySpark and create Spark context\n",
    "if not 'sc' in locals():\n",
    "    import pyspark\n",
    "    sc = pyspark.SparkContext()\n",
    "\n",
    "print('done !')"
   ]
  },
  {
   "cell_type": "code",
   "execution_count": null,
   "id": "c144b626-e971-43d1-ac39-0bea26eed763",
   "metadata": {
    "tags": []
   },
   "outputs": [],
   "source": [
    "from operator import add"
   ]
  },
  {
   "cell_type": "code",
   "execution_count": null,
   "id": "d7f6011e-4662-434b-8b47-65b28d20d9fd",
   "metadata": {
    "tags": []
   },
   "outputs": [],
   "source": [
    "def readfile(infname):\n",
    "    try:\n",
    "        with open(infname, 'r', encoding='utf-8') as fp:\n",
    "            lines = fp.readlines()\n",
    "        fp.close()\n",
    "    except:\n",
    "        lines = ['']\n",
    "    lines = lines[2::4]\n",
    "    lines = [ line.strip() for line in lines ]\n",
    "    lines = [ line for line in lines if len(line) ]\n",
    "    return lines"
   ]
  },
  {
   "cell_type": "code",
   "execution_count": null,
   "id": "70a5f672-8d61-460e-bcf2-7588d6e5328b",
   "metadata": {
    "tags": []
   },
   "outputs": [],
   "source": [
    "def whisper_failure_check_1(insrtdir):\n",
    "    file_list = os.listdir(insrtdir)\n",
    "    # get file list\n",
    "    pathfname_list = []\n",
    "    for fname in file_list:\n",
    "        #if not fname[-4:] == '.whisper.log':\n",
    "        if not fname[-4:] == '.srt':\n",
    "            continue\n",
    "        else:\n",
    "            pathfname = insrtdir + fname\n",
    "            pathfname_list.append(pathfname)\n",
    "    # prepare RDD\n",
    "    rdd = sc.parallelize(pathfname_list)\n",
    "    # read in the files\n",
    "    rdd1 = rdd.map(lambda w: (w, readfile(w)))\n",
    "    rdd2 = rdd1.map(lambda w: (w[0], [ _.strip() for _ in w[1]]))\n",
    "    # use pathfilename and its lineCnt as the key of each phrase transcription\n",
    "    rdd3 = rdd2.map(lambda w: [ ((w[0], len(w[1])), _) for _ in w[1] ])\n",
    "    # parallelize them\n",
    "    rdd4 = rdd3.flatMap(lambda w: w)\n",
    "    # give an entity '1' as their value, and meanwhile use ('pathfilename', 'phrase transcription') as key\n",
    "    rdd5 = rdd4.map(lambda w: (w, 1))\n",
    "    # map reduce by key\n",
    "    rdd6 = rdd5.reduceByKey(add) \\\n",
    "        .filter(lambda w: w[1] > 1)\n",
    "    # RDD6 as side debug info \n",
    "    RDD6 = rdd6.collect()\n",
    "    RDD6_sorted = sorted(RDD6, key=lambda w: w[1])\n",
    "    # # show case the first 800 repeated phrases\n",
    "    # RDD6_sorted[-800:]\n",
    "    # # plot out statistics\n",
    "    # R = np.array([ _[1] for _ in RDD6_sorted ])\n",
    "    # _ = plt.plot(np.log10(R))\n",
    "    # _ = plt.plot(R[-150:])\n",
    "    # final results\n",
    "    # for _ in RDD6_sorted[:10]:\n",
    "    #     print(_)\n",
    "    rdd7 = rdd6.filter(lambda w: float(w[1])/float(w[0][0][1]) > 0.05 or w[1] > 20) \\\n",
    "        .filter(lambda w: len(w[0][1])) \\\n",
    "        .map(lambda w: (w[0][0], w[0][1], w[1]))\n",
    "    RDD7 = rdd7.collect()\n",
    "    RDD7u = sorted(list(set(RDD7)))\n",
    "    # for _ in RDD7u[:100]:\n",
    "    #     print(_)\n",
    "    return RDD7u"
   ]
  },
  {
   "cell_type": "code",
   "execution_count": null,
   "id": "138692b9-3754-4b5b-9582-065488b9c720",
   "metadata": {
    "tags": []
   },
   "outputs": [],
   "source": [
    "for PROJ_NAME in ['./ACSMHK/', './CBI/', './CGST/', './FVC/', './JNG/', './WWBS/', './YFCX/']:\n",
    "    for fn in whisper_failure_check_1(PROJ_NAME):\n",
    "        print(fn)"
   ]
  },
  {
   "cell_type": "code",
   "execution_count": null,
   "id": "56e96495-4cfc-4c7c-b1fe-4cc2d181a586",
   "metadata": {
    "tags": []
   },
   "outputs": [],
   "source": [
    "# _ = os.system('wc -l */*.srt | sort -r')"
   ]
  },
  {
   "cell_type": "code",
   "execution_count": null,
   "id": "7eb3ad7d-7a52-4d7f-8fb1-7d1b387e68c8",
   "metadata": {
    "tags": []
   },
   "outputs": [],
   "source": [
    "def whisper_failure_check_2(insrtdir):\n",
    "    fn_return = []\n",
    "    file_list = os.listdir(insrtdir)\n",
    "    # get file list\n",
    "    pathfname_list = []\n",
    "    for fname in file_list:\n",
    "        #if not fname[-4:] == '.whisper.log':\n",
    "        if not fname[-4:] == '.srt':\n",
    "            continue\n",
    "        else:\n",
    "            pathfname = insrtdir + fname\n",
    "            pathfname_list.append(pathfname)\n",
    "    for pathfname in pathfname_list:\n",
    "        # print('----    %s    ----' % pathfname)\n",
    "        with open(pathfname, 'r') as fp:\n",
    "            lines_curr = [ _.strip() for _ in fp.readlines() ]\n",
    "        fp.close()\n",
    "        lines_curr = lines_curr[2::4]\n",
    "        trail_curr = lines_curr[-20:]\n",
    "        text_tmp = ' '.join(trail_curr)\n",
    "        if '阿門' not in text_tmp \\\n",
    "            and '阿們' not in text_tmp \\\n",
    "            and '祈禱' not in text_tmp \\\n",
    "            and '禱告' not in text_tmp \\\n",
    "            and '但願' not in text_tmp \\\n",
    "            and '願神' not in text_tmp \\\n",
    "            and '求主' not in text_tmp \\\n",
    "            and '幫助' not in text_tmp \\\n",
    "            and '最後' not in text_tmp \\\n",
    "            and '最後' not in text_tmp \\\n",
    "            and '保守' not in text_tmp \\\n",
    "            and '我們' not in text_tmp \\\n",
    "            and '停在這' not in text_tmp \\\n",
    "            and '奉耶穌' not in text_tmp:\n",
    "            #print(pathfname)\n",
    "            fn_return.append(pathfname)\n",
    "    return fn_return"
   ]
  },
  {
   "cell_type": "code",
   "execution_count": null,
   "id": "67c978af-acf5-4a78-bc5f-8560480f99f0",
   "metadata": {
    "tags": []
   },
   "outputs": [],
   "source": [
    "for PROJ_NAME in ['./ACSMHK/', './CBI/', './CGST/', './FVC/', './JNG/', './WWBS/', './YFCX/']:\n",
    "    for fn in whisper_failure_check_2(PROJ_NAME):\n",
    "        print(fn)"
   ]
  },
  {
   "cell_type": "code",
   "execution_count": null,
   "id": "a0d074ef-f334-4593-ab01-f49add87fda7",
   "metadata": {},
   "outputs": [],
   "source": []
  },
  {
   "cell_type": "code",
   "execution_count": null,
   "id": "4c2c5b31-0da8-4439-8bf7-03ede29248c9",
   "metadata": {},
   "outputs": [],
   "source": []
  }
 ],
 "metadata": {
  "kernelspec": {
   "display_name": "Python 3 (ipykernel)",
   "language": "python",
   "name": "python3"
  },
  "language_info": {
   "codemirror_mode": {
    "name": "ipython",
    "version": 3
   },
   "file_extension": ".py",
   "mimetype": "text/x-python",
   "name": "python",
   "nbconvert_exporter": "python",
   "pygments_lexer": "ipython3",
   "version": "3.10.10"
  }
 },
 "nbformat": 4,
 "nbformat_minor": 5
}
